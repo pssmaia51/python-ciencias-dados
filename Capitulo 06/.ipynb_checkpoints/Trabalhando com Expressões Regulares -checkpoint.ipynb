{
 "cells": [
  {
   "cell_type": "markdown",
   "id": "79cf4ac3",
   "metadata": {},
   "source": [
    "# Trabalhando com Expressões Regulares em Python"
   ]
  },
  {
   "cell_type": "markdown",
   "id": "37a536a1",
   "metadata": {},
   "source": [
    "#### Expresões regulares são padrões usados para combinar ou encontrar ocorrencia de sequencias de caracteres em uma strig\n",
    "#### Em Python expressões regulares são geralmente usadas para manipular strins e realizar tarefas como validação de entrada\n",
    "#### de dados, extração de informações de strins e substituição de texto"
   ]
  },
  {
   "cell_type": "code",
   "execution_count": 1,
   "id": "4b27adbd",
   "metadata": {},
   "outputs": [],
   "source": [
    "import re"
   ]
  },
  {
   "cell_type": "code",
   "execution_count": 5,
   "id": "9afe5b5c",
   "metadata": {},
   "outputs": [
    {
     "name": "stdout",
     "output_type": "stream",
     "text": [
      " O caracter '@' aparece 2 vezes no texto\n"
     ]
    }
   ],
   "source": [
    "# Exressão regular para contar quantas vezes o caracter @ aparece no texto\n",
    "texto = \"Meu e-mail e exemplo@gmail.com e voce pode me contatar em outro_email@yahoo.com\"\n",
    "resultado = len(re.findall(\"@\", texto))\n",
    "print(\" O caracter '@' aparece\", resultado, \"vezes no texto\")"
   ]
  },
  {
   "cell_type": "code",
   "execution_count": 13,
   "id": "96d93d37",
   "metadata": {},
   "outputs": [
    {
     "name": "stdout",
     "output_type": "stream",
     "text": [
      "A palavra apos a palavra voce é:  pode\n"
     ]
    }
   ],
   "source": [
    "# Expressão regular para extrair a palavra que aparece apos a palavra VOCE no texto\n",
    "resultado = re.findall(r'voce (\\w+)', texto)\n",
    "print(\"A palavra apos a palavra voce é: \", resultado[0])"
   ]
  },
  {
   "cell_type": "markdown",
   "id": "1283ca40",
   "metadata": {},
   "source": [
    "##### O r antes da string que representa a expressão regular em Python e usado para indicar que a string e uma string literal\n",
    "##### Isso significa que as barras invertidas (\\) não são interpletadas como caracter de escape, ais são incluidas na expressão\n",
    "#### regular como parte do padrão"
   ]
  },
  {
   "cell_type": "code",
   "execution_count": 18,
   "id": "94d6bbcb",
   "metadata": {},
   "outputs": [
    {
     "name": "stdout",
     "output_type": "stream",
     "text": [
      "['exemplo@gmail.com', 'outro_email@yahoo.com']\n"
     ]
    }
   ],
   "source": [
    "# Expressão regular para extrair endereço de email de uma string\n",
    "emails = re.findall(r'\\b[a-zA-Z0-9._%+-]+@[a-zA-Z0-9.-]+\\.[a-zA-Z]{2,}\\b', texto)\n",
    "print(emails)"
   ]
  },
  {
   "cell_type": "code",
   "execution_count": 19,
   "id": "7ddee4e8",
   "metadata": {},
   "outputs": [
    {
     "name": "stdout",
     "output_type": "stream",
     "text": [
      "['exemplo@gmail.com', 'outro_email@yahoo.com']\n"
     ]
    }
   ],
   "source": [
    "# Exemplo dois\n",
    "email_pattern = r'[a-zA-Z0-9._%+-]+@[a-zA-Z0-9.-]+\\.[a-zA-Z]{2,}'\n",
    "\n",
    "# Buscar todos os emails na string\n",
    "emails = re.findall(email_pattern, texto)\n",
    "\n",
    "# Exibir os emails encontrados\n",
    "print(emails)"
   ]
  },
  {
   "cell_type": "code",
   "execution_count": 14,
   "id": "73b4b5c8",
   "metadata": {},
   "outputs": [],
   "source": [
    "text = \"O aluno estava incrivimente perdido, mais encontrou a DSA e rapidamente começou a aprender\""
   ]
  },
  {
   "cell_type": "code",
   "execution_count": 16,
   "id": "41f885da",
   "metadata": {},
   "outputs": [
    {
     "name": "stdout",
     "output_type": "stream",
     "text": [
      "15-27: incrivimente\n",
      "60-71: rapidamente\n"
     ]
    }
   ],
   "source": [
    "# Extraindo os adverbios de uma frase\n",
    "for m in re.finditer(r\"\\w+mente\\b\", text):\n",
    "    print('%02d-%02d: %s' % (m.start(), m.end(), m.group(0)))"
   ]
  },
  {
   "cell_type": "markdown",
   "id": "28802707",
   "metadata": {},
   "source": [
    "# REGEX coM CHATGTP\n",
    "### Música Tempo Perdido\n",
    "### Legião Urbana"
   ]
  },
  {
   "cell_type": "code",
   "execution_count": 21,
   "id": "166b7caf",
   "metadata": {},
   "outputs": [],
   "source": [
    "musica =  '''\n",
    "Todos os dias quando acordo\n",
    "Não tenho mais\n",
    "O tempo que passou\n",
    "Mas tenho muito tempo\n",
    "Temos todo o tempo do mundo\n",
    "Todos os dias\n",
    "Antes de dormir\n",
    "Lembro e esqueço\n",
    "Como foi o dia\n",
    "Sempre em frente\n",
    "Não temos tempo a perder\n",
    "Nosso suor sagrado\n",
    "É bem mais belo\n",
    "Que esse sangue amargo\n",
    "E tão sério\n",
    "E selvagem! Selvagem!\n",
    "Selvagem!\n",
    "Veja o sol\n",
    "Dessa manhã tão cinza\n",
    "A tempestade que chega\n",
    "É da cor dos teus olhos\n",
    "Castanhos\n",
    "Então me abraça forte\n",
    "E diz mais uma vez\n",
    "Que já estamos\n",
    "Distantes de tudo\n",
    "Temos nosso próprio tempo\n",
    "Temos nosso próprio tempo\n",
    "Temos nosso próprio tempo\n",
    "Não tenho medo do escuro\n",
    "Mas deixe as luzes\n",
    "Acesas agora\n",
    "O que foi escondido\n",
    "É o que se escondeu\n",
    "E o que foi prometido\n",
    "Ninguém prometeu\n",
    "Nem foi tempo perdido\n",
    "Somos tão jovens\n",
    "Tão jovens! Tão jovens!\n",
    "'''"
   ]
  },
  {
   "cell_type": "code",
   "execution_count": 22,
   "id": "88c99b57",
   "metadata": {},
   "outputs": [
    {
     "name": "stdout",
     "output_type": "stream",
     "text": [
      "\n",
      "Todos os dias quando acordo\n",
      "Não tenho mais\n",
      "O tempo que passou\n",
      "Mas tenho muito tempo\n",
      "Temos todo o tempo do mundo\n",
      "Todos os dias\n",
      "Antes de dormir\n",
      "Lembro e esqueço\n",
      "Como foi o dia\n",
      "Sempre em frente\n",
      "Não temos tempo a perder\n",
      "Nosso suor sagrado\n",
      "É bem mais belo\n",
      "Que esse sangue amargo\n",
      "E tão sério\n",
      "E selvagem! Selvagem!\n",
      "Selvagem!\n",
      "Veja o sol\n",
      "Dessa manhã tão cinza\n",
      "A tempestade que chega\n",
      "É da cor dos teus olhos\n",
      "Castanhos\n",
      "Então me abraça forte\n",
      "E diz mais uma vez\n",
      "Que já estamos\n",
      "Distantes de tudo\n",
      "Temos nosso próprio tempo\n",
      "Temos nosso próprio tempo\n",
      "Temos nosso próprio tempo\n",
      "Não tenho medo do escuro\n",
      "Mas deixe as luzes\n",
      "Acesas agora\n",
      "O que foi escondido\n",
      "É o que se escondeu\n",
      "E o que foi prometido\n",
      "Ninguém prometeu\n",
      "Nem foi tempo perdido\n",
      "Somos tão jovens\n",
      "Tão jovens! Tão jovens!\n",
      "\n"
     ]
    }
   ],
   "source": [
    "print(musica)"
   ]
  },
  {
   "cell_type": "code",
   "execution_count": 32,
   "id": "54c12830",
   "metadata": {},
   "outputs": [
    {
     "name": "stdout",
     "output_type": "stream",
     "text": [
      "O caractere 'a' aparece 3 vezes na letra da música.\n"
     ]
    }
   ],
   "source": [
    "# Crie um REGEX para contar quantas vezes o caracter A aparece em todo o texto de musica \n",
    "# Exemplo 01\n",
    "# Diferenciando maiuscula de minusculas\n",
    "match = re.findall(\"a\", musica)\n",
    "count = len(match)\n",
    "print(f\"O caractere 'a' aparece {count} vezes na letra da música.\")"
   ]
  },
  {
   "cell_type": "code",
   "execution_count": 33,
   "id": "28b571d9",
   "metadata": {},
   "outputs": [
    {
     "name": "stdout",
     "output_type": "stream",
     "text": [
      "O caractere 'a' aparece 39 vezes na letra da música.\n"
     ]
    }
   ],
   "source": [
    "# Crie um REGEX para contar quantas vezes o caracter A aparece em todo o texto de musica \n",
    "# Exemplo 02\n",
    "# Diferenciando maiuscula de minusculas\n",
    "\n",
    "resultado1 = len(re.findall(\"a\", musica))\n",
    "print(f\"O caractere 'a' aparece {resultado1} vezes na letra da música.\")"
   ]
  },
  {
   "cell_type": "code",
   "execution_count": 23,
   "id": "4c3b6a23",
   "metadata": {},
   "outputs": [
    {
     "name": "stdout",
     "output_type": "stream",
     "text": [
      "O caractere 'a' aparece 42 vezes na letra da música.\n"
     ]
    }
   ],
   "source": [
    "# Crie um REGEX para contar quantas vezes o caracter A aparece em todo o texto de musica \n",
    "\n",
    "# Expressão regular para encontrar todas as ocorrências do caractere 'a'\n",
    "# O padrão '(?i)a' faz a busca sem diferenciar maiúsculas de minúsculas.\n",
    "# Exemplo 3\n",
    "contador_a = len(re.findall(r'(?i)a', musica))\n",
    "\n",
    "# Exibir o número de ocorrências do caractere 'a'\n",
    "print(f\"O caractere 'a' aparece {contador_a} vezes na letra da música.\")"
   ]
  },
  {
   "cell_type": "code",
   "execution_count": 28,
   "id": "5a50c2c1",
   "metadata": {},
   "outputs": [
    {
     "name": "stdout",
     "output_type": "stream",
     "text": [
      "A palavra 'TEMPO' aparece 8 vezes na letra da música.\n"
     ]
    }
   ],
   "source": [
    "# Crie um REGEX para contar quantas vezes a palavra TEMPO aparece em todo o texto de musica \n",
    "#Exemplo 01\n",
    "\n",
    "# Expressão regular para encontrar todas as ocorrências da palavra \"TEMPO\"\n",
    "# O padrão r'\\btempo\\b' faz a busca exata da palavra, sem diferenciar maiúsculas e minúsculas.\n",
    "contador_tempo = len(re.findall(r'(?i)\\btempo\\b', musica))\n",
    "\n",
    "# Exibir o número de ocorrências da palavra \"TEMPO\"\n",
    "print(f\"A palavra 'TEMPO' aparece {contador_tempo} vezes na letra da música.\")\n"
   ]
  },
  {
   "cell_type": "code",
   "execution_count": 34,
   "id": "06763578",
   "metadata": {},
   "outputs": [
    {
     "name": "stdout",
     "output_type": "stream",
     "text": [
      "A palavra TEMPO aparece 8 vezes na letra da música.\n"
     ]
    }
   ],
   "source": [
    "# Crie um REGEX para contar quantas vezes a palavra TEMPO aparece em todo o texto de musica \n",
    "#Exemplo 02\n",
    "\n",
    "# Expressão regular para encontrar todas as ocorrências da palavra \"TEMPO\"\n",
    "# Diferenciando maiscula de minuscula\n",
    "\n",
    "match = re.findall(r\"\\btempo\\b\", musica)\n",
    "count = len(match)\n",
    "print(f\"A palavra TEMPO aparece {count} vezes na letra da música.\")\n"
   ]
  },
  {
   "cell_type": "code",
   "execution_count": 37,
   "id": "bad45496",
   "metadata": {},
   "outputs": [
    {
     "name": "stdout",
     "output_type": "stream",
     "text": [
      "A palavra TEMPO aparece 8 vezes na musica\n"
     ]
    }
   ],
   "source": [
    "# Crie um REGEX para contar quantas vezes a palavra TEMPO aparece em todo o texto de musica \n",
    "#Exemplo 32\n",
    "\n",
    "# Expressão regular para encontrar todas as ocorrências da palavra \"TEMPO\"\n",
    "# Diferenciando maiscula de minuscula\n",
    "\n",
    "resultado2 = len(re.findall(\"tempo\", musica))\n",
    "print(\"A palavra TEMPO aparece\", resultado2, \"vezes na musica\")"
   ]
  },
  {
   "cell_type": "code",
   "execution_count": 38,
   "id": "ce694bad",
   "metadata": {},
   "outputs": [
    {
     "name": "stdout",
     "output_type": "stream",
     "text": [
      "['selvagem!', 'Selvagem!', 'Selvagem!', 'jovens!', 'jovens!']\n"
     ]
    }
   ],
   "source": [
    "# Crie um REGEX para extrair as palavras seguidas de exclamação\n",
    "\n",
    "# Expressão regular para encontrar palavras seguidas de exclamação\n",
    "# O padrão r'\\b\\w+!' captura uma palavra completa seguida de um ponto de exclamação.\n",
    "palavras_com_exclamacao = re.findall(r'\\b\\w+!', musica)\n",
    "\n",
    "# Exibir as palavras encontradas\n",
    "print(palavras_com_exclamacao)"
   ]
  },
  {
   "cell_type": "code",
   "execution_count": 41,
   "id": "8faf5f33",
   "metadata": {},
   "outputs": [
    {
     "name": "stdout",
     "output_type": "stream",
     "text": [
      " A palavras seguidas por exclamação são:  ['selvagem!', 'Selvagem!', 'Selvagem!', 'jovens!', 'jovens!']\n"
     ]
    }
   ],
   "source": [
    "# Expressão regular para encontrar palavras seguidas de exclamação\n",
    "# O padrão r'\\b\\w+!' captura uma palavra completa seguida de um ponto de exclamação.\n",
    "palavras_com_exclamacao = re.findall(r'\\b\\w+!', musica)\n",
    "\n",
    "# Exibir as palavras encontradas\n",
    "print(\" A palavras seguidas por exclamação são: \", palavras_com_exclamacao)"
   ]
  },
  {
   "cell_type": "code",
   "execution_count": 42,
   "id": "1f132457",
   "metadata": {},
   "outputs": [
    {
     "name": "stdout",
     "output_type": "stream",
     "text": [
      "['sangue']\n"
     ]
    }
   ],
   "source": [
    "# Crie um REGEX para extrair qualquer palavra cujo o antecessor seja a palavra esse e o \n",
    "# sucessor seja a palavra amargo em um texto\n",
    "# Exemplo 01\n",
    "# Expressão regular para encontrar palavras entre \"esse\" e \"amargo\"\n",
    "# O padrão r'esse\\s+(\\w+)\\s+amargo' captura a palavra que está entre \"esse\" e \"amargo\".\n",
    "\n",
    "padrao = r'esse\\s+(\\w+)\\s+amargo'\n",
    "\n",
    "# Extrair as palavras encontradas\n",
    "palavras_entre_esse_amargo = re.findall(padrao, musica)\n",
    "\n",
    "# Exibir as palavras encontradas\n",
    "print(palavras_entre_esse_amargo)\n",
    "\n"
   ]
  },
  {
   "cell_type": "code",
   "execution_count": 50,
   "id": "6521df05",
   "metadata": {},
   "outputs": [
    {
     "name": "stdout",
     "output_type": "stream",
     "text": [
      "Palavra(s) encontrada(s):  ['sangue']\n"
     ]
    }
   ],
   "source": [
    "# Crie um REGEX para extrair qualquer palavra cujo o antecessor seja a palavra esse e o \n",
    "# sucessor seja a palavra amargo em um texto\n",
    "# Exemplo 02\n",
    "\n",
    "resultado4 = re.findall(r'esse\\s(\\w+)\\samargo', musica)\n",
    "print(\"Palavra(s) encontrada(s): \", resultado4)"
   ]
  },
  {
   "cell_type": "code",
   "execution_count": 51,
   "id": "8966a953",
   "metadata": {},
   "outputs": [
    {
     "name": "stdout",
     "output_type": "stream",
     "text": [
      "Palavras entre \"esse\" e \"amargo e:  ['sangue']\n"
     ]
    }
   ],
   "source": [
    "# Crie um REGEX para extrair qualquer palavra cujo o antecessor seja a palavra esse e o \n",
    "# sucessor seja a palavra amargo em um texto\n",
    "# Exemplo 03\n",
    "\n",
    "resultado = re.findall(r\"\\besse\\s(\\w+)\\samargo\\b\", musica)\n",
    "\n",
    "print('Palavras entre \"esse\" e \"amargo e: ', resultado)"
   ]
  },
  {
   "cell_type": "code",
   "execution_count": 53,
   "id": "47c3e913",
   "metadata": {},
   "outputs": [
    {
     "name": "stdout",
     "output_type": "stream",
     "text": [
      "Partes das palavras com acento: ['', 's', '', 'j', 'pr', 'pr', 'pr', '', 'Ningu']\n"
     ]
    }
   ],
   "source": [
    "# Crie um REGEX que retorne as palavras com acento, mais somente os caracteres na palavra que são anteriores \n",
    "# ao caracter com acento\n",
    "\n",
    "# Exemplo1\n",
    "\n",
    "padrao = r'\\b(\\w*?)[áéíóúÁÉÍÓÚ]'\n",
    "\n",
    "# Extrair as partes das palavras antes dos caracteres acentuados\n",
    "resultado6 = re.findall(padrao, musica)\n",
    "\n",
    "# Exibir as partes das palavras encontradas\n",
    "print(\"Partes das palavras com acento:\", resultado6)"
   ]
  },
  {
   "cell_type": "code",
   "execution_count": 43,
   "id": "3de6bb96",
   "metadata": {},
   "outputs": [
    {
     "name": "stdout",
     "output_type": "stream",
     "text": [
      "['N', 'esque', 'N', '', 't', 's', 'manh', 't', '', 'Ent', 'abra', 'j', 'pr', 'pr', 'pr', 'N', '', 'Ningu', 't', 'T', 'T']\n"
     ]
    }
   ],
   "source": [
    "# Crie um REGEX que retorne as palavras com acento, mais somente os caracteres na palavra que são anteriores \n",
    "# ao caracter com acento\n",
    "\n",
    "# Exempl2\n",
    "\n",
    "# Expressão regular para encontrar as partes de palavras antes de um caractere acentuado\n",
    "padrao = r'\\b(\\w*?)[\\u00C0-\\u00FF]'\n",
    "\n",
    "# Extrair as partes das palavras antes dos caracteres acentuados\n",
    "partes_palavras_antes_acento = re.findall(padrao, musica)\n",
    "\n",
    "# Exibir as partes das palavras encontradas\n",
    "print(partes_palavras_antes_acento)"
   ]
  },
  {
   "cell_type": "code",
   "execution_count": 58,
   "id": "a83d3257",
   "metadata": {},
   "outputs": [
    {
     "name": "stdout",
     "output_type": "stream",
     "text": [
      "As palavras acentuadas são: ['Não', 'esqueço', 'Não', 'É', 'tão', 'sério', 'manhã', 'tão', 'É', 'Então', 'abraça', 'já', 'próprio', 'próprio', 'próprio', 'Não', 'É', 'Ninguém', 'tão', 'Tão', 'Tão']\n"
     ]
    }
   ],
   "source": [
    "#Exemplo 3\n",
    "resultado7 = re.findall(r'\\b[\\wÀ-ÿ]*[áéíóúâêîôûãõçÁÉÍÓÚÂÊÎÔÛÃÕÇ]\\w*\\b', musica)\n",
    "\n",
    "print(\"As palavras acentuadas são:\", resultado7)\n"
   ]
  },
  {
   "cell_type": "code",
   "execution_count": null,
   "id": "8fcd6bcc",
   "metadata": {},
   "outputs": [],
   "source": []
  }
 ],
 "metadata": {
  "kernelspec": {
   "display_name": "Python 3 (ipykernel)",
   "language": "python",
   "name": "python3"
  },
  "language_info": {
   "codemirror_mode": {
    "name": "ipython",
    "version": 3
   },
   "file_extension": ".py",
   "mimetype": "text/x-python",
   "name": "python",
   "nbconvert_exporter": "python",
   "pygments_lexer": "ipython3",
   "version": "3.9.13"
  }
 },
 "nbformat": 4,
 "nbformat_minor": 5
}
