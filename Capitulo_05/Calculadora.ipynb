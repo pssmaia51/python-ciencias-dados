{
 "cells": [
  {
   "cell_type": "code",
   "execution_count": null,
   "id": "5629f544",
   "metadata": {},
   "outputs": [
    {
     "name": "stdout",
     "output_type": "stream",
     "text": [
      "\n",
      "******************* Calculadora em Python Lab02 *******************\n",
      "Selecione a operação:\n",
      "1. Soma\n",
      "2. Subtração\n",
      "3. Multiplicação\n",
      "4. Divisão\n"
     ]
    }
   ],
   "source": [
    "print(\"\\n******************* Calculadora em Python Lab02 *******************\")\n",
    "# Definindo funções de operações\n",
    "def soma(x, y):\n",
    "    return x + y\n",
    "\n",
    "def subtracao(x, y):\n",
    "    return x - y\n",
    "\n",
    "def multiplicacao(x, y):\n",
    "    return x * y\n",
    "\n",
    "# Aqui verifica se a divisão e diferente de zero, se for divisão por zero exibe msn, se não divide\n",
    "def divisao(x, y):\n",
    "    if y != 0:\n",
    "        return x / y\n",
    "    else:\n",
    "        return \"Erro: Divisão por zero!\"\n",
    "\n",
    "# Exibe opçãoes do menu\n",
    "def calculadora():\n",
    "    print(\"Selecione a operação:\")\n",
    "    print(\"1. Soma\")\n",
    "    print(\"2. Subtração\")\n",
    "    print(\"3. Multiplicação\")\n",
    "    print(\"4. Divisão\")\n",
    "    \n",
    "    # pede que digite a operação que deseja realizar\n",
    "    escolha = input(\"Digite sua escolha de 1 a 4: \")\n",
    "\n",
    "    if escolha in ['1', '2', '3', '4']:\n",
    "        num1 = float(input(\"Digite o primeiro número: \"))\n",
    "        num2 = float(input(\"Digite o segundo número: \"))\n",
    "\n",
    "        # Operação de Soma\n",
    "        if escolha == '1':\n",
    "            print(f\"Resultado: {num1} + {num2} = {soma(num1, num2)}\")\n",
    "        # Operação de Subtração\n",
    "        elif escolha == '2':\n",
    "            print(f\"Resultado: {num1} - {num2} = {subtracao(num1, num2)}\")\n",
    "        # Operação de Multiplicação\n",
    "        elif escolha == '3':\n",
    "            print(f\"Resultado: {num1} * {num2} = {multiplicacao(num1, num2)}\")\n",
    "        # Operação de divisão\n",
    "        elif escolha == '4':\n",
    "            print(f\"Resultado: {num1} / {num2} = {divisao(num1, num2)}\")\n",
    "    else:\n",
    "        # se a escolha for diferente de alguma do menu retorna a msn de escolha invalida \n",
    "        print(\"Escolha inválida. Por favor, selecione uma opção entre 1 e 4.\")\n",
    "\n",
    "# Executa a calculadora\n",
    "calculadora()"
   ]
  }
 ],
 "metadata": {
  "kernelspec": {
   "display_name": "Python 3 (ipykernel)",
   "language": "python",
   "name": "python3"
  },
  "language_info": {
   "codemirror_mode": {
    "name": "ipython",
    "version": 3
   },
   "file_extension": ".py",
   "mimetype": "text/x-python",
   "name": "python",
   "nbconvert_exporter": "python",
   "pygments_lexer": "ipython3",
   "version": "3.9.13"
  }
 },
 "nbformat": 4,
 "nbformat_minor": 5
}
