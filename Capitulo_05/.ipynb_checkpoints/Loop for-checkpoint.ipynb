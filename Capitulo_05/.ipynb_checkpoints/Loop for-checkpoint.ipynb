{
 "cells": [
  {
   "cell_type": "markdown",
   "id": "daf26212",
   "metadata": {},
   "source": [
    "## Maia's Informatica - Soluções - Projetos e Consultoria\n",
    "### Fundamentos da Linguagem Python para Ciencias de dados \n",
    "#### Loop For "
   ]
  },
  {
   "cell_type": "code",
   "execution_count": 2,
   "id": "55a1588a",
   "metadata": {},
   "outputs": [
    {
     "name": "stdout",
     "output_type": "stream",
     "text": [
      "2\n",
      "3\n",
      "4\n"
     ]
    },
    {
     "data": {
      "text/plain": [
       "tuple"
      ]
     },
     "execution_count": 2,
     "metadata": {},
     "output_type": "execute_result"
    }
   ],
   "source": [
    "# Criando uma tupla (fica entre parenteses)e imprimindo cad um dos valores\n",
    "\n",
    "tp = (2,3,4)\n",
    "for i in tp:\n",
    "    print(i)\n",
    "type(tp) "
   ]
  },
  {
   "cell_type": "code",
   "execution_count": 6,
   "id": "d0b40122",
   "metadata": {},
   "outputs": [
    {
     "name": "stdout",
     "output_type": "stream",
     "text": [
      "Data\n",
      "Sciency\n",
      "Academy\n"
     ]
    }
   ],
   "source": [
    "# Criando uma lista (Lista fica entre chaves) e impriminda cada um dos valores\n",
    "\n",
    "ListaDeString = [\"Data\", \"Sciency\", \"Academy\"]\n",
    "for i in ListaDeString:\n",
    "    print(i)\n"
   ]
  },
  {
   "cell_type": "code",
   "execution_count": 7,
   "id": "ae8fa80c",
   "metadata": {},
   "outputs": [
    {
     "name": "stdout",
     "output_type": "stream",
     "text": [
      "0\n",
      "1\n",
      "2\n",
      "3\n",
      "4\n"
     ]
    }
   ],
   "source": [
    "# Imprimendo valor de uma ranger de 0...5\n",
    "\n",
    "for contador in range (0,5):\n",
    "    print(contador)\n"
   ]
  },
  {
   "cell_type": "code",
   "execution_count": 10,
   "id": "1b7bce95",
   "metadata": {},
   "outputs": [
    {
     "name": "stdout",
     "output_type": "stream",
     "text": [
      "2\n",
      "4\n",
      "6\n",
      "8\n",
      "10\n"
     ]
    }
   ],
   "source": [
    "# imprimindo numeros para de uma lista de numeros\n",
    "\n",
    "Lista = [1,2,3,4,5,6,7,8,9,10]\n",
    "\n",
    "for num in Lista:\n",
    "    if num % 2 == 0:\n",
    "        print(num)"
   ]
  },
  {
   "cell_type": "code",
   "execution_count": 11,
   "id": "a1691d50",
   "metadata": {},
   "outputs": [
    {
     "name": "stdout",
     "output_type": "stream",
     "text": [
      "0\n",
      "2\n",
      "4\n",
      "6\n",
      "8\n",
      "10\n",
      "12\n",
      "14\n",
      "16\n",
      "18\n",
      "20\n",
      "22\n",
      "24\n",
      "26\n",
      "28\n",
      "30\n",
      "32\n",
      "34\n",
      "36\n",
      "38\n",
      "40\n",
      "42\n",
      "44\n",
      "46\n",
      "48\n",
      "50\n",
      "52\n",
      "54\n",
      "56\n",
      "58\n",
      "60\n",
      "62\n",
      "64\n",
      "66\n",
      "68\n",
      "70\n",
      "72\n",
      "74\n",
      "76\n",
      "78\n",
      "80\n",
      "82\n",
      "84\n",
      "86\n",
      "88\n",
      "90\n",
      "92\n",
      "94\n",
      "96\n",
      "98\n",
      "100\n"
     ]
    }
   ],
   "source": [
    "# Imprimendo lista de numeros de 0 a 101 com incremento de 2\n",
    "\n",
    "for contador in range (0,101,2):\n",
    "    print(contador)"
   ]
  },
  {
   "cell_type": "code",
   "execution_count": 12,
   "id": "d7501501",
   "metadata": {},
   "outputs": [
    {
     "name": "stdout",
     "output_type": "stream",
     "text": [
      "P\n",
      "y\n",
      "t\n",
      "h\n",
      "o\n",
      "n\n",
      " \n",
      "e\n",
      " \n",
      "u\n",
      "m\n",
      "a\n",
      " \n",
      "l\n",
      "i\n",
      "n\n",
      "g\n",
      "u\n",
      "a\n",
      "g\n",
      "e\n",
      "m\n",
      " \n",
      "d\n",
      "e\n",
      " \n",
      "p\n",
      "r\n",
      "o\n",
      "g\n",
      "r\n",
      "a\n",
      "m\n",
      "a\n",
      "ç\n",
      "ã\n",
      "o\n",
      " \n",
      "d\n",
      "i\n",
      "v\n",
      "e\n",
      "r\n",
      "t\n",
      "i\n",
      "d\n",
      "a\n"
     ]
    }
   ],
   "source": [
    "# Sequencia de strings\n",
    "\n",
    "for caracteres in 'Python e uma linguagem de programação divertida':\n",
    "    print(caracteres)\n"
   ]
  },
  {
   "cell_type": "markdown",
   "id": "ceb64358",
   "metadata": {},
   "source": [
    "### Loop alinhado\n"
   ]
  },
  {
   "cell_type": "code",
   "execution_count": 14,
   "id": "0a46c6b4",
   "metadata": {},
   "outputs": [
    {
     "name": "stdout",
     "output_type": "stream",
     "text": [
      "\n",
      " 0\n",
      "\n",
      " 0\n",
      "\n",
      " 0\n",
      "-------\n",
      "\n",
      " 1\n",
      "\n",
      " 2\n",
      "\n",
      " 3\n",
      "-------\n",
      "\n",
      " 2\n",
      "\n",
      " 4\n",
      "\n",
      " 6\n",
      "-------\n",
      "\n",
      " 3\n",
      "\n",
      " 6\n",
      "\n",
      " 9\n",
      "-------\n",
      "\n",
      " 4\n",
      "\n",
      " 8\n",
      "\n",
      " 12\n",
      "-------\n",
      "\n",
      " 5\n",
      "\n",
      " 10\n",
      "\n",
      " 15\n",
      "-------\n"
     ]
    }
   ],
   "source": [
    "lista1 = [0,1,2,3,4,5]\n",
    "lista2 = [1,2,3]\n",
    "\n",
    "    # Lopp externo\n",
    "for elemento_lista1 in lista1:\n",
    "    \n",
    "    # Loop interno\n",
    "    for elemento_lista2 in lista2:\n",
    "        print('\\n', elemento_lista1 * elemento_lista2)\n",
    "        \n",
    "    print('-------')\n",
    "\n"
   ]
  },
  {
   "cell_type": "code",
   "execution_count": 19,
   "id": "7e4338aa",
   "metadata": {},
   "outputs": [
    {
     "name": "stdout",
     "output_type": "stream",
     "text": [
      " O numero 47 aparece nas dua lista\n"
     ]
    }
   ],
   "source": [
    "# verificando repedição de lementos em duas lista\n",
    "\n",
    "lista1 = [10,16,24,39,47]\n",
    "lista2 = [32,89,47,76,12]\n",
    "\n",
    "for elemento_lista1 in lista1:\n",
    "    \n",
    "    # Loop interno\n",
    "    for elemento_lista2 in lista2:\n",
    "        \n",
    "        # Condição\n",
    "        if elemento_lista1 == 47 and elemento_lista2 == 47:\n",
    "            print(\" O numero 47 aparece nas dua lista\")      \n",
    "\n"
   ]
  },
  {
   "cell_type": "code",
   "execution_count": 27,
   "id": "b8ab5a7c",
   "metadata": {},
   "outputs": [
    {
     "name": "stdout",
     "output_type": "stream",
     "text": [
      "A soma dos numeros pares das duas listas e igaula à: 170\n"
     ]
    }
   ],
   "source": [
    "# Some os numeros pares da primeira lista com os numeros pares da segunda lista\n",
    "\n",
    "lista1 = [10,16,24,39,47]\n",
    "lista2 = [32,89,47,76,12]\n",
    "soma = 0\n",
    "\n",
    "for lista in [lista1, lista2]:\n",
    "    \n",
    "    # Loop interno\n",
    "    for num in lista:\n",
    "        \n",
    "        if num % 2 == 0:\n",
    "            soma +=num\n",
    "            \n",
    "print(\"A soma dos numeros pares das duas listas e igaula à:\", soma)\n",
    "        "
   ]
  },
  {
   "cell_type": "code",
   "execution_count": 23,
   "id": "c7185326",
   "metadata": {},
   "outputs": [
    {
     "data": {
      "text/plain": [
       "[10, 16, 24, 39, 47, 32, 89, 47, 76, 12]"
      ]
     },
     "execution_count": 23,
     "metadata": {},
     "output_type": "execute_result"
    }
   ],
   "source": [
    "# Concatenar listas\n",
    "lista1 + lista2"
   ]
  },
  {
   "cell_type": "code",
   "execution_count": 29,
   "id": "c8593186",
   "metadata": {},
   "outputs": [
    {
     "name": "stdout",
     "output_type": "stream",
     "text": [
      "A soma dos numeros parese:  170\n"
     ]
    }
   ],
   "source": [
    "# Some os numeros pares da primeira lista com os numeros pares da segunda lista\n",
    "\n",
    "lista1 = [10,16,24,39,47]\n",
    "lista2 = [32,89,47,76,12]\n",
    "soma = 0\n",
    "\n",
    "for num in lista1 + lista2:\n",
    "    if num % 2 == 0:\n",
    "        soma  += num\n",
    "print(\"A soma dos numeros parese: \", soma)"
   ]
  },
  {
   "cell_type": "code",
   "execution_count": 33,
   "id": "7cc10dfe",
   "metadata": {},
   "outputs": [
    {
     "name": "stdout",
     "output_type": "stream",
     "text": [
      "O maior número da lista é: 215\n"
     ]
    }
   ],
   "source": [
    "# Loop em matrizes para achar o maior numero\n",
    "\n",
    "matriz = [[42, 23, 34], [100, 215, 114], [10.1, 98.7, 12.3]]\n",
    "maior_numero = 0\n",
    "\n",
    "for linha in matriz:\n",
    "    \n",
    "    for num in linha:\n",
    "        \n",
    "        if num > maior_numero:\n",
    "            maior_numero = num\n",
    "            \n",
    "print('O maior número da lista é:', maior_numero)"
   ]
  },
  {
   "cell_type": "code",
   "execution_count": 39,
   "id": "6418055a",
   "metadata": {},
   "outputs": [
    {
     "name": "stdout",
     "output_type": "stream",
     "text": [
      "Chave: k1, Valor: Python\n",
      "Chave: k2, Valor: R\n",
      "Chave: k3, Valor: Scala\n"
     ]
    }
   ],
   "source": [
    "# Listanto as chaves de um dicionario\n",
    "dict = {'k1': 'Python', 'k2': 'R', 'k3': 'Scala'}\n",
    "\n",
    "for k, v in dict.items():\n",
    "    #print(k, v)\n",
    "\n",
    "#for key, value in dict.items():\n",
    "    print(f'Chave: {k}, Valor: {v}')\n"
   ]
  },
  {
   "cell_type": "code",
   "execution_count": null,
   "id": "cf3de075",
   "metadata": {},
   "outputs": [],
   "source": []
  }
 ],
 "metadata": {
  "kernelspec": {
   "display_name": "Python 3 (ipykernel)",
   "language": "python",
   "name": "python3"
  },
  "language_info": {
   "codemirror_mode": {
    "name": "ipython",
    "version": 3
   },
   "file_extension": ".py",
   "mimetype": "text/x-python",
   "name": "python",
   "nbconvert_exporter": "python",
   "pygments_lexer": "ipython3",
   "version": "3.9.13"
  }
 },
 "nbformat": 4,
 "nbformat_minor": 5
}
