{
 "cells": [
  {
   "cell_type": "markdown",
   "id": "0ac85a7d",
   "metadata": {},
   "source": [
    "# Criando Funções"
   ]
  },
  {
   "cell_type": "code",
   "execution_count": 3,
   "id": "84ee53f8",
   "metadata": {},
   "outputs": [],
   "source": [
    "# Definindo uma função\n",
    "def primeiraFunc():\n",
    "    print('Hello Word')"
   ]
  },
  {
   "cell_type": "code",
   "execution_count": 4,
   "id": "128447e8",
   "metadata": {},
   "outputs": [
    {
     "name": "stdout",
     "output_type": "stream",
     "text": [
      "Hello Word\n"
     ]
    }
   ],
   "source": [
    "primeiraFunc()"
   ]
  },
  {
   "cell_type": "code",
   "execution_count": 15,
   "id": "3bca84e7",
   "metadata": {},
   "outputs": [],
   "source": [
    "def primeiraFunc():\n",
    "    nome = 'Bob'\n",
    "    print('Hello %s' %(nome))        "
   ]
  },
  {
   "cell_type": "code",
   "execution_count": 16,
   "id": "d31b802c",
   "metadata": {},
   "outputs": [
    {
     "name": "stdout",
     "output_type": "stream",
     "text": [
      "Hello Bob\n"
     ]
    }
   ],
   "source": [
    "primeiraFunc()"
   ]
  },
  {
   "cell_type": "code",
   "execution_count": 17,
   "id": "f9a2d245",
   "metadata": {},
   "outputs": [],
   "source": [
    "def segundaFunc(nome):\n",
    "    print('Hello %s' %(nome))"
   ]
  },
  {
   "cell_type": "code",
   "execution_count": 18,
   "id": "e297c7f1",
   "metadata": {},
   "outputs": [
    {
     "name": "stdout",
     "output_type": "stream",
     "text": [
      "Hello Aluno\n"
     ]
    }
   ],
   "source": [
    "segundaFunc('Aluno')"
   ]
  },
  {
   "cell_type": "code",
   "execution_count": 25,
   "id": "d7808917",
   "metadata": {},
   "outputs": [],
   "source": [
    "# Função para imprimir numeros\n",
    "def imprimirNumeros():\n",
    "    for i in range(0, 5):\n",
    "        print('Numero ' + str(i)) "
   ]
  },
  {
   "cell_type": "code",
   "execution_count": 27,
   "id": "a6a213f7",
   "metadata": {},
   "outputs": [
    {
     "name": "stdout",
     "output_type": "stream",
     "text": [
      "Numero 0\n",
      "Numero 1\n",
      "Numero 2\n",
      "Numero 3\n",
      "Numero 4\n"
     ]
    }
   ],
   "source": [
    "imprimirNumeros()"
   ]
  },
  {
   "cell_type": "code",
   "execution_count": 28,
   "id": "066d0518",
   "metadata": {},
   "outputs": [],
   "source": [
    "# Função para somar numeros\n",
    "def addnum(firstnum, secundnum):\n",
    "    print('Primeiro Numero ' + str(firstnum))\n",
    "    print('Segundo Numero ' + str(secundnum))\n",
    "    print('Soma ' + str(firstnum + secundnum))"
   ]
  },
  {
   "cell_type": "code",
   "execution_count": 29,
   "id": "f5b68a44",
   "metadata": {},
   "outputs": [
    {
     "name": "stdout",
     "output_type": "stream",
     "text": [
      "Primeiro Numero 4\n",
      "Segundo Numero 7\n",
      "Soma 11\n"
     ]
    }
   ],
   "source": [
    "addnum(4, 7)"
   ]
  },
  {
   "cell_type": "code",
   "execution_count": 30,
   "id": "a51fd333",
   "metadata": {},
   "outputs": [
    {
     "name": "stdout",
     "output_type": "stream",
     "text": [
      "Primeiro Numero 45\n",
      "Segundo Numero 3\n",
      "Soma 48\n"
     ]
    }
   ],
   "source": [
    "addnum(45, 3)"
   ]
  },
  {
   "cell_type": "code",
   "execution_count": 59,
   "id": "081aaa67",
   "metadata": {},
   "outputs": [],
   "source": [
    "# Função com numeros variaveis de argumentos\n",
    "\n",
    "def prinVarInfo(arg1, *vartuple):    \n",
    "    print(\"O argumento passado foi: \", arg1)\n",
    "    for item in vartuple:\n",
    "        print(\"O parametro passado foi: \", item)"
   ]
  },
  {
   "cell_type": "code",
   "execution_count": 60,
   "id": "f3e25ab0",
   "metadata": {},
   "outputs": [
    {
     "name": "stdout",
     "output_type": "stream",
     "text": [
      "O argumento passado foi:  10\n"
     ]
    }
   ],
   "source": [
    "prinVarInfo(10)"
   ]
  },
  {
   "cell_type": "code",
   "execution_count": 61,
   "id": "59e838d2",
   "metadata": {},
   "outputs": [
    {
     "name": "stdout",
     "output_type": "stream",
     "text": [
      "O argumento passado foi:  10\n",
      "O parametro passado foi:  a\n",
      "O parametro passado foi:  b\n",
      "O parametro passado foi:  c\n"
     ]
    }
   ],
   "source": [
    "prinVarInfo(10, \"a\", \"b\", \"c\")"
   ]
  },
  {
   "cell_type": "code",
   "execution_count": 62,
   "id": "bfa28cde",
   "metadata": {},
   "outputs": [
    {
     "name": "stdout",
     "output_type": "stream",
     "text": [
      "O argumento passado foi:  Chocolate\n",
      "O parametro passado foi:  Morango\n"
     ]
    }
   ],
   "source": [
    "prinVarInfo('Chocolate', 'Morango')"
   ]
  },
  {
   "cell_type": "code",
   "execution_count": 63,
   "id": "87107b7e",
   "metadata": {},
   "outputs": [
    {
     "name": "stdout",
     "output_type": "stream",
     "text": [
      "O argumento passado foi:  Data\n",
      "O parametro passado foi:  Science\n",
      "O parametro passado foi:  Academy\n"
     ]
    }
   ],
   "source": [
    "prinVarInfo('Data', 'Science', 'Academy')"
   ]
  },
  {
   "cell_type": "markdown",
   "id": "fc3c283c",
   "metadata": {},
   "source": [
    "# Escopo de Variaveis Local ou Global"
   ]
  },
  {
   "cell_type": "code",
   "execution_count": 83,
   "id": "3a40f09b",
   "metadata": {},
   "outputs": [],
   "source": [
    "var_global = 10\n",
    "\n",
    "def multiplica_numeros(num1, num2):\n",
    "    var_local = num1 * num2\n",
    "    print(var_local)"
   ]
  },
  {
   "cell_type": "code",
   "execution_count": 85,
   "id": "0a56fdca",
   "metadata": {},
   "outputs": [
    {
     "name": "stdout",
     "output_type": "stream",
     "text": [
      "12\n"
     ]
    }
   ],
   "source": [
    "multiplica_numeros(3, 4)"
   ]
  },
  {
   "cell_type": "code",
   "execution_count": 86,
   "id": "802b997a",
   "metadata": {},
   "outputs": [
    {
     "ename": "NameError",
     "evalue": "name 'var_local' is not defined",
     "output_type": "error",
     "traceback": [
      "\u001b[1;31m---------------------------------------------------------------------------\u001b[0m",
      "\u001b[1;31mNameError\u001b[0m                                 Traceback (most recent call last)",
      "\u001b[1;32m~\\AppData\\Local\\Temp\\ipykernel_13668\\1392635205.py\u001b[0m in \u001b[0;36m<module>\u001b[1;34m\u001b[0m\n\u001b[1;32m----> 1\u001b[1;33m \u001b[0mprint\u001b[0m\u001b[1;33m(\u001b[0m\u001b[0mvar_local\u001b[0m\u001b[1;33m)\u001b[0m\u001b[1;33m\u001b[0m\u001b[1;33m\u001b[0m\u001b[0m\n\u001b[0m",
      "\u001b[1;31mNameError\u001b[0m: name 'var_local' is not defined"
     ]
    }
   ],
   "source": [
    "print(var_local)"
   ]
  },
  {
   "cell_type": "markdown",
   "id": "945e6825",
   "metadata": {},
   "source": [
    "### Funções Buit In"
   ]
  },
  {
   "cell_type": "code",
   "execution_count": 87,
   "id": "5c708f25",
   "metadata": {},
   "outputs": [
    {
     "data": {
      "text/plain": [
       "56"
      ]
     },
     "execution_count": 87,
     "metadata": {},
     "output_type": "execute_result"
    }
   ],
   "source": [
    "abs(-56)"
   ]
  },
  {
   "cell_type": "code",
   "execution_count": 88,
   "id": "f052344e",
   "metadata": {},
   "outputs": [
    {
     "data": {
      "text/plain": [
       "23"
      ]
     },
     "execution_count": 88,
     "metadata": {},
     "output_type": "execute_result"
    }
   ],
   "source": [
    "abs(23)"
   ]
  },
  {
   "cell_type": "code",
   "execution_count": 89,
   "id": "0aa384b2",
   "metadata": {},
   "outputs": [
    {
     "data": {
      "text/plain": [
       "False"
      ]
     },
     "execution_count": 89,
     "metadata": {},
     "output_type": "execute_result"
    }
   ],
   "source": [
    "bool(0)"
   ]
  },
  {
   "cell_type": "code",
   "execution_count": 90,
   "id": "4c6ecb5e",
   "metadata": {},
   "outputs": [
    {
     "data": {
      "text/plain": [
       "True"
      ]
     },
     "execution_count": 90,
     "metadata": {},
     "output_type": "execute_result"
    }
   ],
   "source": [
    "bool(1)"
   ]
  },
  {
   "cell_type": "code",
   "execution_count": 93,
   "id": "11cb1539",
   "metadata": {},
   "outputs": [
    {
     "data": {
      "text/plain": [
       "4"
      ]
     },
     "execution_count": 93,
     "metadata": {},
     "output_type": "execute_result"
    }
   ],
   "source": [
    "int(4.6)"
   ]
  },
  {
   "cell_type": "code",
   "execution_count": 94,
   "id": "a8896a43",
   "metadata": {},
   "outputs": [
    {
     "data": {
      "text/plain": [
       "'Paulo'"
      ]
     },
     "execution_count": 94,
     "metadata": {},
     "output_type": "execute_result"
    }
   ],
   "source": [
    "str('Paulo')"
   ]
  },
  {
   "cell_type": "code",
   "execution_count": 95,
   "id": "f9c43918",
   "metadata": {},
   "outputs": [
    {
     "data": {
      "text/plain": [
       "5.0"
      ]
     },
     "execution_count": 95,
     "metadata": {},
     "output_type": "execute_result"
    }
   ],
   "source": [
    "float(5)"
   ]
  },
  {
   "cell_type": "code",
   "execution_count": 99,
   "id": "ffed82f2",
   "metadata": {},
   "outputs": [
    {
     "name": "stdout",
     "output_type": "stream",
     "text": [
      "Digite sua idade: 12\n",
      "Seus pais  não decveriam deixar voce acessar redes sociais sem supervisão\n"
     ]
    }
   ],
   "source": [
    "# Erro de conversão\n",
    "idade = int(input('Digite sua idade: '))\n",
    "if idade >= 13:\n",
    "    print('Voce pode acessar redes sociais sem supervisão')\n",
    "else: \n",
    "    print('Seus pais  não decveriam deixar voce acessar redes sociais sem supervisão')"
   ]
  },
  {
   "cell_type": "code",
   "execution_count": 100,
   "id": "981b1468",
   "metadata": {},
   "outputs": [
    {
     "data": {
      "text/plain": [
       "23"
      ]
     },
     "execution_count": 100,
     "metadata": {},
     "output_type": "execute_result"
    }
   ],
   "source": [
    "int('23')"
   ]
  },
  {
   "cell_type": "code",
   "execution_count": 102,
   "id": "107b47ad",
   "metadata": {},
   "outputs": [
    {
     "data": {
      "text/plain": [
       "123.345"
      ]
     },
     "execution_count": 102,
     "metadata": {},
     "output_type": "execute_result"
    }
   ],
   "source": [
    "float('123.345')"
   ]
  },
  {
   "cell_type": "code",
   "execution_count": 103,
   "id": "6153c3a4",
   "metadata": {},
   "outputs": [
    {
     "data": {
      "text/plain": [
       "'14'"
      ]
     },
     "execution_count": 103,
     "metadata": {},
     "output_type": "execute_result"
    }
   ],
   "source": [
    "str(14)"
   ]
  },
  {
   "cell_type": "code",
   "execution_count": 104,
   "id": "ce1f1b7a",
   "metadata": {},
   "outputs": [
    {
     "data": {
      "text/plain": [
       "4"
      ]
     },
     "execution_count": 104,
     "metadata": {},
     "output_type": "execute_result"
    }
   ],
   "source": [
    "len([23,34,45,46])"
   ]
  },
  {
   "cell_type": "code",
   "execution_count": 107,
   "id": "6c3b21dd",
   "metadata": {},
   "outputs": [],
   "source": [
    "array = [1,2,3] "
   ]
  },
  {
   "cell_type": "code",
   "execution_count": 108,
   "id": "b87314f3",
   "metadata": {},
   "outputs": [
    {
     "data": {
      "text/plain": [
       "3"
      ]
     },
     "execution_count": 108,
     "metadata": {},
     "output_type": "execute_result"
    }
   ],
   "source": [
    "max(array)"
   ]
  },
  {
   "cell_type": "code",
   "execution_count": 109,
   "id": "a39d3f8c",
   "metadata": {},
   "outputs": [
    {
     "data": {
      "text/plain": [
       "1"
      ]
     },
     "execution_count": 109,
     "metadata": {},
     "output_type": "execute_result"
    }
   ],
   "source": [
    "min(array)"
   ]
  },
  {
   "cell_type": "code",
   "execution_count": 110,
   "id": "45c6014f",
   "metadata": {},
   "outputs": [],
   "source": [
    "list1=[16,23,44,75]"
   ]
  },
  {
   "cell_type": "code",
   "execution_count": 111,
   "id": "34aa30ee",
   "metadata": {},
   "outputs": [
    {
     "data": {
      "text/plain": [
       "158"
      ]
     },
     "execution_count": 111,
     "metadata": {},
     "output_type": "execute_result"
    }
   ],
   "source": [
    "sum(list1)"
   ]
  },
  {
   "cell_type": "markdown",
   "id": "ade55770",
   "metadata": {},
   "source": [
    "## Criando funções usando outras funções"
   ]
  },
  {
   "cell_type": "code",
   "execution_count": 112,
   "id": "3c15cef5",
   "metadata": {},
   "outputs": [],
   "source": [
    "import math"
   ]
  },
  {
   "cell_type": "code",
   "execution_count": 133,
   "id": "d2c2b315",
   "metadata": {},
   "outputs": [],
   "source": [
    "def numPrimo(num):\n",
    "    if (num % 2) == 0 and num > 2:\n",
    "        return 'Este numero não e primo'\n",
    "    for i in range (3, int(math.sqrt(num)) + 1, 2):\n",
    "        if (num % i) == 0:\n",
    "            return 'Este numero não e primo'\n",
    "        return 'Este numero e primo'"
   ]
  },
  {
   "cell_type": "code",
   "execution_count": 134,
   "id": "1ad9c7b3",
   "metadata": {},
   "outputs": [
    {
     "name": "stdout",
     "output_type": "stream",
     "text": [
      "Este numero e primo\n"
     ]
    }
   ],
   "source": [
    "print(numPrimo(127))"
   ]
  },
  {
   "cell_type": "code",
   "execution_count": 136,
   "id": "440c1379",
   "metadata": {},
   "outputs": [
    {
     "name": "stdout",
     "output_type": "stream",
     "text": [
      "Este numero não e primo\n"
     ]
    }
   ],
   "source": [
    "print(numPrimo(15))"
   ]
  },
  {
   "cell_type": "code",
   "execution_count": 128,
   "id": "d40aad8c",
   "metadata": {},
   "outputs": [],
   "source": [
    "import math\n",
    "\n",
    "def numPrimo(num):\n",
    "    if num <= 1:\n",
    "        return 'Este número não é primo'\n",
    "    if num == 2:\n",
    "        return 'Este número é primo'\n",
    "    if (num % 2) == 0:\n",
    "        return 'Este número não é primo'\n",
    "    \n",
    "    for i in range(3, int(math.sqrt(num)) + 1, 2):\n",
    "        if (num % i) == 0:\n",
    "            return 'Este número não é primo'\n",
    "    \n",
    "    return 'Este número é primo'"
   ]
  },
  {
   "cell_type": "code",
   "execution_count": 129,
   "id": "a53613f9",
   "metadata": {},
   "outputs": [
    {
     "name": "stdout",
     "output_type": "stream",
     "text": [
      "Este número é primo\n"
     ]
    }
   ],
   "source": [
    "print(numPrimo(29))"
   ]
  },
  {
   "cell_type": "code",
   "execution_count": 130,
   "id": "8c4f1f40",
   "metadata": {},
   "outputs": [
    {
     "name": "stdout",
     "output_type": "stream",
     "text": [
      "Este número não é primo\n"
     ]
    }
   ],
   "source": [
    "print(numPrimo(15))"
   ]
  },
  {
   "cell_type": "code",
   "execution_count": 138,
   "id": "ac0fef06",
   "metadata": {},
   "outputs": [],
   "source": [
    "caixa_baixa = 'Este texto deveria esta todo em caixa baixa'"
   ]
  },
  {
   "cell_type": "code",
   "execution_count": 139,
   "id": "28cedf5b",
   "metadata": {},
   "outputs": [],
   "source": [
    "def lowercase(text):\n",
    "    return text.lower()"
   ]
  },
  {
   "cell_type": "code",
   "execution_count": 140,
   "id": "136d7a7a",
   "metadata": {},
   "outputs": [],
   "source": [
    "lowercased_string = lowercase(caixa_baixa)"
   ]
  },
  {
   "cell_type": "code",
   "execution_count": 141,
   "id": "98023e63",
   "metadata": {},
   "outputs": [
    {
     "data": {
      "text/plain": [
       "'este texto deveria esta todo em caixa baixa'"
      ]
     },
     "execution_count": 141,
     "metadata": {},
     "output_type": "execute_result"
    }
   ],
   "source": [
    "lowercased_string"
   ]
  },
  {
   "cell_type": "code",
   "execution_count": 148,
   "id": "567fe736",
   "metadata": {},
   "outputs": [],
   "source": [
    "caixa_alta = 'Este texto deveria esta todo em caixa alta'"
   ]
  },
  {
   "cell_type": "code",
   "execution_count": 149,
   "id": "4ab5b331",
   "metadata": {},
   "outputs": [],
   "source": [
    "def upercase(text):\n",
    "    return text.upper()"
   ]
  },
  {
   "cell_type": "code",
   "execution_count": 150,
   "id": "551c51be",
   "metadata": {},
   "outputs": [],
   "source": [
    "upercased_string = upercase(caixa_alta)"
   ]
  },
  {
   "cell_type": "code",
   "execution_count": 151,
   "id": "0c090dcb",
   "metadata": {},
   "outputs": [
    {
     "data": {
      "text/plain": [
       "'ESTE TEXTO DEVERIA ESTA TODO EM CAIXA ALTA'"
      ]
     },
     "execution_count": 151,
     "metadata": {},
     "output_type": "execute_result"
    }
   ],
   "source": [
    "upercased_string"
   ]
  },
  {
   "cell_type": "markdown",
   "id": "38900b68",
   "metadata": {},
   "source": [
    "# Fazendo Split dos dados"
   ]
  },
  {
   "cell_type": "code",
   "execution_count": 152,
   "id": "89715b44",
   "metadata": {},
   "outputs": [],
   "source": [
    "def split_String_Palavras(text):\n",
    "    return text.split(' ')"
   ]
  },
  {
   "cell_type": "code",
   "execution_count": 153,
   "id": "d02436ad",
   "metadata": {},
   "outputs": [],
   "source": [
    "texto = 'Esta função sera bastante util para separar garnde volume de dados'"
   ]
  },
  {
   "cell_type": "code",
   "execution_count": 155,
   "id": "0cbccd09",
   "metadata": {},
   "outputs": [
    {
     "name": "stdout",
     "output_type": "stream",
     "text": [
      "['Esta', 'função', 'sera', 'bastante', 'util', 'para', 'separar', 'garnde', 'volume', 'de', 'dados']\n"
     ]
    }
   ],
   "source": [
    "print(split_String_Palavras(texto))"
   ]
  },
  {
   "cell_type": "code",
   "execution_count": 156,
   "id": "c70df633",
   "metadata": {},
   "outputs": [],
   "source": [
    "token = split_String_Palavras(texto)"
   ]
  },
  {
   "cell_type": "code",
   "execution_count": 157,
   "id": "3209b6c3",
   "metadata": {},
   "outputs": [
    {
     "data": {
      "text/plain": [
       "['Esta',\n",
       " 'função',\n",
       " 'sera',\n",
       " 'bastante',\n",
       " 'util',\n",
       " 'para',\n",
       " 'separar',\n",
       " 'garnde',\n",
       " 'volume',\n",
       " 'de',\n",
       " 'dados']"
      ]
     },
     "execution_count": 157,
     "metadata": {},
     "output_type": "execute_result"
    }
   ],
   "source": [
    "token"
   ]
  },
  {
   "cell_type": "code",
   "execution_count": 158,
   "id": "c82b7201",
   "metadata": {},
   "outputs": [],
   "source": [
    "def split_String_Letras(text):\n",
    "    texto = text.upper()\n",
    "    for letra in texto:\n",
    "        print(letra)"
   ]
  },
  {
   "cell_type": "code",
   "execution_count": 159,
   "id": "4abb0843",
   "metadata": {},
   "outputs": [
    {
     "name": "stdout",
     "output_type": "stream",
     "text": [
      "E\n",
      "S\n",
      "T\n",
      "A\n",
      " \n",
      "F\n",
      "U\n",
      "N\n",
      "Ç\n",
      "Ã\n",
      "O\n",
      " \n",
      "S\n",
      "E\n",
      "R\n",
      "A\n",
      " \n",
      "B\n",
      "A\n",
      "S\n",
      "T\n",
      "A\n",
      "N\n",
      "T\n",
      "E\n",
      " \n",
      "U\n",
      "T\n",
      "I\n",
      "L\n",
      " \n",
      "P\n",
      "A\n",
      "R\n",
      "A\n",
      " \n",
      "S\n",
      "E\n",
      "P\n",
      "A\n",
      "R\n",
      "A\n",
      "R\n",
      " \n",
      "G\n",
      "A\n",
      "R\n",
      "N\n",
      "D\n",
      "E\n",
      " \n",
      "V\n",
      "O\n",
      "L\n",
      "U\n",
      "M\n",
      "E\n",
      " \n",
      "D\n",
      "E\n",
      " \n",
      "D\n",
      "A\n",
      "D\n",
      "O\n",
      "S\n"
     ]
    }
   ],
   "source": [
    "split_String_Letras(texto)"
   ]
  }
 ],
 "metadata": {
  "kernelspec": {
   "display_name": "Python 3 (ipykernel)",
   "language": "python",
   "name": "python3"
  },
  "language_info": {
   "codemirror_mode": {
    "name": "ipython",
    "version": 3
   },
   "file_extension": ".py",
   "mimetype": "text/x-python",
   "name": "python",
   "nbconvert_exporter": "python",
   "pygments_lexer": "ipython3",
   "version": "3.9.13"
  }
 },
 "nbformat": 4,
 "nbformat_minor": 5
}
