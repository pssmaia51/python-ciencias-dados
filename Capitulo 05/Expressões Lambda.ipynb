{
 "cells": [
  {
   "cell_type": "markdown",
   "id": "5f87d979",
   "metadata": {},
   "source": [
    "## Expresões Lambdas"
   ]
  },
  {
   "cell_type": "code",
   "execution_count": 2,
   "id": "de59368c",
   "metadata": {},
   "outputs": [],
   "source": [
    "def potencia (num):\n",
    "    resultado = num ** 2\n",
    "    return resultado"
   ]
  },
  {
   "cell_type": "code",
   "execution_count": 4,
   "id": "76e3a5e0",
   "metadata": {},
   "outputs": [
    {
     "data": {
      "text/plain": [
       "25"
      ]
     },
     "execution_count": 4,
     "metadata": {},
     "output_type": "execute_result"
    }
   ],
   "source": [
    "potencia(5)"
   ]
  },
  {
   "cell_type": "code",
   "execution_count": 6,
   "id": "c53f42ec",
   "metadata": {},
   "outputs": [],
   "source": [
    "def potencia (num):\n",
    "    return num ** 2     "
   ]
  },
  {
   "cell_type": "code",
   "execution_count": 8,
   "id": "b72bd860",
   "metadata": {},
   "outputs": [
    {
     "data": {
      "text/plain": [
       "25"
      ]
     },
     "execution_count": 8,
     "metadata": {},
     "output_type": "execute_result"
    }
   ],
   "source": [
    "potencia(5)"
   ]
  },
  {
   "cell_type": "code",
   "execution_count": 9,
   "id": "3cdf52da",
   "metadata": {},
   "outputs": [],
   "source": [
    "def potencia (num): return num ** 2"
   ]
  },
  {
   "cell_type": "code",
   "execution_count": 10,
   "id": "29f17641",
   "metadata": {},
   "outputs": [
    {
     "data": {
      "text/plain": [
       "25"
      ]
     },
     "execution_count": 10,
     "metadata": {},
     "output_type": "execute_result"
    }
   ],
   "source": [
    "potencia(5)"
   ]
  },
  {
   "cell_type": "code",
   "execution_count": 12,
   "id": "c0d2274d",
   "metadata": {},
   "outputs": [],
   "source": [
    "potencia = lambda num: num ** 2"
   ]
  },
  {
   "cell_type": "code",
   "execution_count": 14,
   "id": "3bcf476c",
   "metadata": {},
   "outputs": [
    {
     "data": {
      "text/plain": [
       "25"
      ]
     },
     "execution_count": 14,
     "metadata": {},
     "output_type": "execute_result"
    }
   ],
   "source": [
    "potencia(5)"
   ]
  },
  {
   "cell_type": "code",
   "execution_count": 15,
   "id": "9dacb1b9",
   "metadata": {},
   "outputs": [],
   "source": [
    "par = lambda x: x %2 == 0"
   ]
  },
  {
   "cell_type": "code",
   "execution_count": 16,
   "id": "de835aad",
   "metadata": {},
   "outputs": [
    {
     "data": {
      "text/plain": [
       "False"
      ]
     },
     "execution_count": 16,
     "metadata": {},
     "output_type": "execute_result"
    }
   ],
   "source": [
    "par(3)"
   ]
  },
  {
   "cell_type": "code",
   "execution_count": 17,
   "id": "21b44445",
   "metadata": {},
   "outputs": [
    {
     "data": {
      "text/plain": [
       "True"
      ]
     },
     "execution_count": 17,
     "metadata": {},
     "output_type": "execute_result"
    }
   ],
   "source": [
    "par(4)"
   ]
  },
  {
   "cell_type": "code",
   "execution_count": 21,
   "id": "1fbe0a6f",
   "metadata": {},
   "outputs": [],
   "source": [
    "first = lambda a: a[0]"
   ]
  },
  {
   "cell_type": "code",
   "execution_count": 22,
   "id": "b766eede",
   "metadata": {},
   "outputs": [
    {
     "data": {
      "text/plain": [
       "'P'"
      ]
     },
     "execution_count": 22,
     "metadata": {},
     "output_type": "execute_result"
    }
   ],
   "source": [
    "first('Python')"
   ]
  },
  {
   "cell_type": "code",
   "execution_count": 25,
   "id": "7c7191e9",
   "metadata": {},
   "outputs": [],
   "source": [
    "reversao = lambda a: a[: :-1]"
   ]
  },
  {
   "cell_type": "code",
   "execution_count": 26,
   "id": "f6c1b8be",
   "metadata": {},
   "outputs": [
    {
     "data": {
      "text/plain": [
       "'nohtyP'"
      ]
     },
     "execution_count": 26,
     "metadata": {},
     "output_type": "execute_result"
    }
   ],
   "source": [
    "reversao('Python')"
   ]
  },
  {
   "cell_type": "code",
   "execution_count": 27,
   "id": "c973b825",
   "metadata": {},
   "outputs": [],
   "source": [
    "addNum = lambda x,y: x + y"
   ]
  },
  {
   "cell_type": "code",
   "execution_count": 28,
   "id": "54e42124",
   "metadata": {},
   "outputs": [
    {
     "data": {
      "text/plain": [
       "5"
      ]
     },
     "execution_count": 28,
     "metadata": {},
     "output_type": "execute_result"
    }
   ],
   "source": [
    "addNum(2,3)"
   ]
  },
  {
   "cell_type": "code",
   "execution_count": null,
   "id": "82d098db",
   "metadata": {},
   "outputs": [],
   "source": []
  }
 ],
 "metadata": {
  "kernelspec": {
   "display_name": "Python 3 (ipykernel)",
   "language": "python",
   "name": "python3"
  },
  "language_info": {
   "codemirror_mode": {
    "name": "ipython",
    "version": 3
   },
   "file_extension": ".py",
   "mimetype": "text/x-python",
   "name": "python",
   "nbconvert_exporter": "python",
   "pygments_lexer": "ipython3",
   "version": "3.9.13"
  }
 },
 "nbformat": 4,
 "nbformat_minor": 5
}
