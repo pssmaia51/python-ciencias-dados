{
 "cells": [
  {
   "cell_type": "markdown",
   "id": "be284905",
   "metadata": {},
   "source": [
    "## List Comprehension"
   ]
  },
  {
   "cell_type": "code",
   "execution_count": 4,
   "id": "c96a1269",
   "metadata": {},
   "outputs": [
    {
     "data": {
      "text/plain": [
       "[0, 1, 2, 3, 4, 5, 6, 7, 8, 9, 10]"
      ]
     },
     "execution_count": 4,
     "metadata": {},
     "output_type": "execute_result"
    }
   ],
   "source": [
    "# Lista Comprehension que imprime numeros de 1 a 10\n",
    "[x for x in range(11)]"
   ]
  },
  {
   "cell_type": "code",
   "execution_count": 5,
   "id": "e2d0460c",
   "metadata": {},
   "outputs": [],
   "source": [
    "# Lista Comprehension que imprime numeros ate 10 e gravar em uma lista python\n",
    "lista_numeros = [x for x in range(11)]"
   ]
  },
  {
   "cell_type": "code",
   "execution_count": 6,
   "id": "affe2750",
   "metadata": {},
   "outputs": [
    {
     "name": "stdout",
     "output_type": "stream",
     "text": [
      "[0, 1, 2, 3, 4, 5, 6, 7, 8, 9, 10]\n"
     ]
    }
   ],
   "source": [
    "print(lista_numeros)"
   ]
  },
  {
   "cell_type": "code",
   "execution_count": 7,
   "id": "685ebea3",
   "metadata": {},
   "outputs": [
    {
     "name": "stdout",
     "output_type": "stream",
     "text": [
      "[0, 1, 2, 3, 4]\n"
     ]
    }
   ],
   "source": [
    "# Lista Comprehension que imprime numeros menores que 5 em intervalo de 1 a 10\n",
    "lista_numeros = [x for x in range(11) if x <5]\n",
    "print(lista_numeros)"
   ]
  },
  {
   "cell_type": "code",
   "execution_count": 8,
   "id": "643c43a3",
   "metadata": {},
   "outputs": [],
   "source": [
    "lista_frutas = ['banana', 'abacate', 'melancia', 'cereja', 'manga']\n",
    "\n",
    "nova_lista = []"
   ]
  },
  {
   "cell_type": "code",
   "execution_count": 10,
   "id": "eba382f1",
   "metadata": {},
   "outputs": [
    {
     "name": "stdout",
     "output_type": "stream",
     "text": [
      "['melancia', 'manga']\n"
     ]
    }
   ],
   "source": [
    "for x in lista_frutas:\n",
    "    if \"m\" in x:\n",
    "        nova_lista.append(x)\n",
    "        \n",
    "print(nova_lista)"
   ]
  },
  {
   "cell_type": "code",
   "execution_count": 18,
   "id": "ea2aa5dd",
   "metadata": {},
   "outputs": [
    {
     "name": "stdout",
     "output_type": "stream",
     "text": [
      "{'Bob': 68, 'Michel': 94, 'Zico': 57, 'Ana': 97}\n"
     ]
    }
   ],
   "source": [
    "dict_alunos = {'Bob': 68, 'Michel': 94, 'Zico': 57, 'Ana': 97}\n",
    "\n",
    "dict_alunos_status = {k:v for (k,v) in dict_alunos.items()}\n",
    "\n",
    "print(dict_alunos_status)"
   ]
  },
  {
   "cell_type": "code",
   "execution_count": 19,
   "id": "35bc488d",
   "metadata": {},
   "outputs": [
    {
     "name": "stdout",
     "output_type": "stream",
     "text": [
      "{'Bob': 'Reprovado', 'Michel': 'Aprovado', 'Zico': 'Reprovado', 'Ana': 'Aprovado'}\n"
     ]
    }
   ],
   "source": [
    "# Dict Comprehension\n",
    "\n",
    "# Definindo o dicionário de alunos com suas respectivas notas\n",
    "dict_alunos = {'Bob': 68, 'Michel': 94, 'Zico': 57, 'Ana': 97}\n",
    "\n",
    "# Criando um novo dicionário com o status de aprovação\n",
    "dict_aluno_status = {k: ('Aprovado' if v > 70 else 'Reprovado') for k, v in dict_alunos.items()}\n",
    "\n",
    "# Exibindo o novo dicionário com o status de aprovação\n",
    "print(dict_aluno_status)"
   ]
  }
 ],
 "metadata": {
  "kernelspec": {
   "display_name": "Python 3 (ipykernel)",
   "language": "python",
   "name": "python3"
  },
  "language_info": {
   "codemirror_mode": {
    "name": "ipython",
    "version": 3
   },
   "file_extension": ".py",
   "mimetype": "text/x-python",
   "name": "python",
   "nbconvert_exporter": "python",
   "pygments_lexer": "ipython3",
   "version": "3.9.13"
  }
 },
 "nbformat": 4,
 "nbformat_minor": 5
}
