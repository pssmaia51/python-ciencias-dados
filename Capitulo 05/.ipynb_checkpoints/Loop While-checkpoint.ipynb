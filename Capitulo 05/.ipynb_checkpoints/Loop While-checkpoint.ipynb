{
 "cells": [
  {
   "cell_type": "markdown",
   "id": "d9ba2ed0",
   "metadata": {},
   "source": [
    "## Maia's Informatica - Soluções - Projetos e Consultoria\n",
    "### Fundamentos da Linguagem Python para Ciencias de dados \n",
    "#### Loop While"
   ]
  },
  {
   "cell_type": "code",
   "execution_count": 1,
   "id": "5635b4c7",
   "metadata": {},
   "outputs": [
    {
     "name": "stdout",
     "output_type": "stream",
     "text": [
      "0\n",
      "1\n",
      "2\n",
      "3\n",
      "4\n",
      "5\n",
      "6\n",
      "7\n",
      "8\n",
      "9\n"
     ]
    }
   ],
   "source": [
    "# Usando while para imprimir de 0 a 9 ate quando uma condição for verdadeira\n",
    "\n",
    "valor = 0\n",
    "while valor < 10:\n",
    "    print(valor)\n",
    "    valor = valor + 1"
   ]
  },
  {
   "cell_type": "code",
   "execution_count": 2,
   "id": "b97e08c3",
   "metadata": {},
   "outputs": [],
   "source": [
    "# Entra no loop somente se a condição for verdadeira\n",
    "\n",
    "valor = 11\n",
    "while valor < 10:\n",
    "    print(valor)\n",
    "    valor = valor + 1"
   ]
  },
  {
   "cell_type": "code",
   "execution_count": 3,
   "id": "f22d18e0",
   "metadata": {},
   "outputs": [
    {
     "name": "stdout",
     "output_type": "stream",
     "text": [
      "O valor nessa interação é:  0\n",
      "x ainda e menor que dez, o loop esta somando x + 1\n",
      "O valor nessa interação é:  1\n",
      "x ainda e menor que dez, o loop esta somando x + 1\n",
      "O valor nessa interação é:  2\n",
      "x ainda e menor que dez, o loop esta somando x + 1\n",
      "O valor nessa interação é:  3\n",
      "x ainda e menor que dez, o loop esta somando x + 1\n",
      "O valor nessa interação é:  4\n",
      "x ainda e menor que dez, o loop esta somando x + 1\n",
      "O valor nessa interação é:  5\n",
      "x ainda e menor que dez, o loop esta somando x + 1\n",
      "O valor nessa interação é:  6\n",
      "x ainda e menor que dez, o loop esta somando x + 1\n",
      "O valor nessa interação é:  7\n",
      "x ainda e menor que dez, o loop esta somando x + 1\n",
      "O valor nessa interação é:  8\n",
      "x ainda e menor que dez, o loop esta somando x + 1\n",
      "O valor nessa interação é:  9\n",
      "x ainda e menor que dez, o loop esta somando x + 1\n",
      "Interação chegou ao final da condição estabelecida, loop concluido!\n",
      "10\n"
     ]
    }
   ],
   "source": [
    "# Também pode-se usar a clausula else para encerrar o loop while\n",
    "\n",
    "x = 0\n",
    "\n",
    "while x < 10:\n",
    "    print('O valor nessa interação é: ', x)\n",
    "    print('x ainda e menor que dez, o loop esta somando x + 1')\n",
    "    x += 1\n",
    "else:\n",
    "    print('Interação chegou ao final da condição estabelecida, loop concluido!')\n",
    "    print(x)"
   ]
  },
  {
   "cell_type": "markdown",
   "id": "9468c9a8",
   "metadata": {},
   "source": [
    "### Pass, Break, Continue"
   ]
  },
  {
   "cell_type": "code",
   "execution_count": 4,
   "id": "1b6ba0fb",
   "metadata": {},
   "outputs": [
    {
     "name": "stdout",
     "output_type": "stream",
     "text": [
      "0\n",
      "1\n",
      "2\n",
      "3\n"
     ]
    }
   ],
   "source": [
    "#Interrope o Loop quando chegar ao numero 4\n",
    "\n",
    "valor = 0\n",
    "while valor < 10:\n",
    "    if valor == 4:\n",
    "        break\n",
    "    else:\n",
    "        pass\n",
    "    print(valor)\n",
    "    valor = valor +1"
   ]
  },
  {
   "cell_type": "code",
   "execution_count": 5,
   "id": "59d4fd5e",
   "metadata": {},
   "outputs": [
    {
     "name": "stdout",
     "output_type": "stream",
     "text": [
      "P\n",
      "y\n",
      "t\n",
      "h\n",
      "o\n",
      "n\n",
      " \n",
      "e\n",
      " \n",
      " \n",
      "i\n",
      "n\n",
      "c\n",
      "r\n",
      "i\n",
      "v\n",
      "e\n",
      "l\n"
     ]
    }
   ],
   "source": [
    "# Desconsideranto caracteres ao imprimir \n",
    "\n",
    "for letra in \"Python e www incrivel\":\n",
    "    if letra == \"w\":\n",
    "        continue\n",
    "    print(letra)"
   ]
  },
  {
   "cell_type": "markdown",
   "id": "ff330c66",
   "metadata": {},
   "source": [
    "## While e For juntos\n",
    "##### Vamos encontrar os numeros primos para cada numero N entre 2 e 30:\n",
    "#### Iniciaze uma variavel eh_primo como vedadeira. Para cada nume i entre 2 e N/2:\n",
    "#### se N e divisivel por i então:\n",
    "#### altera a variavel eh_primo para false e pare de vereificar os outros numeros \n",
    "#### Se a variavel eh_primo ainda e verdadira adicione N a lista de numeros primos \n",
    "#### imprima a lista de numeros primos "
   ]
  },
  {
   "cell_type": "code",
   "execution_count": 6,
   "id": "2125ca7b",
   "metadata": {},
   "outputs": [
    {
     "name": "stdout",
     "output_type": "stream",
     "text": [
      "2\n",
      "3\n",
      "5\n",
      "7\n",
      "11\n",
      "13\n",
      "17\n",
      "19\n",
      "23\n",
      "29\n",
      "Wall time: 0 ns\n"
     ]
    }
   ],
   "source": [
    "%%time\n",
    "\n",
    "# Usando Somente o while\n",
    "\n",
    "primos = 2\n",
    "while primos <= 30:\n",
    "    eh_primo = True\n",
    "    i = 2\n",
    "    while i <= primos // 2:\n",
    "        if primos % i == 0:\n",
    "            eh_primo = False\n",
    "            break\n",
    "        i += 1\n",
    "    if eh_primo:\n",
    "        print(primos)\n",
    "    primos += 1"
   ]
  },
  {
   "cell_type": "code",
   "execution_count": 7,
   "id": "c5f0e7d1",
   "metadata": {},
   "outputs": [
    {
     "name": "stdout",
     "output_type": "stream",
     "text": [
      "2\n",
      "3\n",
      "5\n",
      "7\n",
      "11\n",
      "13\n",
      "17\n",
      "19\n",
      "23\n",
      "29\n",
      "Wall time: 0 ns\n"
     ]
    }
   ],
   "source": [
    "%%time\n",
    "# Usando Somente For\n",
    "\n",
    "for primos in range(2, 31):\n",
    "    eh_primo = True\n",
    "    for i in range(2, primos // 2 + 1):\n",
    "        if primos % i == 0:\n",
    "            eh_primo = False\n",
    "            break\n",
    "    if eh_primo:\n",
    "        print(primos)"
   ]
  },
  {
   "cell_type": "code",
   "execution_count": 8,
   "id": "3604ab27",
   "metadata": {},
   "outputs": [
    {
     "name": "stdout",
     "output_type": "stream",
     "text": [
      "2\n",
      "3\n",
      "5\n",
      "7\n",
      "11\n",
      "13\n",
      "17\n",
      "19\n",
      "23\n",
      "29\n",
      "Wall time: 0 ns\n"
     ]
    }
   ],
   "source": [
    "%%time\n",
    "# Usando While e for juntos\n",
    "\n",
    "primos = 2\n",
    "while primos <= 30:\n",
    "    eh_primo = True\n",
    "    for i in range(2, primos):\n",
    "        if primos % i == 0:\n",
    "            eh_primo = False\n",
    "            break\n",
    "    if eh_primo:\n",
    "        print(primos)\n",
    "    primos += 1"
   ]
  },
  {
   "cell_type": "code",
   "execution_count": 9,
   "id": "a15f5142",
   "metadata": {},
   "outputs": [
    {
     "name": "stdout",
     "output_type": "stream",
     "text": [
      "[2, 3, 5, 7, 11, 13, 17, 19, 23, 29]\n",
      "Wall time: 999 µs\n"
     ]
    }
   ],
   "source": [
    "%%time\n",
    "primos = []\n",
    "\n",
    "for num in range(2, 31):\n",
    "    eh_primo = True\n",
    "    \n",
    "    i = 2\n",
    "    while i <= num // 2:\n",
    "        if num % i == 0:\n",
    "            eh_primo = False\n",
    "            break\n",
    "        i += 1\n",
    "    \n",
    "    if eh_primo:\n",
    "        primos.append(num)\n",
    "\n",
    "print(primos)"
   ]
  },
  {
   "cell_type": "code",
   "execution_count": 10,
   "id": "61af0910",
   "metadata": {},
   "outputs": [
    {
     "name": "stdout",
     "output_type": "stream",
     "text": [
      "2 e um numero primo\n",
      "3 e um numero primo\n",
      "5 e um numero primo\n",
      "7 e um numero primo\n",
      "11 e um numero primo\n",
      "13 e um numero primo\n",
      "17 e um numero primo\n",
      "19 e um numero primo\n",
      "23 e um numero primo\n",
      "29 e um numero primo\n",
      "Wall time: 0 ns\n"
     ]
    }
   ],
   "source": [
    "%%time\n",
    "\n",
    "for i in range(2,31):\n",
    "    \n",
    "    j = 2\n",
    "    valor = 0\n",
    "    while j < i:\n",
    "        if i % j == 0:\n",
    "            valor = 1\n",
    "            j = j + 1\n",
    "        else:\n",
    "            j = j + 1\n",
    "    if valor == 0:\n",
    "        print(str(i) + \" e um numero primo\")\n",
    "        valor = 0\n",
    "    else:\n",
    "        valor = 0"
   ]
  },
  {
   "cell_type": "code",
   "execution_count": null,
   "id": "17ee26df",
   "metadata": {},
   "outputs": [],
   "source": []
  }
 ],
 "metadata": {
  "kernelspec": {
   "display_name": "Python 3 (ipykernel)",
   "language": "python",
   "name": "python3"
  },
  "language_info": {
   "codemirror_mode": {
    "name": "ipython",
    "version": 3
   },
   "file_extension": ".py",
   "mimetype": "text/x-python",
   "name": "python",
   "nbconvert_exporter": "python",
   "pygments_lexer": "ipython3",
   "version": "3.9.13"
  }
 },
 "nbformat": 4,
 "nbformat_minor": 5
}
