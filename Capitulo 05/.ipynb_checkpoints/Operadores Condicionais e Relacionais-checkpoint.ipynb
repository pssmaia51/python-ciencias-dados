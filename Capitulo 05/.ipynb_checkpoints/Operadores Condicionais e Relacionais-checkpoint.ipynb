{
 "cells": [
  {
   "cell_type": "markdown",
   "id": "ffeb8017",
   "metadata": {},
   "source": [
    "# Maias Informatica Projetos em Consultoria em TI\n",
    "### Candicionais"
   ]
  },
  {
   "cell_type": "code",
   "execution_count": 2,
   "id": "c07a2aa8",
   "metadata": {},
   "outputs": [
    {
     "name": "stdout",
     "output_type": "stream",
     "text": [
      "A sentença e verdadeira\n"
     ]
    }
   ],
   "source": [
    "# Concional if\n",
    "if 5 > 2:\n",
    "    print('A sentença e verdadeira')"
   ]
  },
  {
   "cell_type": "code",
   "execution_count": 5,
   "id": "461adb3a",
   "metadata": {},
   "outputs": [
    {
     "name": "stdout",
     "output_type": "stream",
     "text": [
      "A sentença e falsa\n"
     ]
    }
   ],
   "source": [
    "# Concional if.... else\n",
    "if 5 < 2:\n",
    "    print('A sentença e verdadeira')\n",
    "else:\n",
    "    print ('A sentença e falsa')\n"
   ]
  },
  {
   "cell_type": "code",
   "execution_count": 24,
   "id": "4ebfc698",
   "metadata": {},
   "outputs": [
    {
     "name": "stdout",
     "output_type": "stream",
     "text": [
      "Hoje vai chover\n"
     ]
    }
   ],
   "source": [
    "# Condicional com variavel if else\n",
    "dia = \"Domingo\"\n",
    "\n",
    "if dia == \"Terça\":\n",
    "    print('Hoje sera dia de sol')\n",
    "else:\n",
    "    print('Hoje vai chover')"
   ]
  },
  {
   "cell_type": "code",
   "execution_count": 26,
   "id": "b2a59bb1",
   "metadata": {},
   "outputs": [
    {
     "name": "stdout",
     "output_type": "stream",
     "text": [
      "Hoje e Domingo\n"
     ]
    }
   ],
   "source": [
    "# Usando Operador elif(if else juntos) para validar mais de uma condição\n",
    "if dia == \"Segunda\":\n",
    "    print('Hoje e segunda')\n",
    "    \n",
    "elif dia == \"Terça\":\n",
    "    print('Hoje e Terça')\n",
    "    \n",
    "elif dia == \"Quarta\":\n",
    "    print('Hoje e Quarta')\n",
    "    \n",
    "elif dia == \"Qinta\":\n",
    "    print('Hoje e Quinta')\n",
    "    \n",
    "elif dia == \"Sexta\":\n",
    "    print('Hoje e Sexta')\n",
    "    \n",
    "elif dia == \"Sabado\":\n",
    "    print('Hoje e Sabado')\n",
    "    \n",
    "else:\n",
    "    print('Hoje e Domingo')"
   ]
  },
  {
   "cell_type": "markdown",
   "id": "e1766b4f",
   "metadata": {},
   "source": [
    "### Operadores Realaionais"
   ]
  },
  {
   "cell_type": "code",
   "execution_count": 17,
   "id": "fc661d90",
   "metadata": {},
   "outputs": [
    {
     "data": {
      "text/plain": [
       "True"
      ]
     },
     "execution_count": 17,
     "metadata": {},
     "output_type": "execute_result"
    }
   ],
   "source": [
    "6 > 3"
   ]
  },
  {
   "cell_type": "code",
   "execution_count": 18,
   "id": "36b01c00",
   "metadata": {},
   "outputs": [
    {
     "data": {
      "text/plain": [
       "False"
      ]
     },
     "execution_count": 18,
     "metadata": {},
     "output_type": "execute_result"
    }
   ],
   "source": [
    "3 > 7 "
   ]
  },
  {
   "cell_type": "code",
   "execution_count": 19,
   "id": "4fe69f7b",
   "metadata": {},
   "outputs": [
    {
     "data": {
      "text/plain": [
       "True"
      ]
     },
     "execution_count": 19,
     "metadata": {},
     "output_type": "execute_result"
    }
   ],
   "source": [
    "4 < 8"
   ]
  },
  {
   "cell_type": "code",
   "execution_count": 3,
   "id": "4b501b7e",
   "metadata": {},
   "outputs": [
    {
     "data": {
      "text/plain": [
       "True"
      ]
     },
     "execution_count": 3,
     "metadata": {},
     "output_type": "execute_result"
    }
   ],
   "source": [
    "4 >= 4\n"
   ]
  },
  {
   "cell_type": "code",
   "execution_count": 4,
   "id": "a7065917",
   "metadata": {},
   "outputs": [
    {
     "name": "stdout",
     "output_type": "stream",
     "text": [
      "Testando Funcionalidade do codigo\n"
     ]
    }
   ],
   "source": [
    "if 4 == 4:\n",
    "    print('Testando Funcionalidade do codigo')"
   ]
  },
  {
   "cell_type": "code",
   "execution_count": 5,
   "id": "12648443",
   "metadata": {},
   "outputs": [
    {
     "name": "stdout",
     "output_type": "stream",
     "text": [
      "Phyton Funcional\n"
     ]
    }
   ],
   "source": [
    "if 4 > 3:\n",
    "    print('Phyton Funcional')"
   ]
  },
  {
   "cell_type": "markdown",
   "id": "bfe95d0a",
   "metadata": {},
   "source": [
    "### Operadores Condicionais Alinhados"
   ]
  },
  {
   "cell_type": "code",
   "execution_count": 8,
   "id": "a0d69fe5",
   "metadata": {},
   "outputs": [
    {
     "name": "stdout",
     "output_type": "stream",
     "text": [
      "Sua idade não lhe permiti dirigir\n"
     ]
    }
   ],
   "source": [
    "idade = 17\n",
    "if idade >= 18:\n",
    "    print('Idade apto a dirigir')\n",
    "else: \n",
    "    print('Sua idade não lhe permiti dirigir')\n"
   ]
  },
  {
   "cell_type": "code",
   "execution_count": 9,
   "id": "ce707dcf",
   "metadata": {},
   "outputs": [
    {
     "name": "stdout",
     "output_type": "stream",
     "text": [
      "Ok Bob , voce esta autorizado a entrar\n"
     ]
    }
   ],
   "source": [
    "Nome = \"Bob\"\n",
    "if idade > 13:\n",
    "    print('Ok ' + Nome + ' , voce esta autorizado a entrar' )\n",
    "else: \n",
    "    print('Desculpe ' + Nome + ' , voce não pode entrar')"
   ]
  },
  {
   "cell_type": "code",
   "execution_count": 29,
   "id": "14320efb",
   "metadata": {},
   "outputs": [
    {
     "name": "stdout",
     "output_type": "stream",
     "text": [
      "Ok Aretusa , voce esta autorizado a entrar\n"
     ]
    }
   ],
   "source": [
    "idade = 45\n",
    "Nome = \"Aretusa\"\n",
    "if idade >= 13 and Nome == \"Aretusa\":\n",
    "    print('Ok ' + Nome + ' , voce esta autorizado a entrar')\n",
    "else:\n",
    "    print('Operador AND requer que as duas condições sejam verdadeiras '')\n",
    "    "
   ]
  },
  {
   "cell_type": "code",
   "execution_count": 30,
   "id": "ebc75bb9",
   "metadata": {},
   "outputs": [
    {
     "name": "stdout",
     "output_type": "stream",
     "text": [
      "Ok Paulo , voce esta autorizado a entrar\n"
     ]
    }
   ],
   "source": [
    "idade = 54\n",
    "Nome = \"Paulo\"\n",
    "if idade >= 13 or Nome == \"Paulo\":\n",
    "    print('Ok ' + Nome + ' , voce esta autorizado a entrar')\n",
    "else:\n",
    "    print('O operador OR requer que alguma condiçõa seja verdadeira')"
   ]
  },
  {
   "cell_type": "markdown",
   "id": "75d3d400",
   "metadata": {},
   "source": [
    "### Operadores Logicos"
   ]
  },
  {
   "cell_type": "code",
   "execution_count": 31,
   "id": "563eb871",
   "metadata": {},
   "outputs": [
    {
     "name": "stdout",
     "output_type": "stream",
     "text": [
      "Voce pode dirigir\n"
     ]
    }
   ],
   "source": [
    "idade = 18\n",
    "nome = \"Bob\"\n",
    "\n",
    "if idade > 17:\n",
    "    print ('Voce pode dirigir')    "
   ]
  },
  {
   "cell_type": "code",
   "execution_count": 32,
   "id": "ca62396e",
   "metadata": {},
   "outputs": [
    {
     "name": "stdout",
     "output_type": "stream",
     "text": [
      "Autorizado\n"
     ]
    }
   ],
   "source": [
    "idade = 18\n",
    "nome = \"Bob\"\n",
    "\n",
    "if idade > 17 and nome == \"Bob\":\n",
    "    print ('Autorizado')    "
   ]
  },
  {
   "cell_type": "markdown",
   "id": "eca43b03",
   "metadata": {},
   "source": [
    "### Os Operadores Logicos funcioman assim:\n",
    "    ### . O operador **AND** retorna TRUE se ambas as declarações forem verdadeiras\n",
    "    ### . O operador **OR** retorna TRUE se uma declarações forem verdadeiras\n",
    "    ### . O operador **NOT** inverte o resultado e retorna false se o resultado for true"
   ]
  },
  {
   "cell_type": "code",
   "execution_count": 33,
   "id": "fdb421a4",
   "metadata": {},
   "outputs": [
    {
     "name": "stdout",
     "output_type": "stream",
     "text": [
      "Ambas as condições retornam verdadeiro\n"
     ]
    }
   ],
   "source": [
    "# Operador and\n",
    "numero = 4\n",
    "\n",
    "if (numero > 2) and (numero % 2 == 0):\n",
    "    print('Ambas as condições retornam verdadeiro')"
   ]
  },
  {
   "cell_type": "code",
   "execution_count": 43,
   "id": "da9c8bdf",
   "metadata": {},
   "outputs": [
    {
     "name": "stdout",
     "output_type": "stream",
     "text": [
      "Apenas uma condição e verdadeira\n"
     ]
    }
   ],
   "source": [
    "# Operador and\n",
    "numero = 4\n",
    "\n",
    "if (numero >= 5) and (numero % 2 == 0):\n",
    "    print('Ambas as condições retornam verdadeiro')\n",
    "else:\n",
    "    print('Apenas uma condição e verdadeira')\n",
    "    \n"
   ]
  },
  {
   "cell_type": "code",
   "execution_count": 44,
   "id": "476c3001",
   "metadata": {},
   "outputs": [
    {
     "name": "stdout",
     "output_type": "stream",
     "text": [
      "Apenas uma das condições e verdadeira\n"
     ]
    }
   ],
   "source": [
    "# Operador OR\n",
    "numero = 4\n",
    "\n",
    "if (numero > 5) or (numero % 2 == 0):\n",
    "    print(\"Apenas uma das condições e verdadeira\")\n"
   ]
  },
  {
   "cell_type": "code",
   "execution_count": 50,
   "id": "9cec5e84",
   "metadata": {},
   "outputs": [
    {
     "name": "stdout",
     "output_type": "stream",
     "text": [
      "As duas condições são verdadeiras\n"
     ]
    }
   ],
   "source": [
    "# Operador Not\n",
    "numero = 4 \n",
    "if not(numero >= 5) and (numero % 2 == 0):\n",
    "    print('As duas condições são verdadeiras')\n",
    "else:\n",
    "    print('Uma as condições e falsa')"
   ]
  },
  {
   "cell_type": "code",
   "execution_count": 54,
   "id": "c2734e11",
   "metadata": {},
   "outputs": [
    {
     "name": "stdout",
     "output_type": "stream",
     "text": [
      "as duas primeiras condições são verdadeira ou a terceira condição e verdadeira\n"
     ]
    }
   ],
   "source": [
    "# Operadores AND, OR e NOT\n",
    "\n",
    "numero = 4\n",
    "\n",
    "if (not(numero > 5) and (numero % 2 == 0) or (numero == 4)):\n",
    "    print('as duas primeiras condições são verdadeira ou a terceira condição e verdadeira')"
   ]
  },
  {
   "cell_type": "code",
   "execution_count": 77,
   "id": "c757542e",
   "metadata": {},
   "outputs": [
    {
     "name": "stdout",
     "output_type": "stream",
     "text": [
      "Infelizmente vc não alcançou a media para aprovação\n"
     ]
    }
   ],
   "source": [
    "# Exemplode usso de variaveis\n",
    "\n",
    "disciplina = \"Ciencias de dados\"\n",
    "nota = 60\n",
    "\n",
    "if disciplina == \"Ciencias de dados\" and nota >= 80:\n",
    "    print('Parabéns, você foi aprovado')\n",
    "else:\n",
    "    print('Infelizmente, você não alcançou a média para aprovação')"
   ]
  },
  {
   "cell_type": "code",
   "execution_count": 85,
   "id": "a4ea13ff",
   "metadata": {},
   "outputs": [
    {
     "name": "stdout",
     "output_type": "stream",
     "text": [
      "Parabéns, você foi aprovado\n"
     ]
    }
   ],
   "source": [
    "disciplina = \"Ciencias de dados\"\n",
    "nota = 70\n",
    "\n",
    "if disciplina == \"Ciencias de dados\" and nota >= 70:\n",
    "    print('Parabéns, você foi aprovado')\n",
    "else:\n",
    "    print('Infelizmente você não alcançou a média para aprovação')"
   ]
  },
  {
   "cell_type": "code",
   "execution_count": 87,
   "id": "b3e4ca4d",
   "metadata": {},
   "outputs": [
    {
     "name": "stdout",
     "output_type": "stream",
     "text": [
      "Você foi aprovado em Ciencias de Dados com média final 80\n"
     ]
    }
   ],
   "source": [
    "# Usando mais de uma condições no if w usando o placehiolders (marcador de posição)\n",
    "disciplina = \"Ciencias de Dados\"\n",
    "nota = 80\n",
    "semestre = 2\n",
    "\n",
    "if (disciplina == \"Ciencias de Dados\") and (nota >= 80) and (semestre != 1):\n",
    "    print('Você foi aprovado em %s com média final %r' % (disciplina, nota))\n",
    "else:\n",
    "    print('Infelizmente você não alcançou a média para aprovação')"
   ]
  },
  {
   "cell_type": "code",
   "execution_count": null,
   "id": "378c5ba2",
   "metadata": {},
   "outputs": [],
   "source": []
  }
 ],
 "metadata": {
  "kernelspec": {
   "display_name": "Python 3 (ipykernel)",
   "language": "python",
   "name": "python3"
  },
  "language_info": {
   "codemirror_mode": {
    "name": "ipython",
    "version": 3
   },
   "file_extension": ".py",
   "mimetype": "text/x-python",
   "name": "python",
   "nbconvert_exporter": "python",
   "pygments_lexer": "ipython3",
   "version": "3.9.13"
  }
 },
 "nbformat": 4,
 "nbformat_minor": 5
}
