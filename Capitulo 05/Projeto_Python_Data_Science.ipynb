{
 "cells": [
  {
   "cell_type": "markdown",
   "metadata": {
    "id": "lQx6Mmv0OJyT"
   },
   "source": [
    "# Python para Data Science\n",
    "\n",
    "Notebook para o curso de Python para Data Science publicado na plataforma da [Alura](https://www.alura.com.br/)"
   ]
  },
  {
   "cell_type": "markdown",
   "metadata": {
    "id": "7SiB6JIpYKmY"
   },
   "source": [
    "# Introdução ao Python\n",
    "\n",
    "Vamos conhecer o Python, nosso ambiente de estudo e também faremos nosso primeiro código nessa linguagem!"
   ]
  },
  {
   "cell_type": "markdown",
   "metadata": {
    "id": "Yugfb3fCOYY9"
   },
   "source": [
    "## Google Colaboratory\n",
    "\n",
    "Já aprendemos o que é o [Python](https://www.python.org/) agora vamos aprender a utilzar o [Google Colaboratory](https://colab.research.google.com/) e programar em um notebook.\n",
    "\n",
    "Vamos testar algumas funções dessa ferramenta."
   ]
  },
  {
   "cell_type": "markdown",
   "metadata": {
    "id": "2iUHQsJasJAk"
   },
   "source": [
    " **`>>> Use essa célula para mover <<<`**"
   ]
  },
  {
   "cell_type": "code",
   "execution_count": null,
   "metadata": {
    "id": "tWQp3j7S6MTX"
   },
   "outputs": [],
   "source": []
  },
  {
   "cell_type": "markdown",
   "metadata": {
    "id": "aLSFP2V7XTfe"
   },
   "source": [
    "## Olá mundo!\n",
    "\n",
    "Vamso conhecer mais como funciona o ambiente interativo de um notebook. Para isso vamos executar nosso primeiro comando em Python: [`print()`](https://docs.python.org/3/library/functions.html#print)"
   ]
  },
  {
   "cell_type": "code",
   "execution_count": null,
   "metadata": {
    "colab": {
     "base_uri": "https://localhost:8080/"
    },
    "id": "5s5z5TeP6LDU",
    "outputId": "3c27aae5-3b5d-4ab9-edd4-d8ecbb7135c3"
   },
   "outputs": [
    {
     "name": "stdout",
     "output_type": "stream",
     "text": [
      "Olá mundo!\n"
     ]
    }
   ],
   "source": [
    "print('Olá mundo!')"
   ]
  },
  {
   "cell_type": "code",
   "execution_count": null,
   "metadata": {
    "id": "tNeEkSW06K8X"
   },
   "outputs": [],
   "source": []
  },
  {
   "cell_type": "code",
   "execution_count": null,
   "metadata": {
    "id": "2sKZJ-PO6K0w"
   },
   "outputs": [],
   "source": []
  },
  {
   "cell_type": "markdown",
   "metadata": {
    "id": "iP8uWQmFYFRs"
   },
   "source": [
    "# Manipulando dados\n",
    "\n",
    "Vamos aprender sobre as variáveis no python, como elas são declaradas e utilizadas além de conhecer outros comandos dentro do Python. :D"
   ]
  },
  {
   "cell_type": "markdown",
   "metadata": {
    "id": "sLNVmnTbag1Z"
   },
   "source": [
    "## Variáveis\n",
    "\n",
    "Em Data Science nós trabalhamos com vários dados e informações, então é essencial saber trabalhar com variáveis."
   ]
  },
  {
   "cell_type": "markdown",
   "metadata": {
    "id": "lsCY0wahAbf6"
   },
   "source": [
    "Criamos uma variável no python através da atribuição de um valor a ela.\n",
    "\n",
    "Para fazer isso, colocamos o nome da variável um sinal de igual (`=`) e o valor que queremos atribuir"
   ]
  },
  {
   "cell_type": "code",
   "execution_count": null,
   "metadata": {
    "id": "8J3pJghf57ZI"
   },
   "outputs": [],
   "source": [
    "idade = 5"
   ]
  },
  {
   "cell_type": "code",
   "execution_count": null,
   "metadata": {
    "colab": {
     "base_uri": "https://localhost:8080/"
    },
    "id": "Byehj1QR57S1",
    "outputId": "220ac45d-80b2-4f7b-a1b7-1f8b0a2a3548"
   },
   "outputs": [
    {
     "name": "stdout",
     "output_type": "stream",
     "text": [
      "5\n"
     ]
    }
   ],
   "source": [
    "print(idade)"
   ]
  },
  {
   "cell_type": "code",
   "execution_count": null,
   "metadata": {
    "colab": {
     "base_uri": "https://localhost:8080/"
    },
    "id": "cMjXA8DO58Uj",
    "outputId": "9cf8b269-d168-484c-ada1-7ecff7c78a81"
   },
   "outputs": [
    {
     "name": "stdout",
     "output_type": "stream",
     "text": [
      "10\n"
     ]
    }
   ],
   "source": [
    "idade = 10\n",
    "print(idade)"
   ]
  },
  {
   "cell_type": "code",
   "execution_count": null,
   "metadata": {
    "colab": {
     "base_uri": "https://localhost:8080/"
    },
    "id": "82qmrXyz58SD",
    "outputId": "2f5b7795-8f7f-453f-d130-7d08214b3881"
   },
   "outputs": [
    {
     "data": {
      "text/plain": [
       "15"
      ]
     },
     "execution_count": 5,
     "metadata": {},
     "output_type": "execute_result"
    }
   ],
   "source": [
    "idade = 15\n",
    "idade"
   ]
  },
  {
   "cell_type": "code",
   "execution_count": null,
   "metadata": {
    "id": "h0QjCDb15z7-"
   },
   "outputs": [],
   "source": []
  },
  {
   "cell_type": "markdown",
   "metadata": {
    "id": "om2N0jHKAzwL"
   },
   "source": [
    "Nomes que **não** podemos definir para variáveis:\n",
    "\n",
    "- **Nomes que começam com números**\n",
    "  - Exemplos: `10_notas`, `2_nomes_casa`, etc.\n",
    "- **Palavras separada por espaço**\n",
    "  - Exemplos: `Nome escola`, `notas estudantes`, etc.\n",
    "- **Nomes de funções do Python**\n",
    "  - Exemplos: `print`, `type`, etc."
   ]
  },
  {
   "cell_type": "markdown",
   "metadata": {
    "id": "A19vY2GVMujB"
   },
   "source": [
    "> Letras maiúsculas e minúsculas vão gerar diferentes variáveis. A varíavel `idade` é diferente de `Idade` que por sua vez também é diferente de `IDADE`:\n",
    "``` Python\n",
    "idade = 1\n",
    "Idade = 2\n",
    "IDADE = 3\n",
    "_idade = 4\n",
    "_idade_ = 5\n",
    "print(idade, Idade, IDADE, _idade, _idade_)\n",
    "1 2 3 4 5\n",
    "```"
   ]
  },
  {
   "cell_type": "markdown",
   "metadata": {
    "id": "UqhzuBhBHsps"
   },
   "source": [
    "## Tipos de variáveis\n",
    "\n",
    "Cada variável contém uma classe especifica quanto ao tipo de objeto que ela está se referenciando. Essas classes vão ser diferentes a partir do tipo de dado que nós atribuimos a uma variável.\n",
    "\n",
    "Para saber a classe de cada elemento usamos a função [`type()`](https://docs.python.org/3/library/functions.html#type)"
   ]
  },
  {
   "cell_type": "code",
   "execution_count": null,
   "metadata": {
    "colab": {
     "base_uri": "https://localhost:8080/"
    },
    "id": "-tb-XRcq5v9W",
    "outputId": "c663eac0-0ea1-4e7d-8d31-86e9f80fb495"
   },
   "outputs": [
    {
     "data": {
      "text/plain": [
       "int"
      ]
     },
     "execution_count": 1,
     "metadata": {},
     "output_type": "execute_result"
    }
   ],
   "source": [
    "i = 5\n",
    "type(i)"
   ]
  },
  {
   "cell_type": "code",
   "execution_count": null,
   "metadata": {
    "colab": {
     "base_uri": "https://localhost:8080/"
    },
    "id": "5ncn48tw5vw2",
    "outputId": "5865fcea-aaf1-439e-bca5-752eb859c318"
   },
   "outputs": [
    {
     "data": {
      "text/plain": [
       "float"
      ]
     },
     "execution_count": 2,
     "metadata": {},
     "output_type": "execute_result"
    }
   ],
   "source": [
    "f = 9.8\n",
    "type(f)"
   ]
  },
  {
   "cell_type": "code",
   "execution_count": null,
   "metadata": {
    "colab": {
     "base_uri": "https://localhost:8080/"
    },
    "id": "PURhkDrw5vpB",
    "outputId": "21ff2a95-dbc5-4bbc-c70e-f9e662ef783b"
   },
   "outputs": [
    {
     "data": {
      "text/plain": [
       "str"
      ]
     },
     "execution_count": 3,
     "metadata": {},
     "output_type": "execute_result"
    }
   ],
   "source": [
    "s = 'Mirla'\n",
    "type(s)"
   ]
  },
  {
   "cell_type": "code",
   "execution_count": null,
   "metadata": {
    "colab": {
     "base_uri": "https://localhost:8080/"
    },
    "id": "w0XcF4MC5vhw",
    "outputId": "a89c1933-b4c7-4059-870b-1f695df2b807"
   },
   "outputs": [
    {
     "data": {
      "text/plain": [
       "bool"
      ]
     },
     "execution_count": 4,
     "metadata": {},
     "output_type": "execute_result"
    }
   ],
   "source": [
    "b = True\n",
    "type(b)"
   ]
  },
  {
   "cell_type": "markdown",
   "metadata": {
    "id": "O-FxDumfWu0C"
   },
   "source": [
    "Em um conjunto de dados escolares podemos ter vários tipos de informações. Digamos que tenhamos acesso à ficha de dados do aluno *Frabicio Daniel* como transformamos ela em variáveis no Python?\n",
    "\n",
    "#### Ficha:\n",
    "\n",
    "- Nome: Fabricio Daniel\n",
    "- Idade: 15 anos\n",
    "- Media do semestre: 8,45\n",
    "- Situação de aprovação: Verdadeira (aprovado)"
   ]
  },
  {
   "cell_type": "code",
   "execution_count": null,
   "metadata": {
    "id": "xZ3Exi2L5ozi"
   },
   "outputs": [],
   "source": []
  },
  {
   "cell_type": "markdown",
   "metadata": {
    "id": "KFq_8Sxf-OG0"
   },
   "source": [
    "## Variáveis numéricas\n",
    "\n",
    "Entre os tipos de dados numéricos vamos nos focar no tipo `inteiro` e `float`."
   ]
  },
  {
   "cell_type": "markdown",
   "metadata": {
    "id": "8_HYUbkVYdQY"
   },
   "source": [
    "Temos uma tabela de informação de empregos quanto ao cargo, quantidade de pessoas empregadas e o salário correspondente:\n",
    "\n",
    "|Cargo | Quantidade | Salário|\n",
    "|---|---|---|\n",
    "|Segurança | 5 | 3000 |\n",
    "|Docente | 16| 6000|\n",
    "|Diretoria| 1 |12500|\n",
    "\n",
    "Precisamos trabalhar com esses dados fornecendo:\n",
    "\n",
    "- A quantidade total de empregados;\n",
    "- A diferença entre o salário mais baixo e mais alto; e\n",
    "- A média ponderada da faixa salarial da escola."
   ]
  },
  {
   "cell_type": "code",
   "execution_count": null,
   "metadata": {
    "id": "xJIq5MRRZAlj"
   },
   "outputs": [],
   "source": [
    "q_seguranca = 5\n",
    "s_seguranca = 3000\n",
    "\n",
    "q_docente = 16\n",
    "s_docente = 6000\n",
    "\n",
    "q_diretoria = 1\n",
    "s_diretoria = 12500"
   ]
  },
  {
   "cell_type": "code",
   "execution_count": null,
   "metadata": {
    "colab": {
     "base_uri": "https://localhost:8080/"
    },
    "id": "pIgt-k6T5WpB",
    "outputId": "96f89a8c-b32d-494e-a4fa-70703389cac5"
   },
   "outputs": [
    {
     "name": "stdout",
     "output_type": "stream",
     "text": [
      "22\n"
     ]
    }
   ],
   "source": [
    "total_empregados = q_seguranca + q_docente + q_diretoria\n",
    "print(total_empregados)"
   ]
  },
  {
   "cell_type": "code",
   "execution_count": null,
   "metadata": {
    "colab": {
     "base_uri": "https://localhost:8080/"
    },
    "id": "bL9uGHvp5We5",
    "outputId": "321558ab-9a94-47bb-bb46-8ed974ef58a3"
   },
   "outputs": [
    {
     "name": "stdout",
     "output_type": "stream",
     "text": [
      "9500\n"
     ]
    }
   ],
   "source": [
    "diferencia_salario = s_diretoria - s_seguranca\n",
    "print(diferencia_salario)"
   ]
  },
  {
   "cell_type": "code",
   "execution_count": null,
   "metadata": {
    "colab": {
     "base_uri": "https://localhost:8080/"
    },
    "id": "GpTS_c8_5WX_",
    "outputId": "28a21b2c-e300-44c7-d202-e00630a2ac1d"
   },
   "outputs": [
    {
     "name": "stdout",
     "output_type": "stream",
     "text": [
      "5613.636363636364\n"
     ]
    }
   ],
   "source": [
    "media = (q_seguranca*s_seguranca + q_docente*s_docente + q_diretoria*s_diretoria) / (total_empregados)\n",
    "print(media)"
   ]
  },
  {
   "cell_type": "markdown",
   "metadata": {
    "id": "yQy7b0ZWoD-P"
   },
   "source": [
    "## Strings"
   ]
  },
  {
   "cell_type": "markdown",
   "metadata": {
    "id": "vlo2-DXusv3s"
   },
   "source": [
    "Strings são caracterizada por ter um conjunto de caracteres formando um texto.\n",
    "\n",
    "Strigs podem ser criadas ao atribuirmos a uma variável um dado que esteja entre aspas simples (`'`) ou aspas duplas (`\"`)"
   ]
  },
  {
   "cell_type": "code",
   "execution_count": null,
   "metadata": {
    "colab": {
     "base_uri": "https://localhost:8080/"
    },
    "id": "SSinaAb15FWn",
    "outputId": "67b99bb6-0578-4283-f5d9-16b7e7ebc612"
   },
   "outputs": [
    {
     "name": "stdout",
     "output_type": "stream",
     "text": [
      "<class 'str'> <class 'str'>\n"
     ]
    }
   ],
   "source": [
    "\n",
    "s1 = 'Alura'\n",
    "s2 = \"Alura\"\n",
    "print(type(s1), type(s2))"
   ]
  },
  {
   "cell_type": "markdown",
   "metadata": {
    "id": "2e9UD_CCxqz_"
   },
   "source": [
    "As variáveis textuais contém vários métodos que nos ajudam a formatar strings. Métódos podem ser executados ao definirmos um objeto seguindo a seguinte estrutura:\n",
    "\n",
    "```\n",
    "objeto.metodo()\n",
    "```\n",
    "\n",
    "Existem métodos que não necessitam dos `()`, é preciso verificar a documentação de cada caso."
   ]
  },
  {
   "cell_type": "markdown",
   "metadata": {
    "id": "p6aPmMGP4tf9"
   },
   "source": [
    "---\n",
    "**Situação:**\n",
    "\n",
    "Recebemos uma variável com o nome de uma professora da escola para inserimos no cadastro. No entanto, precisamos tratar esse texto antes de inserirmos no sistema"
   ]
  },
  {
   "cell_type": "code",
   "execution_count": null,
   "metadata": {
    "id": "4tkS8Iit1Ccg"
   },
   "outputs": [],
   "source": [
    "texto = '  Geovana Alessandra dias Sanyos '"
   ]
  },
  {
   "cell_type": "markdown",
   "metadata": {
    "id": "Dg2ZXSZOGzjC"
   },
   "source": [
    "O objetivo final é que o nome esteja da seguinte forma:\n",
    "\n",
    "```\n",
    "'GEOVANA ALESSANDRA DIAS SANTOS'\n",
    "```"
   ]
  },
  {
   "cell_type": "markdown",
   "metadata": {
    "id": "iVTAD8q702eN"
   },
   "source": [
    "### [`str.upper()` ](https://docs.python.org/3/library/stdtypes.html#str.upper)\n",
    "Converte uma string para maiúsculas"
   ]
  },
  {
   "cell_type": "code",
   "execution_count": null,
   "metadata": {
    "colab": {
     "base_uri": "https://localhost:8080/",
     "height": 36
    },
    "id": "sWMt1iWW5LdN",
    "outputId": "1a5bdaf9-e989-41ea-cac8-12b9fe08f7e3"
   },
   "outputs": [
    {
     "data": {
      "application/vnd.google.colaboratory.intrinsic+json": {
       "type": "string"
      },
      "text/plain": [
       "'  GEOVANA ALESSANDRA DIAS SANYOS '"
      ]
     },
     "execution_count": 23,
     "metadata": {},
     "output_type": "execute_result"
    }
   ],
   "source": [
    "texto.upper()"
   ]
  },
  {
   "cell_type": "markdown",
   "metadata": {
    "id": "hbDSBtMV1TpG"
   },
   "source": [
    "### [`str.lower()`](https://docs.python.org/3/library/stdtypes.html#str.lower)\n",
    "Método converte uma string para minúsculas."
   ]
  },
  {
   "cell_type": "code",
   "execution_count": null,
   "metadata": {
    "colab": {
     "base_uri": "https://localhost:8080/",
     "height": 36
    },
    "id": "ypSOC5WR5MTi",
    "outputId": "f4d70f26-55d9-40e7-de76-18d8a2f84eb9"
   },
   "outputs": [
    {
     "data": {
      "application/vnd.google.colaboratory.intrinsic+json": {
       "type": "string"
      },
      "text/plain": [
       "'  geovana alessandra dias sanyos '"
      ]
     },
     "execution_count": 24,
     "metadata": {},
     "output_type": "execute_result"
    }
   ],
   "source": [
    "texto.lower()"
   ]
  },
  {
   "cell_type": "markdown",
   "metadata": {
    "id": "kz47eWM11gii"
   },
   "source": [
    "### [`str.strip()`](https://docs.python.org/3/library/stdtypes.html#str.strip)\n",
    "Método remove os espaços em branco do início e do fim de uma string."
   ]
  },
  {
   "cell_type": "code",
   "execution_count": null,
   "metadata": {
    "colab": {
     "base_uri": "https://localhost:8080/",
     "height": 36
    },
    "id": "Xys25o1N5NKD",
    "outputId": "1298cabe-c25e-40bf-a01c-581163522d5b"
   },
   "outputs": [
    {
     "data": {
      "application/vnd.google.colaboratory.intrinsic+json": {
       "type": "string"
      },
      "text/plain": [
       "'Geovana Alessandra dias Sanyos'"
      ]
     },
     "execution_count": 25,
     "metadata": {},
     "output_type": "execute_result"
    }
   ],
   "source": [
    "texto.strip()"
   ]
  },
  {
   "cell_type": "markdown",
   "metadata": {
    "id": "m6notiyS1SCV"
   },
   "source": [
    "### [`str.replace(antigo, novo)`](https://docs.python.org/3/library/stdtypes.html#str.replace)\n",
    "\n",
    "Método substitui todas as ocorrências do texto \"antigo\" na string por \"novo\""
   ]
  },
  {
   "cell_type": "code",
   "execution_count": null,
   "metadata": {
    "colab": {
     "base_uri": "https://localhost:8080/",
     "height": 36
    },
    "id": "oY2mU2Id5OcO",
    "outputId": "349da391-894e-4b83-a857-6f4e118cbae8"
   },
   "outputs": [
    {
     "data": {
      "application/vnd.google.colaboratory.intrinsic+json": {
       "type": "string"
      },
      "text/plain": [
       "'  Geovana Alessandra dias Santos '"
      ]
     },
     "execution_count": 26,
     "metadata": {},
     "output_type": "execute_result"
    }
   ],
   "source": [
    "texto.replace('y', 't')"
   ]
  },
  {
   "cell_type": "markdown",
   "metadata": {
    "id": "zukvEjhG2Rcn"
   },
   "source": [
    "### Observações\n",
    "\n",
    "1. Os métodos retornam uma **tranformação**, não a executam no texto!\n",
    "\n",
    "2. Além disso, podemos acumular a execução de métodos."
   ]
  },
  {
   "cell_type": "code",
   "execution_count": null,
   "metadata": {
    "colab": {
     "base_uri": "https://localhost:8080/"
    },
    "id": "Q6O5y20u5PQk",
    "outputId": "3adfd1bb-4047-4c85-c9fb-4a858a2d7d7a"
   },
   "outputs": [
    {
     "name": "stdout",
     "output_type": "stream",
     "text": [
      "GEOVANA ALESSANDRA DIAS SANTOS\n"
     ]
    }
   ],
   "source": [
    "texto = texto.strip().replace('y', 't').upper()\n",
    "print(texto)"
   ]
  },
  {
   "cell_type": "markdown",
   "metadata": {
    "id": "1KbwfVut2h6I"
   },
   "source": [
    "Para que seja executada a transformação nós podemos atribuir às saídas das transformações à variável"
   ]
  },
  {
   "cell_type": "code",
   "execution_count": null,
   "metadata": {
    "id": "W6DiHv2H5Tq-"
   },
   "outputs": [],
   "source": []
  },
  {
   "cell_type": "markdown",
   "metadata": {
    "id": "0h9Fh5G9kHCa"
   },
   "source": [
    "## Coletando dados\n",
    "\n",
    "Em algumas aplicações precisamos coletar valores da pessoa usuária do nosso projeto. Em python conseguimos coletar dados de usuário através do comando [`input()`](https://docs.python.org/3/library/functions.html#input).\n",
    "\n",
    "Para fazer essa coleta podemos atribuir essa função à uma variável."
   ]
  },
  {
   "cell_type": "code",
   "execution_count": null,
   "metadata": {
    "colab": {
     "base_uri": "https://localhost:8080/"
    },
    "id": "iEJyxhIj41id",
    "outputId": "da0a9301-b996-4a62-fa47-9c14156c2e09"
   },
   "outputs": [
    {
     "name": "stdout",
     "output_type": "stream",
     "text": [
      "Escreva seu nome: Teste\n"
     ]
    }
   ],
   "source": [
    "nome = input('Escreva seu nome: ')"
   ]
  },
  {
   "cell_type": "code",
   "execution_count": null,
   "metadata": {
    "colab": {
     "base_uri": "https://localhost:8080/",
     "height": 36
    },
    "id": "MoMXzZkC41Ze",
    "outputId": "43cf74f8-335a-41b9-c457-6cd6be93e9d7"
   },
   "outputs": [
    {
     "data": {
      "application/vnd.google.colaboratory.intrinsic+json": {
       "type": "string"
      },
      "text/plain": [
       "'Teste'"
      ]
     },
     "execution_count": 32,
     "metadata": {},
     "output_type": "execute_result"
    }
   ],
   "source": [
    "nome"
   ]
  },
  {
   "cell_type": "markdown",
   "metadata": {
    "id": "7z7hcLCk_aCY"
   },
   "source": [
    "O retorno desse comando sempre será uma *string*. Isso quer dizer que mesmo que façamos uma coleta de algo que deva ser numérico, ele será uma string.\n",
    "\n",
    "Então, será preciso **converter o resultado caso não seja desejável obter uma string**."
   ]
  },
  {
   "cell_type": "markdown",
   "metadata": {
    "id": "TOlegATj1Jfp"
   },
   "source": [
    "Existem funções para conversão de valores:\n",
    "\n",
    "- Inteiros: [`int(dado_para_conversao)`](https://docs.python.org/3/library/functions.html#int)\n",
    "- Float: [`float(dado_para_conversao)`](https://docs.python.org/3/library/functions.html#float)\n",
    "- String: [`str(dado_para_conversao)`](https://docs.python.org/3/library/functions.html#func-str)\n",
    "- Booleano: [`bool(dado_para_conversao)`](https://docs.python.org/3/library/functions.html#bool)"
   ]
  },
  {
   "cell_type": "code",
   "execution_count": null,
   "metadata": {
    "colab": {
     "base_uri": "https://localhost:8080/"
    },
    "id": "MQRu7y9646S9",
    "outputId": "66729d9d-de2b-48f5-ef75-e0a35a8589a2"
   },
   "outputs": [
    {
     "name": "stdout",
     "output_type": "stream",
     "text": [
      "Escreva o ano de ingresso do(a) estudante: 2022\n"
     ]
    }
   ],
   "source": [
    "ano_entrada = input('Escreva o ano de ingresso do(a) estudante: ')"
   ]
  },
  {
   "cell_type": "code",
   "execution_count": null,
   "metadata": {
    "colab": {
     "base_uri": "https://localhost:8080/"
    },
    "id": "FwezgXQA48VF",
    "outputId": "9b771764-d779-4e4a-bd86-447e838aa8d3"
   },
   "outputs": [
    {
     "data": {
      "text/plain": [
       "str"
      ]
     },
     "execution_count": 34,
     "metadata": {},
     "output_type": "execute_result"
    }
   ],
   "source": [
    "type(ano_entrada)"
   ]
  },
  {
   "cell_type": "code",
   "execution_count": null,
   "metadata": {
    "colab": {
     "base_uri": "https://localhost:8080/"
    },
    "id": "bbRqzmOJ49Q1",
    "outputId": "cc2f04a5-7715-4448-a683-5a67b4df1c2f"
   },
   "outputs": [
    {
     "name": "stdout",
     "output_type": "stream",
     "text": [
      "Escreva o ano de ingresso do(a) estudante: 2022\n"
     ]
    }
   ],
   "source": [
    "ano_entrada = int(input(\"Escreva o ano de ingresso do(a) estudante: \"))"
   ]
  },
  {
   "cell_type": "code",
   "execution_count": null,
   "metadata": {
    "colab": {
     "base_uri": "https://localhost:8080/"
    },
    "id": "nu5xycbG4-X1",
    "outputId": "dd5f60b4-4a94-4375-bcb2-c8bfef490aa4"
   },
   "outputs": [
    {
     "data": {
      "text/plain": [
       "int"
      ]
     },
     "execution_count": 36,
     "metadata": {},
     "output_type": "execute_result"
    }
   ],
   "source": [
    "type(ano_entrada)"
   ]
  },
  {
   "cell_type": "markdown",
   "metadata": {
    "id": "yNI2-XTbB3aS"
   },
   "source": [
    "Buscaremos apresentar melhor agora o resultado que obtivemos da transformação. Nós conseguimos formatar e apresentar o nosso resultado misturando strings com valores não textuais.\n",
    "\n",
    "Para fazer isso usamos a estrutura de formatação `f` com strings."
   ]
  },
  {
   "cell_type": "code",
   "execution_count": null,
   "metadata": {
    "colab": {
     "base_uri": "https://localhost:8080/"
    },
    "id": "b1eYnEX-4wXz",
    "outputId": "1436d966-dea2-4358-91ee-7e2596502e18"
   },
   "outputs": [
    {
     "name": "stdout",
     "output_type": "stream",
     "text": [
      "Digite a nota do teste de ingresso: 9.0\n",
      "Ano de entrada 2022 - nota do teste de ingresso 9.0\n"
     ]
    }
   ],
   "source": [
    "nota_entrada = float(input('Digite a nota do teste de ingresso: '))\n",
    "print(f'Ano de entrada {ano_entrada} - nota do teste de ingresso {nota_entrada}')"
   ]
  },
  {
   "cell_type": "markdown",
   "metadata": {
    "id": "NwRaiHHHhhyl"
   },
   "source": [
    "# Estruturas condicionais"
   ]
  },
  {
   "cell_type": "markdown",
   "metadata": {
    "id": "qXZqg9aYEhAh"
   },
   "source": [
    "## `IF` e `ELSE`\n",
    "\n",
    "O `if` e `else` são duas estruturas condicionais. O `if` executará o bloco de comando caso a condição colocada for **verdadeira**. O `else` é um caso em que a condicional de `if` seja **falsa**."
   ]
  },
  {
   "cell_type": "markdown",
   "metadata": {
    "id": "EIhlqHXd2Gil"
   },
   "source": [
    "O `if` é uma palavra-chave em Python que significa \"se\". Ele é usado para formar uma estrutura condicional, que permite que você verifique se uma determinada condição é verdadeira ou falsa e, em seguida, execute um bloco de código específico dependendo do resultado da verificação. A sintaxe para usar o `if` é:\n",
    "\n",
    "\n",
    "\n",
    "```\n",
    "if condição:\n",
    "    # faça algo\n",
    "```\n",
    "\n"
   ]
  },
  {
   "cell_type": "code",
   "execution_count": null,
   "metadata": {
    "colab": {
     "base_uri": "https://localhost:8080/"
    },
    "id": "tKtzkTXW4j73",
    "outputId": "8798c5d6-3662-4acf-cc94-3bd1cc1711be"
   },
   "outputs": [
    {
     "name": "stdout",
     "output_type": "stream",
     "text": [
      "condicao verdadeira\n"
     ]
    }
   ],
   "source": [
    "if 2<7:\n",
    "  print('condicao verdadeira')"
   ]
  },
  {
   "cell_type": "markdown",
   "metadata": {
    "id": "27RW2v_sIKct"
   },
   "source": [
    "Já o `else` em Python é usada em conjunto com a palavra-chave `if` para formar uma estrutura condicional. A sintaxe para usar o `else` é:\n",
    "\n",
    "```\n",
    "if condição:\n",
    "  # código caso seja verdade\n",
    "else:\n",
    "  # código caso seja falso\n",
    "```\n",
    "\n",
    "O `else` é executado quando a condição verificada pelo `if` é avaliada como `False`."
   ]
  },
  {
   "cell_type": "markdown",
   "metadata": {
    "id": "BqORg85XX-Nl"
   },
   "source": [
    "---\n",
    "**Situação:**\n",
    "\n",
    "Receberemos a média de estudantes e precisamos de um algoritmo que execute a análise e decida se esse estudante está **Aprovado** ou Reprovado, mostrando uma mensagem do resultado. Para ser aprovado, a média precisa ser igual ou superior à 6.0."
   ]
  },
  {
   "cell_type": "code",
   "execution_count": null,
   "metadata": {
    "colab": {
     "base_uri": "https://localhost:8080/"
    },
    "id": "yaR8bt1P4iCv",
    "outputId": "29e02edf-d509-4132-851a-b7c93b76ca23"
   },
   "outputs": [
    {
     "name": "stdout",
     "output_type": "stream",
     "text": [
      "Digite a média: 4.0\n",
      "Reprovado(a)\n"
     ]
    }
   ],
   "source": [
    "media = float(input('Digite a média: '))\n",
    "if media>=6.0:\n",
    "  print('Aprovado(a)')\n",
    "else:\n",
    "  print('Reprovado(a)')"
   ]
  },
  {
   "cell_type": "markdown",
   "metadata": {
    "id": "bD9O17HB6LUo"
   },
   "source": [
    "Agora a nossa instituição de ensino lançou uma nota oficial que pessoas que tenham média entre 4.0 e 6.0 podem fazer os cursos de **Recuperação** nas férias para poder recuperar a nota.\n",
    "\n",
    "Então podemos agora fazer um conjunto de `if`s para que possamos estruturar essa nova condição."
   ]
  },
  {
   "cell_type": "code",
   "execution_count": null,
   "metadata": {
    "colab": {
     "base_uri": "https://localhost:8080/"
    },
    "id": "Rkde8bai4gvq",
    "outputId": "cea6eb3e-a905-4dd9-bdc5-dba62266d61e"
   },
   "outputs": [
    {
     "name": "stdout",
     "output_type": "stream",
     "text": [
      "Digite a média: 4.5\n",
      "Recuperação\n"
     ]
    }
   ],
   "source": [
    "media = float(input('Digite a média: '))\n",
    "\n",
    "if media >= 6.0:\n",
    "  print('Aprovado(a)')\n",
    "if 6.0 > media >= 4.0:\n",
    "  print('Recuperação')\n",
    "if media < 4.0:\n",
    "  print('Reprovado(a)')"
   ]
  },
  {
   "cell_type": "markdown",
   "metadata": {
    "id": "D5e2mByjvycO"
   },
   "source": [
    "Notemos que em casos com 3 situações como esse precisamos definir bem nossas condições. Pois foi feita uma construção com `else` no final, ele irá considerar apenas a alguma condicional para ser o caso **falso** podendo resultar em duas (ou mais) execuções.\n",
    "\n",
    "Por exemplo:"
   ]
  },
  {
   "cell_type": "code",
   "execution_count": null,
   "metadata": {
    "colab": {
     "base_uri": "https://localhost:8080/"
    },
    "id": "tKvjzq414fAN",
    "outputId": "04f65027-fc7a-4b8b-e19b-3c100c06de6c"
   },
   "outputs": [
    {
     "name": "stdout",
     "output_type": "stream",
     "text": [
      "Digite a média: 9.0\n",
      "Aprovado(a)\n",
      "Reprovado(a)\n"
     ]
    }
   ],
   "source": [
    "media = float(input('Digite a média: '))\n",
    "\n",
    "if media >= 6.0:\n",
    "  print('Aprovado(a)')\n",
    "if 6.0 > media >= 4.0:\n",
    "  print('Recuperação')\n",
    "else:\n",
    "  print('Reprovado(a)')"
   ]
  },
  {
   "cell_type": "markdown",
   "metadata": {
    "id": "04T5g-7h4zWx"
   },
   "source": [
    "## `ELIF`\n",
    "\n",
    "O `elif` é uma palavra-chave em Python que significa \"senão, se\" e pode ser considerado uma união do `else` com um `if`. Ela é usada em conjunto com a palavra-chave `if` para formar uma estrutura condicional encadeada.\n",
    "\n"
   ]
  },
  {
   "cell_type": "markdown",
   "metadata": {
    "id": "rNBHr5mm1Lm6"
   },
   "source": [
    "A sintaxe para usar o `elif` é:\n",
    "\n",
    "```\n",
    "if condição1:\n",
    "    # faça algo\n",
    "elif condição2:\n",
    "    # faça outra coisa\n",
    "elif condição3:\n",
    "    # faça mais alguma coisa\n",
    "else:\n",
    "    # faça algo diferente\n",
    "```\n",
    "\n",
    "O `elif` permite que você verifique várias condições de forma encadeada, economizando espaço em seu código. Se a primeira condição for avaliada como `False`, o interpretador Python avaliará a próxima condição no `elif`. Isso continuará até que uma condição seja avaliada como `True` ou até que o `else` seja atingido. Se nenhuma das condições forem avaliadas como `True`, a execução do código do `else` será iniciada."
   ]
  },
  {
   "cell_type": "markdown",
   "metadata": {
    "id": "MVoykFbB4bd4"
   },
   "source": [
    "Vamos usar o mesmo caso anterior:"
   ]
  },
  {
   "cell_type": "code",
   "execution_count": null,
   "metadata": {
    "colab": {
     "base_uri": "https://localhost:8080/"
    },
    "id": "UJCHKoX54dc2",
    "outputId": "3296b6ca-61a1-4678-877a-f348c145b469"
   },
   "outputs": [
    {
     "name": "stdout",
     "output_type": "stream",
     "text": [
      "Digite a média: 0.1\n",
      "Reprovado(a)\n"
     ]
    }
   ],
   "source": [
    "media = float(input('Digite a média: '))\n",
    "\n",
    "if media >= 6.0:\n",
    "  print('Aprovado(a)')\n",
    "elif 6.0 > media >= 4.0:\n",
    "  print('Recuperação')\n",
    "else:\n",
    "  print('Reprovado(a)')"
   ]
  },
  {
   "cell_type": "markdown",
   "metadata": {
    "id": "Tf1wSOem6iwZ"
   },
   "source": [
    "## Operadores\n",
    "\n",
    "Durante a construção de comandos por vezes precisamos de uma elaboração maior de da expressão condicional, necessitando que alguns operadores lógicos estejam integrados."
   ]
  },
  {
   "cell_type": "markdown",
   "metadata": {
    "id": "GFIZnRWXGPWO"
   },
   "source": [
    "### `AND`, `OR`, `NOT`\n",
    "\n",
    "Os operadores lógicos `and`, `or` e `not` são usados para combinar expressões lógicas em Python. Eles são usados frequentemente em conjunto com o `if` para criar estruturas condicionais mais complexas.\n"
   ]
  },
  {
   "cell_type": "markdown",
   "metadata": {
    "id": "Z_dgAoHXJbzB"
   },
   "source": [
    "- `AND` é usado para verificar se duas condições são verdadeiras. A expressão lógica¹ `x and y` é avaliada como `True` apenas se **ambas as condições `x` e `y` forem verdadeiras**, e como `False` caso contrário.\n",
    "\n",
    "- `OR` é usado para verificar se pelo menos uma das condições é verdadeira. A expressão lógica `x or y` é avaliada como `True` **se pelo menos uma das condições `x` ou `y` for verdadeira**, e como `False` se ambas forem falsas.\n",
    "\n",
    "- `NOT` é usado para **negar uma condição**. A expressão lógica not x é avaliada como True se a condição x for falsa, e como False se a condição x for verdadeira.\n",
    "\n",
    "¹ Uma expressão lógica é uma declaração que pode ser avaliada como verdadeira ou falsa. Ela é composta por operandos lógicos² e operadores lógicos³, que são usados ​​para combinar várias expressões lógicas em uma única expressão.\n",
    "\n",
    "² Os operandos lógicos são os elementos que são comparados ou avaliados em uma expressão lógica. Eles são geralmente valores verdadeiros ou falsos, mas também podem ser expressões lógicas mais complexas. Em Python, os operandos lógicos são os valores `True` e `False`.\n",
    "\n",
    "³ Os operadores lógicos são os símbolos ou palavras-chave que são usados ​​para combinar várias expressões lógicas em uma única expressão. Em Python, os operadores lógicos são `and`, `or` e `not`, bem como as palavras-chave `if`, `elif` e `else`."
   ]
  },
  {
   "cell_type": "code",
   "execution_count": null,
   "metadata": {
    "id": "Fs_qb0dLOXsj"
   },
   "outputs": [],
   "source": [
    "t1 = t2 = True\n",
    "f1 = f2 = False"
   ]
  },
  {
   "cell_type": "code",
   "execution_count": null,
   "metadata": {
    "colab": {
     "base_uri": "https://localhost:8080/"
    },
    "id": "kL4QVdlZ4O43",
    "outputId": "c2912825-c2ce-40d4-dd39-cd9e147b2a25"
   },
   "outputs": [
    {
     "name": "stdout",
     "output_type": "stream",
     "text": [
      "expressão verdadeira\n"
     ]
    }
   ],
   "source": [
    "if t1  and t2:\n",
    "  print('expressão verdadeira')\n",
    "else:\n",
    "  print('expressão falsa')"
   ]
  },
  {
   "cell_type": "code",
   "execution_count": null,
   "metadata": {
    "colab": {
     "base_uri": "https://localhost:8080/"
    },
    "id": "JmQYjvsz4Pw5",
    "outputId": "4270e137-f994-4a53-b831-4d2fb1c35d81"
   },
   "outputs": [
    {
     "name": "stdout",
     "output_type": "stream",
     "text": [
      "expressão falsa\n"
     ]
    }
   ],
   "source": [
    "if f1 or f2:\n",
    "  print('expressão verdadeira')\n",
    "else:\n",
    "  print('expressão falsa')"
   ]
  },
  {
   "cell_type": "code",
   "execution_count": null,
   "metadata": {
    "colab": {
     "base_uri": "https://localhost:8080/"
    },
    "id": "WHfJ-ZLM4Q3k",
    "outputId": "b923fa23-e00b-4517-cca4-ef66085f5406"
   },
   "outputs": [
    {
     "name": "stdout",
     "output_type": "stream",
     "text": [
      "expressão falsa\n"
     ]
    }
   ],
   "source": [
    "if not t1:\n",
    "  print('expressão verdadeira')\n",
    "else:\n",
    "  print('expressão falsa')"
   ]
  },
  {
   "cell_type": "markdown",
   "metadata": {
    "id": "w7EXG1dhWtja"
   },
   "source": [
    "### `IN`\n",
    "\n",
    "É usado para verificar se um elemento está presente em uma lista, tupla ou outra variável de conjunto. A expressão `x in y` é avaliada como `True` se o elemento `x` estiver presente na variável de conjunto `y`, e como `False` caso contrário."
   ]
  },
  {
   "cell_type": "markdown",
   "metadata": {
    "id": "enJNp6JenQbq"
   },
   "source": [
    "Podemos verificar isso com variáveis de texto.\n",
    "\n",
    "---\n",
    "\n",
    "**Situação:**\n",
    "\n",
    "Na escola foi passada uma lista com nomes de estudantes que foram aprovados por média no semestre, mas é preciso verificar se alguns nomes estão nessa lista para verificar se os dados estão corretos.\n",
    "\n",
    "A lista distribuida pode ser observada abaixo:\n",
    "\n",
    "```\n",
    "lista = 'José da Silva, Maria Oliveira, Pedro Martins, Ana Souza, Carlos Rodrigues, Juliana Santos, Bruno Gomes, Beatriz Costa, Felipe Almeida, Mariana Fernandes, João Pinto, Luísa Nascimento, Gabriel Souza, Manuela Santos, Thiago Oliveira, Sofia Ferreira, Rafael Albuquerque, Isabella Gomes, Bruno Costa, Maria Martins, Rafaela Souza, Matheus Fernandes, Luísa Almeida, Beatriz Pinto, Mariana Rodrigues, Gabriel Nascimento, João Ferreira, Maria Albuquerque, Felipe Oliveira\n",
    "'\n",
    "```\n",
    "\n",
    "Os nomes que precisam ser verificados são os seguintes:\n",
    "\n",
    "```\n",
    "nome_1 = 'Mariana Rodrigues'\n",
    "nome_2 = 'Marcelo Nogueira'\n",
    "```"
   ]
  },
  {
   "cell_type": "code",
   "execution_count": null,
   "metadata": {
    "colab": {
     "base_uri": "https://localhost:8080/",
     "height": 90
    },
    "id": "kU25ABUQ5NBe",
    "outputId": "a6ab2102-dee1-4b7a-f5ad-c6c643f69347"
   },
   "outputs": [
    {
     "data": {
      "application/vnd.google.colaboratory.intrinsic+json": {
       "type": "string"
      },
      "text/plain": [
       "'José da Silva, Maria Oliveira, Pedro Martins, Ana Souza, Carlos Rodrigues, Juliana Santos, Bruno Gomes, Beatriz Costa, Felipe Almeida, Mariana Fernandes, João Pinto, Luísa Nascimento, Gabriel Souza, Manuela Santos, Thiago Oliveira, Sofia Ferreira, Rafael Albuquerque, Isabella Gomes, Bruno Costa, Maria Martins, Rafaela Souza, Matheus Fernandes, Luísa Almeida, Beatriz Pinto, Mariana Rodrigues, Gabriel Nascimento, João Ferreira, Maria Albuquerque, Felipe Oliveira'"
      ]
     },
     "execution_count": 13,
     "metadata": {},
     "output_type": "execute_result"
    }
   ],
   "source": [
    "lista = 'José da Silva, Maria Oliveira, Pedro Martins, Ana Souza, Carlos Rodrigues, Juliana Santos, Bruno Gomes, Beatriz Costa, Felipe Almeida, Mariana Fernandes, João Pinto, Luísa Nascimento, Gabriel Souza, Manuela Santos, Thiago Oliveira, Sofia Ferreira, Rafael Albuquerque, Isabella Gomes, Bruno Costa, Maria Martins, Rafaela Souza, Matheus Fernandes, Luísa Almeida, Beatriz Pinto, Mariana Rodrigues, Gabriel Nascimento, João Ferreira, Maria Albuquerque, Felipe Oliveira'\n",
    "lista"
   ]
  },
  {
   "cell_type": "code",
   "execution_count": null,
   "metadata": {
    "id": "GY82qLpivC6Y"
   },
   "outputs": [],
   "source": [
    "nome_1 = 'Mariana Rodrigues'\n",
    "nome_2 = 'Marcelo Nogueira'"
   ]
  },
  {
   "cell_type": "code",
   "execution_count": null,
   "metadata": {
    "colab": {
     "base_uri": "https://localhost:8080/"
    },
    "id": "ipyXfbpb37b0",
    "outputId": "80e2043a-ed67-4a64-f372-0b53b8f7b5b9"
   },
   "outputs": [
    {
     "name": "stdout",
     "output_type": "stream",
     "text": [
      "Mariana Rodrigues está na lista\n"
     ]
    }
   ],
   "source": [
    "if nome_1 in lista:\n",
    "  print(f'{nome_1} está na lista')\n",
    "else:\n",
    "  print(f'{nome_1} não está na lista')"
   ]
  },
  {
   "cell_type": "code",
   "execution_count": null,
   "metadata": {
    "id": "KfXxC9A537RP"
   },
   "outputs": [],
   "source": []
  },
  {
   "cell_type": "markdown",
   "metadata": {
    "id": "aL1vJPewvwvz"
   },
   "source": [
    "# Estruturas de repetição"
   ]
  },
  {
   "cell_type": "markdown",
   "metadata": {
    "id": "VcPfCa8d-84t"
   },
   "source": [
    "Quando temos que executar um mesmo bloco de comandos por várias vezes não é muito interessante fazer isso à mão.\n",
    "\n",
    "Imaginemos a situação de termos que coletar e imprimir a média de duas notas de **3 estudantes**:"
   ]
  },
  {
   "cell_type": "code",
   "execution_count": null,
   "metadata": {
    "colab": {
     "base_uri": "https://localhost:8080/"
    },
    "id": "LzPyN4Ad3qwy",
    "outputId": "38218150-c8f3-4066-9856-a90daa0db8e5"
   },
   "outputs": [
    {
     "name": "stdout",
     "output_type": "stream",
     "text": [
      "Digite a 1° nota: 5.0\n",
      "Digite a 2° nota: 9.9\n",
      "Média: 7.45\n"
     ]
    }
   ],
   "source": [
    "nota_1 = float(input('Digite a 1° nota: '))\n",
    "nota_2 = float(input('Digite a 2° nota: '))\n",
    "\n",
    "print(f'Média: {(nota_1+nota_2)/2}')"
   ]
  },
  {
   "cell_type": "markdown",
   "metadata": {
    "id": "9puIuvUbFSFX"
   },
   "source": [
    "Agora imaginemos uma situação em que não são apenas 3 estudantes, mas sim 100 estudantes. Não seria interessante repetir o mesmo código por 100 vezes, mas sim **executar o mesmo código 100 vezes**.\n",
    "\n",
    "Essa repetição conseguimos construir com laços de repetição!"
   ]
  },
  {
   "cell_type": "markdown",
   "metadata": {
    "id": "uLO9-aE4-wx8"
   },
   "source": [
    "## `WHILE`"
   ]
  },
  {
   "cell_type": "markdown",
   "metadata": {
    "id": "rXZxDMiqHxm9"
   },
   "source": [
    "O laço `while` é uma estrutura de controle de repetição em Python que permite executar um bloco de código repetidamente enquanto uma determinada condição é verdadeira. Sua estrutura é:\n",
    "\n",
    "\n",
    "\n",
    "```\n",
    "while condição:\n",
    "    # bloco de código\n",
    "```\n",
    "\n",
    "Vamos construir um exemplo com um contador de 1 até 10.\n"
   ]
  },
  {
   "cell_type": "code",
   "execution_count": null,
   "metadata": {
    "colab": {
     "base_uri": "https://localhost:8080/"
    },
    "id": "6b_izu633j0O",
    "outputId": "8d76a8b2-4377-4ad0-ea0e-c2ce80878444"
   },
   "outputs": [
    {
     "name": "stdout",
     "output_type": "stream",
     "text": [
      "1\n",
      "2\n",
      "3\n",
      "4\n",
      "5\n",
      "6\n",
      "7\n",
      "8\n",
      "9\n",
      "10\n"
     ]
    }
   ],
   "source": [
    "contador = 1\n",
    "while contador <= 10:\n",
    "  print(contador)\n",
    "  contador = contador + 1"
   ]
  },
  {
   "cell_type": "markdown",
   "metadata": {
    "id": "W4KZPBJuIrut"
   },
   "source": [
    "Agora vamos coletar as notas e médias de cada aluno dentro do while. Faremos um exemplo com 3 médias."
   ]
  },
  {
   "cell_type": "code",
   "execution_count": null,
   "metadata": {
    "colab": {
     "base_uri": "https://localhost:8080/"
    },
    "id": "aIeQ_CzW3jiP",
    "outputId": "304132e4-8808-4720-a16f-1d74f4da7288"
   },
   "outputs": [
    {
     "name": "stdout",
     "output_type": "stream",
     "text": [
      "Digite sua primera nota...10\n",
      "Digite sua segunda nota...6\n",
      "sua média é 8.0\n",
      "Digite sua primera nota...7\n",
      "Digite sua segunda nota...5\n",
      "sua média é 6.0\n",
      "Digite sua primera nota...2\n",
      "Digite sua segunda nota...10\n",
      "sua média é 6.0\n"
     ]
    }
   ],
   "source": [
    "contador = 1\n",
    "while contador <= 3:\n",
    "  nota_1 = float(input('Digite a 1° nota: '))\n",
    "  nota_2 = float(input('Digite a 2° nota: '))\n",
    "\n",
    "  print(f'Média: {(nota_1+nota_2)/2}')\n",
    "  contador = contador + 1"
   ]
  },
  {
   "cell_type": "markdown",
   "metadata": {
    "id": "WgAIaENMMfCP"
   },
   "source": [
    "## `FOR`"
   ]
  },
  {
   "cell_type": "markdown",
   "metadata": {
    "id": "HxrSZoRAMh-x"
   },
   "source": [
    "O laço `for` é um tipo de estrutura de controle de fluxo em Python que permite iterar sobre um conjunto de elementos. A sua estrutura é:\n",
    "\n",
    "\n",
    "\n",
    "```\n",
    "for elemento in conjunto:\n",
    "    # código a ser executado para cada elemento\n",
    "```\n",
    "\n",
    "O laço for itera sobre cada elemento do conjunto especificado e executa o bloco de código dentro do laço para cada elemento. Quando o laço chega ao final do conjunto, ele é interrompido e o programa continua a execução após o laço.\n",
    "\n"
   ]
  },
  {
   "cell_type": "markdown",
   "metadata": {
    "id": "6VgjyoQtPHBM"
   },
   "source": [
    "O conjunto pode ser gerado com a função [`range()`](https://docs.python.org/3/library/functions.html#func-range). Que é uma função capaz de gerar uma sequência de números inteiros. A estrutura dessa função é:\n",
    "\n",
    "```\n",
    "range(inicio, fim, passo)\n",
    "```\n",
    "\n",
    "Segundo a documentação, o `range()` gera uma sequência de números inteiros a partir do valor do parâmetro `inicio` até o valor do parâmetro `fim`, de acordo com o valor do parâmetro `passo`. Se `inicio` não for especificado, o valor padrão é 0. Se `passo` não for especificado, o valor padrão é 1.\n",
    "\n",
    "\n"
   ]
  },
  {
   "cell_type": "markdown",
   "metadata": {
    "id": "ryn0hfdlUwC8"
   },
   "source": [
    "Vamos fazer o mesmo contador `while` agora com `for`."
   ]
  },
  {
   "cell_type": "code",
   "execution_count": null,
   "metadata": {
    "colab": {
     "base_uri": "https://localhost:8080/"
    },
    "id": "t6qcdPyP3YgZ",
    "outputId": "01089ba9-70fc-402c-8594-60a0023f2072"
   },
   "outputs": [
    {
     "name": "stdout",
     "output_type": "stream",
     "text": [
      "10\n",
      "1\n",
      "2\n",
      "3\n",
      "4\n",
      "5\n",
      "6\n",
      "7\n",
      "8\n",
      "9\n",
      "10\n"
     ]
    }
   ],
   "source": [
    "print(contador)\n",
    "for contador in range(1,11):\n",
    "  print(contador)"
   ]
  },
  {
   "cell_type": "code",
   "execution_count": null,
   "metadata": {
    "colab": {
     "base_uri": "https://localhost:8080/"
    },
    "id": "KBeY8z573YWz",
    "outputId": "031200d2-6849-4ed8-faa0-59d3e4c1dd31"
   },
   "outputs": [
    {
     "name": "stdout",
     "output_type": "stream",
     "text": [
      "Insira um número inteiro: 27\n",
      "27 não é um número primo\n"
     ]
    }
   ],
   "source": [
    "num = int(input('Insira um número inteiro: '))\n",
    "\n",
    "# números inteiros iguais ou abaixo de 1 não consideramos primos\n",
    "if num > 1:\n",
    "    for i in range(2, num):\n",
    "        # verificamos todos os restos de divisões entre todos os números abaixo de num\n",
    "        # se algum resto for 0, então ele é divisível por outro número além dele e 1\n",
    "        if (num % i) == 0:\n",
    "            print(f'{num} não é um número primo')\n",
    "            break\n",
    "    else:\n",
    "        print(f'{num} é um número primo')\n",
    "else:\n",
    "    print(f'{num} não é um número primo')"
   ]
  },
  {
   "cell_type": "markdown",
   "metadata": {
    "id": "8noP8OJ0Vhux"
   },
   "source": [
    "# Estruturas de dados"
   ]
  },
  {
   "cell_type": "markdown",
   "metadata": {
    "id": "xpEUkefTu8fY"
   },
   "source": [
    "Um conjunto de elementos é uma coleção de itens, que são armazenados juntos de maneira organizada. Alguns exemplos de conjuntos de elementos em Python são listas, strings e dicionários."
   ]
  },
  {
   "cell_type": "markdown",
   "metadata": {
    "id": "THSg4KYLwxIb"
   },
   "source": [
    "## Listas"
   ]
  },
  {
   "cell_type": "markdown",
   "metadata": {
    "id": "dzpsiqrOyJcK"
   },
   "source": [
    "As listas podem armazenar uma coleção de itens em ordem. Eles são delimitados por colchetes `[]` e os itens são separados por vírgulas.\n",
    "\n",
    "Elas também podem armazenar qualquer tipo de item, incluindo números, strings, objetos e outras listas. Elas também podem armazenar itens de tipos de dados diferentes juntos em uma única lista."
   ]
  },
  {
   "cell_type": "code",
   "execution_count": null,
   "metadata": {
    "colab": {
     "base_uri": "https://localhost:8080/"
    },
    "id": "1NSzXfct3Lkw",
    "outputId": "1b182e2f-a983-4cfb-9231-d8d968e0d571"
   },
   "outputs": [
    {
     "data": {
      "text/plain": [
       "['Ryuzaki', 9.5, 9.0, 8.0, True]"
      ]
     },
     "execution_count": 1,
     "metadata": {},
     "output_type": "execute_result"
    }
   ],
   "source": [
    "lista = ['Ryuzaki', 9.5, 9.0, 8.0, True]\n",
    "lista"
   ]
  },
  {
   "cell_type": "markdown",
   "metadata": {
    "id": "qUz3sJNl6LgK"
   },
   "source": [
    "As listas são organizadas em Python porque **cada elemento da lista tem um índice que indica sua posição na lista**. Os índices começam em 0 e vão até o tamanho da lista menos 1."
   ]
  },
  {
   "cell_type": "markdown",
   "metadata": {
    "id": "rLf-Qg526hFD"
   },
   "source": [
    "Temos então 5 elementos com índices variando de 0 a 4, ordenadamente:\n",
    "\n",
    "```\n",
    "#             [0]           [1]   [2]   [3]    [4]\n",
    "lista = ['Fabricio Daniel', 9.5 , 9.0 , 8.0 , True]\n",
    "```\n",
    "\n",
    "Em Python temos também os índices **negativos** que se iniciam no último elemento com o valor de `-1` e depois avancam no universo dos negativos até chegar no 1° elemeno:\n",
    "\n",
    "```\n",
    "#             [-5]         [-4]  [-3]  [-2]   [-1]\n",
    "lista = ['Fabricio Daniel', 9.5 , 9.0 , 8.0 , True]\n",
    "```\n",
    "\n",
    "Conseguimos selecionar separadamente cada elemento através de seus respectivos índices. Colocando o nome da lista e em seguida o índice a ser selecionado."
   ]
  },
  {
   "cell_type": "code",
   "execution_count": null,
   "metadata": {
    "colab": {
     "base_uri": "https://localhost:8080/",
     "height": 36
    },
    "id": "S1lf1DWg3J7A",
    "outputId": "185c2e52-16cd-4367-948c-b5655bdbc9ab"
   },
   "outputs": [
    {
     "data": {
      "application/vnd.google.colaboratory.intrinsic+json": {
       "type": "string"
      },
      "text/plain": [
       "'Ryuzaki'"
      ]
     },
     "execution_count": 2,
     "metadata": {},
     "output_type": "execute_result"
    }
   ],
   "source": [
    "lista[0]"
   ]
  },
  {
   "cell_type": "code",
   "execution_count": null,
   "metadata": {
    "colab": {
     "base_uri": "https://localhost:8080/"
    },
    "id": "5MZu9F6S3JxS",
    "outputId": "a078a6d4-b8a3-4d3b-cedd-c75b6399fa37"
   },
   "outputs": [
    {
     "data": {
      "text/plain": [
       "True"
      ]
     },
     "execution_count": 3,
     "metadata": {},
     "output_type": "execute_result"
    }
   ],
   "source": [
    "lista[-1]"
   ]
  },
  {
   "cell_type": "code",
   "execution_count": null,
   "metadata": {
    "id": "9uLwwKom3Jmg"
   },
   "outputs": [],
   "source": []
  },
  {
   "cell_type": "markdown",
   "metadata": {
    "id": "6TaE1ijmBTCd"
   },
   "source": [
    "Uma forma mais dinâmica de trabalhar item por item de uma lista é utilizando um laço for para leitura elemento a elemento."
   ]
  },
  {
   "cell_type": "code",
   "execution_count": null,
   "metadata": {
    "colab": {
     "base_uri": "https://localhost:8080/"
    },
    "id": "2GWvY7F-3IVP",
    "outputId": "ddd5bf35-ad62-483c-e373-317a87ad4f93"
   },
   "outputs": [
    {
     "name": "stdout",
     "output_type": "stream",
     "text": [
      "Ryuzaki\n",
      "Exibindo o tipo do Elemento:  <class 'str'>\n",
      "9.5\n",
      "9.0\n",
      "8.0\n",
      "True\n"
     ]
    }
   ],
   "source": [
    "for elemento in lista:\n",
    "    print(elemento)"
   ]
  },
  {
   "cell_type": "code",
   "execution_count": null,
   "metadata": {
    "colab": {
     "base_uri": "https://localhost:8080/"
    },
    "id": "L1v1_eCtL3RL",
    "outputId": "d83dc9f4-aea7-41c1-8eb0-3824122e38bd"
   },
   "outputs": [
    {
     "name": "stdout",
     "output_type": "stream",
     "text": [
      "Ryuzaki\n",
      "Exibindo o tipo do Elemento: <class 'str'>\n",
      "9.5\n",
      "9.0\n",
      "8.0\n",
      "True\n"
     ]
    }
   ],
   "source": [
    "for elemento in lista:\n",
    "    print(elemento)\n",
    "    if elemento == 'Ryuzaki':\n",
    "      print('Exibindo o tipo do Elemento:', type(elemento))"
   ]
  },
  {
   "cell_type": "markdown",
   "metadata": {
    "id": "Dh1_HnIVvucY"
   },
   "source": [
    "A nota `8.0` de Fabricio Daniel precisa ser ajustada pois ganhou 2 pontos em sua ultima nota por fazer um trabalho de turma. Então é necessária fazer uma troca no valor do índice `3` de `8.0` para `10.0`."
   ]
  },
  {
   "cell_type": "code",
   "execution_count": null,
   "metadata": {
    "colab": {
     "base_uri": "https://localhost:8080/"
    },
    "id": "ffFiIlji3G7H",
    "outputId": "1ea66e54-c377-4e88-a393-6b3aff28b5fb"
   },
   "outputs": [
    {
     "data": {
      "text/plain": [
       "10.0"
      ]
     },
     "execution_count": 13,
     "metadata": {},
     "output_type": "execute_result"
    }
   ],
   "source": [
    "lista[3] = 10.0\n",
    "lista[3]"
   ]
  },
  {
   "cell_type": "markdown",
   "metadata": {
    "id": "53XduzXkycAf"
   },
   "source": [
    "conseguimos calcular a média do aluno a partir dos dados que temos"
   ]
  },
  {
   "cell_type": "code",
   "execution_count": null,
   "metadata": {
    "colab": {
     "base_uri": "https://localhost:8080/"
    },
    "id": "fRy9twzI3GFI",
    "outputId": "f8496951-c263-4f04-e9c7-63ede3efc45b"
   },
   "outputs": [
    {
     "data": {
      "text/plain": [
       "9.5"
      ]
     },
     "execution_count": 22,
     "metadata": {},
     "output_type": "execute_result"
    }
   ],
   "source": [
    "media = (lista[1] + lista[2] + lista[3])/3\n",
    "media"
   ]
  },
  {
   "cell_type": "markdown",
   "metadata": {
    "id": "d-iYr10-y4qw"
   },
   "source": [
    "## Manipulação de listas\n",
    "\n",
    "As listas são muito úteis em Python porque permitem armazenar e acessar uma coleção de itens de maneira organizada e rápida. Elas também oferecem muitos métodos úteis para manipular os itens armazenados, como adicionar, remover, classificar e pesquisar elementos."
   ]
  },
  {
   "cell_type": "markdown",
   "metadata": {
    "id": "ZLqx9A97XVB_"
   },
   "source": [
    "#### Quantidade de elementos\n",
    "\n",
    "Usamos a função [`len()`](https://docs.python.org/3/library/functions.html#len) para descobrimos a quantidade de elementos de um conjunto."
   ]
  },
  {
   "cell_type": "code",
   "execution_count": null,
   "metadata": {
    "colab": {
     "base_uri": "https://localhost:8080/"
    },
    "id": "TOVGVubX3BI_",
    "outputId": "eb830aa3-d55c-4c74-dd7d-7772a1268391"
   },
   "outputs": [
    {
     "data": {
      "text/plain": [
       "5"
      ]
     },
     "execution_count": 14,
     "metadata": {},
     "output_type": "execute_result"
    }
   ],
   "source": [
    "len(lista)"
   ]
  },
  {
   "cell_type": "markdown",
   "metadata": {
    "id": "Z5tpstlHJss3"
   },
   "source": [
    "#### Partição\n",
    "\n",
    "A partição de listas por indexação em Python é uma técnica muito útil para selecionar um subconjunto de elementos de uma lista. Ela é feita usando a sintaxe `lista[inicio:fim]`, onde `inicio` é o índice do primeiro elemento a ser incluído na partição e `fim` é o índice do primeiro elemento a ser excluído da partição."
   ]
  },
  {
   "cell_type": "code",
   "execution_count": null,
   "metadata": {
    "colab": {
     "base_uri": "https://localhost:8080/"
    },
    "id": "Gm9RaTnG28uC",
    "outputId": "0d299001-2f1a-4cdf-e998-c103426958da"
   },
   "outputs": [
    {
     "data": {
      "text/plain": [
       "[9.5, 9.0, 10.0]"
      ]
     },
     "execution_count": 16,
     "metadata": {},
     "output_type": "execute_result"
    }
   ],
   "source": [
    "lista[1:4]"
   ]
  },
  {
   "cell_type": "code",
   "execution_count": null,
   "metadata": {
    "id": "LfitkLcQ26MO"
   },
   "outputs": [],
   "source": [
    "lista[1:3]"
   ]
  },
  {
   "cell_type": "code",
   "execution_count": null,
   "metadata": {
    "colab": {
     "base_uri": "https://localhost:8080/"
    },
    "id": "1-99Q09W28Bu",
    "outputId": "3be0e606-0b50-4de6-c533-33a7276e1699"
   },
   "outputs": [
    {
     "data": {
      "text/plain": [
       "['Ryuzaki', 9.5, 9.0]"
      ]
     },
     "execution_count": 19,
     "metadata": {},
     "output_type": "execute_result"
    }
   ],
   "source": [
    "lista[:3]"
   ]
  },
  {
   "cell_type": "code",
   "execution_count": null,
   "metadata": {
    "colab": {
     "base_uri": "https://localhost:8080/"
    },
    "id": "j23Uwma5226l",
    "outputId": "cf388b88-af1d-4c82-fabd-adf1d4950783"
   },
   "outputs": [
    {
     "data": {
      "text/plain": [
       "[10.0, True]"
      ]
     },
     "execution_count": 20,
     "metadata": {},
     "output_type": "execute_result"
    }
   ],
   "source": [
    "lista[3:]"
   ]
  },
  {
   "cell_type": "code",
   "execution_count": null,
   "metadata": {
    "id": "zfMrd28_21_q"
   },
   "outputs": [],
   "source": []
  },
  {
   "cell_type": "markdown",
   "metadata": {
    "id": "O0RRyabkRzZC"
   },
   "source": [
    "#### [`append()`](https://docs.python.org/3/tutorial/datastructures.html#:~:text=of%20list%20objects%3A-,list.append(x),-Add%20an%20item)\n",
    "\n",
    "Adiciona um elemento ao final da lista."
   ]
  },
  {
   "cell_type": "code",
   "execution_count": null,
   "metadata": {
    "colab": {
     "base_uri": "https://localhost:8080/"
    },
    "id": "Sr2BasZE20qF",
    "outputId": "b70c650b-af89-4eab-b944-0c1314621977"
   },
   "outputs": [
    {
     "data": {
      "text/plain": [
       "['Ryuzaki', 9.5, 9.0, 10.0, True, 9.5, 9.5, 9.5]"
      ]
     },
     "execution_count": 26,
     "metadata": {},
     "output_type": "execute_result"
    }
   ],
   "source": [
    "lista.append(media)\n",
    "lista"
   ]
  },
  {
   "cell_type": "markdown",
   "metadata": {
    "id": "uQV91XMsUOJD"
   },
   "source": [
    "#### [`extend()`](https://docs.python.org/3/tutorial/datastructures.html#:~:text=list.extend(iterable))\n",
    "\n",
    "Adiciona vários elementos ao final da lista.\n",
    "\n",
    "Adicionaremos as notas `[10.0,8.0,9.0]` na lista do Fabricio Daniel"
   ]
  },
  {
   "cell_type": "code",
   "execution_count": null,
   "metadata": {
    "colab": {
     "base_uri": "https://localhost:8080/"
    },
    "id": "b8a6wX2w2zrs",
    "outputId": "1a088c54-3f6a-4a5c-f1a1-315fe954f4e9"
   },
   "outputs": [
    {
     "data": {
      "text/plain": [
       "[9.5,\n",
       " 9.5,\n",
       " 9.5,\n",
       " 10.0,\n",
       " 8.0,\n",
       " 9.0,\n",
       " 10.0,\n",
       " 8.0,\n",
       " 9.0,\n",
       " 10.0,\n",
       " 8.0,\n",
       " 9.0,\n",
       " 10.0,\n",
       " 8.0,\n",
       " 9.0,\n",
       " 10.0,\n",
       " 8.0,\n",
       " 9.0]"
      ]
     },
     "execution_count": 31,
     "metadata": {},
     "output_type": "execute_result"
    }
   ],
   "source": [
    "lista.extend([10.0,8.0,9.0])\n",
    "lista"
   ]
  },
  {
   "cell_type": "markdown",
   "metadata": {
    "id": "IVJvkTwNUk6M"
   },
   "source": [
    "*Isso não é possivel ser feito com o* `append`."
   ]
  },
  {
   "cell_type": "code",
   "execution_count": null,
   "metadata": {
    "id": "DyT9kWkB2yeB"
   },
   "outputs": [],
   "source": [
    "lista.append([10.0,8.0,9.0]) # Appen adiciona como um elemento único e não os três itens que eu quero\n"
   ]
  },
  {
   "cell_type": "code",
   "execution_count": null,
   "metadata": {
    "colab": {
     "base_uri": "https://localhost:8080/"
    },
    "id": "hFf2yPA9Szuf",
    "outputId": "4b88233d-4605-4530-888e-539dafc9844a"
   },
   "outputs": [
    {
     "data": {
      "text/plain": [
       "['Ryuzaki',\n",
       " 9.5,\n",
       " 9.0,\n",
       " 10.0,\n",
       " True,\n",
       " 9.5,\n",
       " 9.5,\n",
       " 9.5,\n",
       " 10.0,\n",
       " 8.0,\n",
       " 9.0,\n",
       " 10.0,\n",
       " 8.0,\n",
       " 9.0,\n",
       " 10.0,\n",
       " 8.0,\n",
       " 9.0,\n",
       " 10.0,\n",
       " 8.0,\n",
       " 9.0,\n",
       " 10.0,\n",
       " 8.0,\n",
       " 9.0,\n",
       " [10.0, 8.0, 9.0]]"
      ]
     },
     "execution_count": 33,
     "metadata": {},
     "output_type": "execute_result"
    }
   ],
   "source": [
    "lista"
   ]
  },
  {
   "cell_type": "markdown",
   "metadata": {
    "id": "dPGM5gpyUX1z"
   },
   "source": [
    "#### [`remove()`](https://docs.python.org/3/tutorial/datastructures.html#:~:text=append(x).-,list.remove(x),-Remove%20the%20first)\n",
    "\n",
    "Remove um elemento específico da lista."
   ]
  },
  {
   "cell_type": "code",
   "execution_count": null,
   "metadata": {
    "id": "QgXraxZL2xZN"
   },
   "outputs": [],
   "source": [
    "lista.remove([10.0, 8.0, 9.0])"
   ]
  },
  {
   "cell_type": "code",
   "execution_count": null,
   "metadata": {
    "colab": {
     "base_uri": "https://localhost:8080/"
    },
    "id": "ctJU3rXITJK5",
    "outputId": "c83f814a-59d9-4dd4-d21c-32c1521c2c0f"
   },
   "outputs": [
    {
     "data": {
      "text/plain": [
       "['Ryuzaki',\n",
       " 9.5,\n",
       " 9.0,\n",
       " 10.0,\n",
       " True,\n",
       " 9.5,\n",
       " 9.5,\n",
       " 9.5,\n",
       " 10.0,\n",
       " 8.0,\n",
       " 9.0,\n",
       " 10.0,\n",
       " 8.0,\n",
       " 9.0,\n",
       " 10.0,\n",
       " 8.0,\n",
       " 9.0,\n",
       " 10.0,\n",
       " 8.0,\n",
       " 9.0,\n",
       " 10.0,\n",
       " 8.0,\n",
       " 9.0]"
      ]
     },
     "execution_count": 35,
     "metadata": {},
     "output_type": "execute_result"
    }
   ],
   "source": [
    "lista"
   ]
  },
  {
   "cell_type": "markdown",
   "metadata": {
    "id": "Rc22Vc08YDZ2"
   },
   "source": [
    "## Dicionário"
   ]
  },
  {
   "cell_type": "markdown",
   "metadata": {
    "id": "PJ-cCKPjeWxL"
   },
   "source": [
    "Os dicionários são um tipo de estrutura de dados que armazenam pares de *chave-valor*. Eles são delimitados por chaves `{}` e os pares *chave-valor* são separados por vírgulas.\n",
    "\n",
    "```\n",
    "dicionário = {chave: valor}\n",
    "```\n",
    "\n",
    "A **chave** é um elemento único que identifica um valor no dicionário, enquanto o **valor** é o item que é armazenado para a chave. As chaves e os valores podem ser de **qualquer tipo de dado**.\n",
    "\n",
    "Os dicionários são úteis para armazenar e acessar dados de maneira organizada e rápida. Eles são um tipo de conjunto de elementos em Python, pois armazenam uma coleção de itens."
   ]
  },
  {
   "cell_type": "code",
   "execution_count": null,
   "metadata": {
    "colab": {
     "base_uri": "https://localhost:8080/"
    },
    "id": "fO6BSSP02lPY",
    "outputId": "1cbfc6e4-1280-4c88-8779-9c6084db934a"
   },
   "outputs": [
    {
     "data": {
      "text/plain": [
       "{'chave_1': 1, 'chave_2': 2}"
      ]
     },
     "execution_count": 2,
     "metadata": {},
     "output_type": "execute_result"
    }
   ],
   "source": [
    "dicionario = {'chave_1':1,\n",
    "              'chave_2':2}\n",
    "dicionario"
   ]
  },
  {
   "cell_type": "markdown",
   "metadata": {
    "id": "_JbQ3KMKfkXU"
   },
   "source": [
    "---\n",
    "**Situação:**\n",
    "\n",
    "Vamos criar um conjunto de dados com informações de matricula de um estudante. Os dados são os seguintes:\n",
    "\n",
    "- matricula: 2000168933\n",
    "- dia de cadastro: 25\n",
    "- mês de cadastro: 10\n",
    "- turma: 2E"
   ]
  },
  {
   "cell_type": "code",
   "execution_count": null,
   "metadata": {
    "colab": {
     "base_uri": "https://localhost:8080/"
    },
    "id": "Q1SKuEXQ2jkL",
    "outputId": "24f7cdd7-8e72-49e1-8db3-c3c2c62d3055"
   },
   "outputs": [
    {
     "data": {
      "text/plain": [
       "{'matricula': 2000168933,\n",
       " 'dia_cadastro': 25,\n",
       " 'mês_cadastro': 10,\n",
       " 'turma': '2E'}"
      ]
     },
     "execution_count": 2,
     "metadata": {},
     "output_type": "execute_result"
    }
   ],
   "source": [
    "cadastro = {'matricula': 2000168933,\n",
    "'dia_cadastro': 25,\n",
    "'mês_cadastro': 10,\n",
    "'turma': '2E'}\n",
    "\n",
    "cadastro"
   ]
  },
  {
   "cell_type": "code",
   "execution_count": null,
   "metadata": {
    "colab": {
     "base_uri": "https://localhost:8080/"
    },
    "id": "H7oT2M_a2jY5",
    "outputId": "1e851969-6e56-4d06-e5bc-4fb5bb9f6bf3"
   },
   "outputs": [
    {
     "data": {
      "text/plain": [
       "2000168933"
      ]
     },
     "execution_count": 3,
     "metadata": {},
     "output_type": "execute_result"
    }
   ],
   "source": [
    "cadastro['matricula']"
   ]
  },
  {
   "cell_type": "code",
   "execution_count": null,
   "metadata": {
    "colab": {
     "base_uri": "https://localhost:8080/",
     "height": 36
    },
    "id": "Mv8we96a2jPR",
    "outputId": "3c6b57c4-0e11-45a2-b3f9-df24685eb114"
   },
   "outputs": [
    {
     "data": {
      "application/vnd.google.colaboratory.intrinsic+json": {
       "type": "string"
      },
      "text/plain": [
       "'2E'"
      ]
     },
     "execution_count": 4,
     "metadata": {},
     "output_type": "execute_result"
    }
   ],
   "source": [
    "cadastro['turma']"
   ]
  },
  {
   "cell_type": "markdown",
   "metadata": {
    "id": "8ex5pt2ykDd2"
   },
   "source": [
    "É possível substituir os valores dentro de uma chave. Por exemplo, recebemos a informação que a turma do estudante que cadastramos foi trocada para `'2G'` e agora precisamos trocar o valor da chave `'turma'`."
   ]
  },
  {
   "cell_type": "code",
   "execution_count": null,
   "metadata": {
    "colab": {
     "base_uri": "https://localhost:8080/"
    },
    "id": "WqZPkVop2hq-",
    "outputId": "6ee91aa4-8ee1-4428-94e3-1e64dd997277"
   },
   "outputs": [
    {
     "data": {
      "text/plain": [
       "{'matricula': 2000168933,\n",
       " 'dia_cadastro': 25,\n",
       " 'mês_cadastro': 10,\n",
       " 'turma': '2G'}"
      ]
     },
     "execution_count": 6,
     "metadata": {},
     "output_type": "execute_result"
    }
   ],
   "source": [
    "cadastro['turma'] = '2G'\n",
    "cadastro"
   ]
  },
  {
   "cell_type": "markdown",
   "metadata": {
    "id": "wB0qRb56mQvv"
   },
   "source": [
    "Podemos também adicionar outros dados ao dicionário. Vamos adicionar a informação de modalidade de ensino, nosso estudante atuará inicialmente em modalidade EAD.\n",
    "\n",
    "Então iremos definir uma chave chamada `'modalidade'` e o valor `'EAD'`."
   ]
  },
  {
   "cell_type": "code",
   "execution_count": null,
   "metadata": {
    "colab": {
     "base_uri": "https://localhost:8080/",
     "height": 190
    },
    "id": "YDbsuNbw2gb2",
    "outputId": "05e41b4a-feed-4611-d702-b32ee5d80b26"
   },
   "outputs": [
    {
     "ename": "NameError",
     "evalue": "ignored",
     "output_type": "error",
     "traceback": [
      "\u001b[0;31m---------------------------------------------------------------------------\u001b[0m",
      "\u001b[0;31mNameError\u001b[0m                                 Traceback (most recent call last)",
      "\u001b[0;32m<ipython-input-1-cd8c6524f2b5>\u001b[0m in \u001b[0;36m<cell line: 1>\u001b[0;34m()\u001b[0m\n\u001b[0;32m----> 1\u001b[0;31m \u001b[0mcadastro\u001b[0m\u001b[0;34m[\u001b[0m\u001b[0;34m'modalidade'\u001b[0m\u001b[0;34m]\u001b[0m \u001b[0;34m=\u001b[0m \u001b[0;34m'EAD'\u001b[0m\u001b[0;34m\u001b[0m\u001b[0;34m\u001b[0m\u001b[0m\n\u001b[0m\u001b[1;32m      2\u001b[0m \u001b[0mcadastro\u001b[0m\u001b[0;34m\u001b[0m\u001b[0;34m\u001b[0m\u001b[0m\n",
      "\u001b[0;31mNameError\u001b[0m: name 'cadastro' is not defined"
     ]
    }
   ],
   "source": [
    "cadastro['modalidade'] = 'EAD'\n",
    "cadastro"
   ]
  },
  {
   "cell_type": "markdown",
   "metadata": {
    "id": "LJ3o_inroxg_"
   },
   "source": [
    "## Aprofundando em dicionários"
   ]
  },
  {
   "cell_type": "markdown",
   "metadata": {
    "id": "2N3GLlkSpBiu"
   },
   "source": [
    "#### [`pop()`](https://python-reference.readthedocs.io/en/latest/docs/dict/pop.html)\n",
    "Remove um item de um dicionário e o retorna."
   ]
  },
  {
   "cell_type": "code",
   "execution_count": null,
   "metadata": {
    "colab": {
     "base_uri": "https://localhost:8080/",
     "height": 36
    },
    "id": "NJKPaN0N2d2G",
    "outputId": "87ba7cd9-9783-4cad-e582-9b17b2d2392d"
   },
   "outputs": [
    {
     "data": {
      "application/vnd.google.colaboratory.intrinsic+json": {
       "type": "string"
      },
      "text/plain": [
       "'2G'"
      ]
     },
     "execution_count": 8,
     "metadata": {},
     "output_type": "execute_result"
    }
   ],
   "source": [
    "cadastro.pop('turma')"
   ]
  },
  {
   "cell_type": "code",
   "execution_count": null,
   "metadata": {
    "colab": {
     "base_uri": "https://localhost:8080/"
    },
    "id": "7XZ7Rl4R2cSF",
    "outputId": "41be9054-0bbc-46e2-9706-942e2dbff991"
   },
   "outputs": [
    {
     "data": {
      "text/plain": [
       "{'matricula': 2000168933,\n",
       " 'dia_cadastro': 25,\n",
       " 'mês_cadastro': 10,\n",
       " 'modalidade': 'EAD'}"
      ]
     },
     "execution_count": 9,
     "metadata": {},
     "output_type": "execute_result"
    }
   ],
   "source": [
    "cadastro"
   ]
  },
  {
   "cell_type": "markdown",
   "metadata": {
    "id": "sYZGvJJYrW_y"
   },
   "source": [
    "#### [`items()`](https://python-reference.readthedocs.io/en/latest/docs/dict/items.html)\n",
    "Retorna uma lista de pares chave-valor do dicionário."
   ]
  },
  {
   "cell_type": "code",
   "execution_count": null,
   "metadata": {
    "colab": {
     "base_uri": "https://localhost:8080/"
    },
    "id": "rWJG9aZ72a0D",
    "outputId": "ddbc1ef9-920f-47e7-9d83-1379a1164efd"
   },
   "outputs": [
    {
     "data": {
      "text/plain": [
       "dict_items([('matricula', 2000168933), ('dia_cadastro', 25), ('mês_cadastro', 10), ('modalidade', 'EAD')])"
      ]
     },
     "execution_count": 10,
     "metadata": {},
     "output_type": "execute_result"
    }
   ],
   "source": [
    "cadastro.items()"
   ]
  },
  {
   "cell_type": "markdown",
   "metadata": {
    "id": "Lb0utNFGrZBY"
   },
   "source": [
    "#### [`keys()`](https://python-reference.readthedocs.io/en/latest/docs/dict/keys.html)\n",
    "Retorna uma lista das chaves do dicionário."
   ]
  },
  {
   "cell_type": "code",
   "execution_count": null,
   "metadata": {
    "colab": {
     "base_uri": "https://localhost:8080/"
    },
    "id": "H1WmQRaR2Z-l",
    "outputId": "c6b8f539-51fd-4ff6-87ab-effea2eee716"
   },
   "outputs": [
    {
     "data": {
      "text/plain": [
       "dict_keys(['matricula', 'dia_cadastro', 'mês_cadastro', 'modalidade'])"
      ]
     },
     "execution_count": 11,
     "metadata": {},
     "output_type": "execute_result"
    }
   ],
   "source": [
    "cadastro.keys()"
   ]
  },
  {
   "cell_type": "markdown",
   "metadata": {
    "id": "qKyu3bf9rbtX"
   },
   "source": [
    "#### [`values()`](https://python-reference.readthedocs.io/en/latest/docs/dict/values.html)\n",
    "Retorna uma lista dos valores do dicionário."
   ]
  },
  {
   "cell_type": "code",
   "execution_count": null,
   "metadata": {
    "colab": {
     "base_uri": "https://localhost:8080/"
    },
    "id": "E5pgDcfQ2ZHH",
    "outputId": "a9a8ea6d-220c-4fe8-d0e7-cce092f5cc40"
   },
   "outputs": [
    {
     "data": {
      "text/plain": [
       "dict_values([2000168933, 25, 10, 'EAD'])"
      ]
     },
     "execution_count": 12,
     "metadata": {},
     "output_type": "execute_result"
    }
   ],
   "source": [
    "cadastro.values()"
   ]
  },
  {
   "cell_type": "markdown",
   "metadata": {
    "id": "e3XVjR8Frp75"
   },
   "source": [
    "### Leitura de valores com `for`"
   ]
  },
  {
   "cell_type": "code",
   "execution_count": null,
   "metadata": {
    "colab": {
     "base_uri": "https://localhost:8080/"
    },
    "id": "iwIY3hwV2XL5",
    "outputId": "e215be53-e619-405f-9e3a-1ef39b73ca9d"
   },
   "outputs": [
    {
     "name": "stdout",
     "output_type": "stream",
     "text": [
      "2000168933\n",
      "25\n",
      "10\n",
      "EAD\n"
     ]
    }
   ],
   "source": [
    "for chaves in cadastro.keys():\n",
    "  print(cadastro[chaves])"
   ]
  },
  {
   "cell_type": "code",
   "execution_count": null,
   "metadata": {
    "colab": {
     "base_uri": "https://localhost:8080/"
    },
    "id": "KlEbYjKN2XCy",
    "outputId": "3002c975-a642-445c-e710-65714480bfa1"
   },
   "outputs": [
    {
     "name": "stdout",
     "output_type": "stream",
     "text": [
      "2000168933\n",
      "25\n",
      "10\n",
      "EAD\n"
     ]
    }
   ],
   "source": [
    "for valores in cadastro.values():\n",
    "  print(valores)"
   ]
  },
  {
   "cell_type": "code",
   "execution_count": null,
   "metadata": {
    "colab": {
     "base_uri": "https://localhost:8080/"
    },
    "id": "aiCgk-o42W6u",
    "outputId": "ac9513ea-6fc7-4335-8dfd-cad51478ed28"
   },
   "outputs": [
    {
     "name": "stdout",
     "output_type": "stream",
     "text": [
      "matricula 2000168933\n",
      "dia_cadastro 25\n",
      "mês_cadastro 10\n",
      "modalidade EAD\n"
     ]
    }
   ],
   "source": [
    "for chaves, valores in cadastro.items():\n",
    "  print(chaves, valores)"
   ]
  },
  {
   "cell_type": "code",
   "execution_count": null,
   "metadata": {
    "colab": {
     "base_uri": "https://localhost:8080/"
    },
    "id": "GDAPRNOG5iFr",
    "outputId": "c2c5090e-1aae-4357-cd37-f72c1a4b85d2"
   },
   "outputs": [
    {
     "name": "stdout",
     "output_type": "stream",
     "text": [
      "tipo de dado <class 'dict'>\n"
     ]
    }
   ],
   "source": [
    "print(f'tipo de dado {type(dicionario)}')"
   ]
  },
  {
   "cell_type": "code",
   "execution_count": null,
   "metadata": {
    "colab": {
     "base_uri": "https://localhost:8080/"
    },
    "id": "vyJF0w8j29Ff",
    "outputId": "9328033f-fcf1-48af-be16-fec55ab4cd74"
   },
   "outputs": [
    {
     "name": "stdout",
     "output_type": "stream",
     "text": [
      "valor: 5\n",
      "valor: 10\n",
      "valor: 15\n"
     ]
    }
   ],
   "source": [
    "def tamanho(*num):\n",
    "    tam = len(num)\n",
    "    return print(tam)\n",
    "\n",
    "def contador(*num):\n",
    "\tfor valor in num:\n",
    "\t\tprint(f'valor: {valor}')\n",
    "\n",
    "\n",
    "contador(5, 10, 15)"
   ]
  },
  {
   "cell_type": "code",
   "execution_count": null,
   "metadata": {
    "colab": {
     "base_uri": "https://localhost:8080/"
    },
    "id": "ZaYisBst-fem",
    "outputId": "76b2acd4-fbc1-487f-8df5-77c9b66d25c6"
   },
   "outputs": [
    {
     "name": "stdout",
     "output_type": "stream",
     "text": [
      "O valor de entrada 5\n",
      "Soma do número: 10\n"
     ]
    }
   ],
   "source": [
    "def entrada():\n",
    "  s = 0\n",
    "  n = int(input('O valor de entrada '))\n",
    "  s = n + n\n",
    "  return print(f'Soma do número: {s}')\n",
    "\n",
    "entrada()"
   ]
  },
  {
   "cell_type": "code",
   "execution_count": null,
   "metadata": {
    "colab": {
     "base_uri": "https://localhost:8080/"
    },
    "id": "RZl__yxBFfqa",
    "outputId": "fda0e5d3-d4fd-4e58-dbe4-9d7629b1e4ba"
   },
   "outputs": [
    {
     "data": {
      "text/plain": [
       "[0, 2, 4, 6, 8, 10, 12, 14, 16, 18, 20]"
      ]
     },
     "execution_count": 11,
     "metadata": {},
     "output_type": "execute_result"
    }
   ],
   "source": [
    "[ i for i in range(21) if i % 2 == 0]"
   ]
  }
 ],
 "metadata": {
  "colab": {
   "provenance": []
  },
  "kernelspec": {
   "display_name": "Python 3",
   "name": "python3"
  },
  "language_info": {
   "name": "python"
  }
 },
 "nbformat": 4,
 "nbformat_minor": 0
}
