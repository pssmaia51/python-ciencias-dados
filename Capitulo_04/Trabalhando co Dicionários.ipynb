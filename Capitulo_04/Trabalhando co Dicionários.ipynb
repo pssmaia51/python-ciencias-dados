{
 "cells": [
  {
   "cell_type": "code",
   "execution_count": 2,
   "id": "388f2578",
   "metadata": {},
   "outputs": [],
   "source": [
    "estudante_lst = [\"Pedro\", 24, \"Ana\", 23, \"Ronaldo\", 26, \"Janaina\", 25]"
   ]
  },
  {
   "cell_type": "code",
   "execution_count": 4,
   "id": "98ac0a99",
   "metadata": {},
   "outputs": [
    {
     "data": {
      "text/plain": [
       "['Pedro', 24, 'Ana', 23, 'Ronaldo', 26, 'Janaina', 25]"
      ]
     },
     "execution_count": 4,
     "metadata": {},
     "output_type": "execute_result"
    }
   ],
   "source": [
    "estudante_lst"
   ]
  },
  {
   "cell_type": "code",
   "execution_count": 36,
   "id": "81350d42",
   "metadata": {},
   "outputs": [],
   "source": [
    "estudante_dic = {'Pedro':24, 'Ana': 22, 'Ronaldo': 26, 'Janaina': 25}"
   ]
  },
  {
   "cell_type": "code",
   "execution_count": 37,
   "id": "f431c382",
   "metadata": {},
   "outputs": [
    {
     "data": {
      "text/plain": [
       "{'Pedro': 24, 'Ana': 22, 'Ronaldo': 26, 'Janaina': 25}"
      ]
     },
     "execution_count": 37,
     "metadata": {},
     "output_type": "execute_result"
    }
   ],
   "source": [
    "estudante_dic"
   ]
  },
  {
   "cell_type": "code",
   "execution_count": 38,
   "id": "736ed218",
   "metadata": {},
   "outputs": [
    {
     "data": {
      "text/plain": [
       "dict"
      ]
     },
     "execution_count": 38,
     "metadata": {},
     "output_type": "execute_result"
    }
   ],
   "source": [
    "type(estudante_dic)"
   ]
  },
  {
   "cell_type": "code",
   "execution_count": 39,
   "id": "4f2a19c7",
   "metadata": {},
   "outputs": [
    {
     "data": {
      "text/plain": [
       "24"
      ]
     },
     "execution_count": 39,
     "metadata": {},
     "output_type": "execute_result"
    }
   ],
   "source": [
    "estudante_dic[\"Pedro\"]"
   ]
  },
  {
   "cell_type": "code",
   "execution_count": 40,
   "id": "34a5ebbd",
   "metadata": {},
   "outputs": [],
   "source": [
    "estudante_dic [\"Marcelo\"]=23"
   ]
  },
  {
   "cell_type": "code",
   "execution_count": 42,
   "id": "542dc951",
   "metadata": {},
   "outputs": [
    {
     "data": {
      "text/plain": [
       "23"
      ]
     },
     "execution_count": 42,
     "metadata": {},
     "output_type": "execute_result"
    }
   ],
   "source": [
    "estudante_dic[\"Marcelo\"]"
   ]
  },
  {
   "cell_type": "code",
   "execution_count": 44,
   "id": "dc136297",
   "metadata": {},
   "outputs": [],
   "source": [
    "estudante_dic.clear()"
   ]
  },
  {
   "cell_type": "code",
   "execution_count": 45,
   "id": "28404342",
   "metadata": {},
   "outputs": [
    {
     "data": {
      "text/plain": [
       "{}"
      ]
     },
     "execution_count": 45,
     "metadata": {},
     "output_type": "execute_result"
    }
   ],
   "source": [
    "estudante_dic"
   ]
  },
  {
   "cell_type": "code",
   "execution_count": 51,
   "id": "0e3cd11e",
   "metadata": {},
   "outputs": [],
   "source": [
    "estudantes = {'Pedro':24, 'Ana': 22, 'Ronaldo': 26, 'Janaina': 25}"
   ]
  },
  {
   "cell_type": "code",
   "execution_count": 52,
   "id": "0ca41d76",
   "metadata": {},
   "outputs": [
    {
     "data": {
      "text/plain": [
       "{'Pedro': 24, 'Ana': 22, 'Ronaldo': 26, 'Janaina': 25}"
      ]
     },
     "execution_count": 52,
     "metadata": {},
     "output_type": "execute_result"
    }
   ],
   "source": [
    "estudantes"
   ]
  },
  {
   "cell_type": "code",
   "execution_count": 53,
   "id": "6060b24a",
   "metadata": {},
   "outputs": [
    {
     "data": {
      "text/plain": [
       "4"
      ]
     },
     "execution_count": 53,
     "metadata": {},
     "output_type": "execute_result"
    }
   ],
   "source": [
    "len(estudantes)"
   ]
  },
  {
   "cell_type": "code",
   "execution_count": 54,
   "id": "c1221753",
   "metadata": {},
   "outputs": [
    {
     "data": {
      "text/plain": [
       "dict_keys(['Pedro', 'Ana', 'Ronaldo', 'Janaina'])"
      ]
     },
     "execution_count": 54,
     "metadata": {},
     "output_type": "execute_result"
    }
   ],
   "source": [
    "estudantes.keys()"
   ]
  },
  {
   "cell_type": "code",
   "execution_count": 55,
   "id": "8ff5e65d",
   "metadata": {},
   "outputs": [
    {
     "data": {
      "text/plain": [
       "dict_values([24, 22, 26, 25])"
      ]
     },
     "execution_count": 55,
     "metadata": {},
     "output_type": "execute_result"
    }
   ],
   "source": [
    "estudantes.values()"
   ]
  },
  {
   "cell_type": "code",
   "execution_count": 56,
   "id": "d6de0e75",
   "metadata": {},
   "outputs": [
    {
     "data": {
      "text/plain": [
       "dict_items([('Pedro', 24), ('Ana', 22), ('Ronaldo', 26), ('Janaina', 25)])"
      ]
     },
     "execution_count": 56,
     "metadata": {},
     "output_type": "execute_result"
    }
   ],
   "source": [
    "estudantes.items()"
   ]
  },
  {
   "cell_type": "code",
   "execution_count": 57,
   "id": "946a156c",
   "metadata": {},
   "outputs": [],
   "source": [
    "estudantes2 = {\"Camila\": 27, \"Adriana\": 28, \"Roberta\": 26}"
   ]
  },
  {
   "cell_type": "code",
   "execution_count": 59,
   "id": "b1f8ab73",
   "metadata": {},
   "outputs": [
    {
     "data": {
      "text/plain": [
       "{'Camila': 27, 'Adriana': 28, 'Roberta': 26}"
      ]
     },
     "execution_count": 59,
     "metadata": {},
     "output_type": "execute_result"
    }
   ],
   "source": [
    "estudantes2\n"
   ]
  },
  {
   "cell_type": "code",
   "execution_count": 60,
   "id": "1c51cedf",
   "metadata": {},
   "outputs": [
    {
     "data": {
      "text/plain": [
       "dict"
      ]
     },
     "execution_count": 60,
     "metadata": {},
     "output_type": "execute_result"
    }
   ],
   "source": [
    "type(estudantes2)"
   ]
  },
  {
   "cell_type": "code",
   "execution_count": 62,
   "id": "fc56d8f9",
   "metadata": {},
   "outputs": [],
   "source": [
    "estudantes.update(estudantes2)"
   ]
  },
  {
   "cell_type": "code",
   "execution_count": 63,
   "id": "ef64f745",
   "metadata": {},
   "outputs": [
    {
     "data": {
      "text/plain": [
       "{'Pedro': 24,\n",
       " 'Ana': 22,\n",
       " 'Ronaldo': 26,\n",
       " 'Janaina': 25,\n",
       " 'Camila': 27,\n",
       " 'Adriana': 28,\n",
       " 'Roberta': 26}"
      ]
     },
     "execution_count": 63,
     "metadata": {},
     "output_type": "execute_result"
    }
   ],
   "source": [
    "estudantes"
   ]
  },
  {
   "cell_type": "code",
   "execution_count": 70,
   "id": "aee8cc7b",
   "metadata": {},
   "outputs": [],
   "source": [
    "dicl = {}"
   ]
  },
  {
   "cell_type": "code",
   "execution_count": 71,
   "id": "892c12fe",
   "metadata": {},
   "outputs": [],
   "source": [
    "dicl[\"chave_um\"]  = 2"
   ]
  },
  {
   "cell_type": "code",
   "execution_count": 72,
   "id": "e46ccd70",
   "metadata": {},
   "outputs": [
    {
     "name": "stdout",
     "output_type": "stream",
     "text": [
      "{'chave_um': 2}\n"
     ]
    }
   ],
   "source": [
    "print(dicl)"
   ]
  },
  {
   "cell_type": "code",
   "execution_count": 73,
   "id": "8328cc9f",
   "metadata": {},
   "outputs": [],
   "source": [
    "dicl[10]= 5"
   ]
  },
  {
   "cell_type": "code",
   "execution_count": 74,
   "id": "deb8945e",
   "metadata": {},
   "outputs": [
    {
     "data": {
      "text/plain": [
       "{'chave_um': 2, 10: 5}"
      ]
     },
     "execution_count": 74,
     "metadata": {},
     "output_type": "execute_result"
    }
   ],
   "source": [
    "dicl"
   ]
  },
  {
   "cell_type": "code",
   "execution_count": 75,
   "id": "3f7435ef",
   "metadata": {},
   "outputs": [],
   "source": [
    "dicl[9.13] = \"Python\""
   ]
  },
  {
   "cell_type": "code",
   "execution_count": 76,
   "id": "6bdc3984",
   "metadata": {},
   "outputs": [
    {
     "data": {
      "text/plain": [
       "{'chave_um': 2, 10: 5, 9.13: 'Python'}"
      ]
     },
     "execution_count": 76,
     "metadata": {},
     "output_type": "execute_result"
    }
   ],
   "source": [
    "dicl"
   ]
  },
  {
   "cell_type": "code",
   "execution_count": 77,
   "id": "4ef4527b",
   "metadata": {},
   "outputs": [],
   "source": [
    "dicl[\"Teste\"] = 5"
   ]
  },
  {
   "cell_type": "code",
   "execution_count": 78,
   "id": "c62151f4",
   "metadata": {},
   "outputs": [
    {
     "data": {
      "text/plain": [
       "{'chave_um': 2, 10: 5, 9.13: 'Python', 'Teste': 5}"
      ]
     },
     "execution_count": 78,
     "metadata": {},
     "output_type": "execute_result"
    }
   ],
   "source": [
    "dicl"
   ]
  },
  {
   "cell_type": "code",
   "execution_count": 79,
   "id": "e4688c10",
   "metadata": {},
   "outputs": [],
   "source": [
    "dicl = {}"
   ]
  },
  {
   "cell_type": "code",
   "execution_count": 80,
   "id": "ba7a0e5b",
   "metadata": {},
   "outputs": [
    {
     "data": {
      "text/plain": [
       "{}"
      ]
     },
     "execution_count": 80,
     "metadata": {},
     "output_type": "execute_result"
    }
   ],
   "source": [
    "dicl"
   ]
  },
  {
   "cell_type": "code",
   "execution_count": 82,
   "id": "a6458c20",
   "metadata": {},
   "outputs": [],
   "source": [
    "dict3 = {'chave1': 1230, 'chave2':[22,453,73,4], 'chave3':['Picanha', 'Fraudinha', 'Alcatra']}"
   ]
  },
  {
   "cell_type": "code",
   "execution_count": 83,
   "id": "ec70868f",
   "metadata": {},
   "outputs": [
    {
     "data": {
      "text/plain": [
       "{'chave1': 1230,\n",
       " 'chave2': [22, 453, 73, 4],\n",
       " 'chave3': ['Picanha', 'Fraudinha', 'Alcatra']}"
      ]
     },
     "execution_count": 83,
     "metadata": {},
     "output_type": "execute_result"
    }
   ],
   "source": [
    "dict3"
   ]
  },
  {
   "cell_type": "code",
   "execution_count": 85,
   "id": "e3de01a5",
   "metadata": {},
   "outputs": [
    {
     "data": {
      "text/plain": [
       "[22, 453, 73, 4]"
      ]
     },
     "execution_count": 85,
     "metadata": {},
     "output_type": "execute_result"
    }
   ],
   "source": [
    "dict3['chave2']"
   ]
  },
  {
   "cell_type": "code",
   "execution_count": 87,
   "id": "aab47118",
   "metadata": {},
   "outputs": [
    {
     "data": {
      "text/plain": [
       "'PICANHA'"
      ]
     },
     "execution_count": 87,
     "metadata": {},
     "output_type": "execute_result"
    }
   ],
   "source": [
    "dict3['chave3'][0].upper()"
   ]
  },
  {
   "cell_type": "code",
   "execution_count": 89,
   "id": "b6fe5620",
   "metadata": {},
   "outputs": [],
   "source": [
    "var1 = dict3['chave2'][0] - 2"
   ]
  },
  {
   "cell_type": "code",
   "execution_count": 90,
   "id": "00e4c47c",
   "metadata": {},
   "outputs": [
    {
     "data": {
      "text/plain": [
       "20"
      ]
     },
     "execution_count": 90,
     "metadata": {},
     "output_type": "execute_result"
    }
   ],
   "source": [
    "var1"
   ]
  },
  {
   "cell_type": "code",
   "execution_count": 92,
   "id": "2c60866a",
   "metadata": {},
   "outputs": [],
   "source": [
    "dict3['chave2'][0] -= 2"
   ]
  },
  {
   "cell_type": "code",
   "execution_count": 93,
   "id": "a404cdc5",
   "metadata": {},
   "outputs": [
    {
     "data": {
      "text/plain": [
       "{'chave1': 1230,\n",
       " 'chave2': [20, 453, 73, 4],\n",
       " 'chave3': ['Picanha', 'Fraudinha', 'Alcatra']}"
      ]
     },
     "execution_count": 93,
     "metadata": {},
     "output_type": "execute_result"
    }
   ],
   "source": [
    "dict3"
   ]
  },
  {
   "cell_type": "markdown",
   "id": "436c7330",
   "metadata": {},
   "source": [
    "#### Criando Dicionarios aninhados"
   ]
  },
  {
   "cell_type": "code",
   "execution_count": 94,
   "id": "4bee1c65",
   "metadata": {},
   "outputs": [],
   "source": [
    "disc_aninhados = {'key1': {'key2_Aninhada':{'key3_aninhadas': 'Dict Aninhadas em Python'}}}"
   ]
  },
  {
   "cell_type": "code",
   "execution_count": 95,
   "id": "df94a7b6",
   "metadata": {},
   "outputs": [
    {
     "data": {
      "text/plain": [
       "{'key1': {'key2_Aninhada': {'key3_aninhadas': 'Dict Aninhadas em Python'}}}"
      ]
     },
     "execution_count": 95,
     "metadata": {},
     "output_type": "execute_result"
    }
   ],
   "source": [
    "disc_aninhados"
   ]
  },
  {
   "cell_type": "code",
   "execution_count": 96,
   "id": "443f8460",
   "metadata": {},
   "outputs": [
    {
     "data": {
      "text/plain": [
       "'Dict Aninhadas em Python'"
      ]
     },
     "execution_count": 96,
     "metadata": {},
     "output_type": "execute_result"
    }
   ],
   "source": [
    "disc_aninhados['key1']['key2_Aninhada']['key3_aninhadas']"
   ]
  },
  {
   "cell_type": "code",
   "execution_count": 97,
   "id": "027fa445",
   "metadata": {},
   "outputs": [
    {
     "data": {
      "text/plain": [
       "{'key1': {'key2_Aninhada': {'key3_aninhadas': 'Dict Aninhadas em Python'}}}"
      ]
     },
     "execution_count": 97,
     "metadata": {},
     "output_type": "execute_result"
    }
   ],
   "source": [
    "disc_aninhados\n"
   ]
  },
  {
   "cell_type": "code",
   "execution_count": null,
   "id": "80a81ef8",
   "metadata": {},
   "outputs": [],
   "source": []
  }
 ],
 "metadata": {
  "kernelspec": {
   "display_name": "Python 3 (ipykernel)",
   "language": "python",
   "name": "python3"
  },
  "language_info": {
   "codemirror_mode": {
    "name": "ipython",
    "version": 3
   },
   "file_extension": ".py",
   "mimetype": "text/x-python",
   "name": "python",
   "nbconvert_exporter": "python",
   "pygments_lexer": "ipython3",
   "version": "3.9.13"
  }
 },
 "nbformat": 4,
 "nbformat_minor": 5
}
