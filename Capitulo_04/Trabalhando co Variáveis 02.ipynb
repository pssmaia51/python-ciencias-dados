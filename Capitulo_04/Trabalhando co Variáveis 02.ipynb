{
 "cells": [
  {
   "cell_type": "markdown",
   "id": "eda81d73",
   "metadata": {},
   "source": [
    "### Trabalahndo com Vaiaveis 2/2"
   ]
  },
  {
   "cell_type": "markdown",
   "id": "b3df20cb",
   "metadata": {},
   "source": [
    "##### Variaveis atribuidas a outras variaveis e ordem dos operadores"
   ]
  },
  {
   "cell_type": "code",
   "execution_count": 13,
   "id": "c91e87d8",
   "metadata": {},
   "outputs": [],
   "source": [
    "largura = 2"
   ]
  },
  {
   "cell_type": "code",
   "execution_count": 14,
   "id": "85cc01a1",
   "metadata": {},
   "outputs": [],
   "source": [
    "altura = 4"
   ]
  },
  {
   "cell_type": "code",
   "execution_count": 15,
   "id": "99921b77",
   "metadata": {},
   "outputs": [],
   "source": [
    "area = largura * altura"
   ]
  },
  {
   "cell_type": "code",
   "execution_count": 16,
   "id": "c25c5005",
   "metadata": {},
   "outputs": [
    {
     "data": {
      "text/plain": [
       "8"
      ]
     },
     "execution_count": 16,
     "metadata": {},
     "output_type": "execute_result"
    }
   ],
   "source": [
    "area"
   ]
  },
  {
   "cell_type": "code",
   "execution_count": 19,
   "id": "abc6132e",
   "metadata": {},
   "outputs": [],
   "source": [
    "perimetro = 2 * (largura + 2) * altura"
   ]
  },
  {
   "cell_type": "code",
   "execution_count": 20,
   "id": "6c22562f",
   "metadata": {},
   "outputs": [
    {
     "data": {
      "text/plain": [
       "32"
      ]
     },
     "execution_count": 20,
     "metadata": {},
     "output_type": "execute_result"
    }
   ],
   "source": [
    "perimetro"
   ]
  },
  {
   "cell_type": "markdown",
   "id": "6de38c74",
   "metadata": {},
   "source": [
    "##### Operações com Variaveis"
   ]
  },
  {
   "cell_type": "code",
   "execution_count": 21,
   "id": "35010759",
   "metadata": {},
   "outputs": [],
   "source": [
    "idade1 = 25"
   ]
  },
  {
   "cell_type": "code",
   "execution_count": 22,
   "id": "6b49fee8",
   "metadata": {},
   "outputs": [],
   "source": [
    "idade2 = 35"
   ]
  },
  {
   "cell_type": "code",
   "execution_count": 23,
   "id": "9165545b",
   "metadata": {},
   "outputs": [
    {
     "data": {
      "text/plain": [
       "60"
      ]
     },
     "execution_count": 23,
     "metadata": {},
     "output_type": "execute_result"
    }
   ],
   "source": [
    "idade1 + idade2"
   ]
  },
  {
   "cell_type": "code",
   "execution_count": 24,
   "id": "2bc38772",
   "metadata": {},
   "outputs": [
    {
     "data": {
      "text/plain": [
       "10"
      ]
     },
     "execution_count": 24,
     "metadata": {},
     "output_type": "execute_result"
    }
   ],
   "source": [
    "idade2 - idade1"
   ]
  },
  {
   "cell_type": "code",
   "execution_count": 25,
   "id": "b8762307",
   "metadata": {},
   "outputs": [
    {
     "data": {
      "text/plain": [
       "875"
      ]
     },
     "execution_count": 25,
     "metadata": {},
     "output_type": "execute_result"
    }
   ],
   "source": [
    "idade2 * idade1"
   ]
  },
  {
   "cell_type": "code",
   "execution_count": 26,
   "id": "bbc4a5e2",
   "metadata": {},
   "outputs": [
    {
     "data": {
      "text/plain": [
       "1.4"
      ]
     },
     "execution_count": 26,
     "metadata": {},
     "output_type": "execute_result"
    }
   ],
   "source": [
    "idade2 / idade1"
   ]
  },
  {
   "cell_type": "code",
   "execution_count": 27,
   "id": "2afa74ba",
   "metadata": {},
   "outputs": [
    {
     "data": {
      "text/plain": [
       "10"
      ]
     },
     "execution_count": 27,
     "metadata": {},
     "output_type": "execute_result"
    }
   ],
   "source": [
    "idade2 % idade1"
   ]
  },
  {
   "cell_type": "markdown",
   "id": "93954496",
   "metadata": {},
   "source": [
    "##### Concatenações com variaveis"
   ]
  },
  {
   "cell_type": "code",
   "execution_count": 28,
   "id": "3def3841",
   "metadata": {},
   "outputs": [],
   "source": [
    "nome = \"Paulo\""
   ]
  },
  {
   "cell_type": "code",
   "execution_count": 29,
   "id": "2d324153",
   "metadata": {},
   "outputs": [],
   "source": [
    "sobrenome = \"Maia\""
   ]
  },
  {
   "cell_type": "code",
   "execution_count": 30,
   "id": "08ea18e3",
   "metadata": {},
   "outputs": [],
   "source": [
    "fullname = nome + \" \" + sobrenome"
   ]
  },
  {
   "cell_type": "code",
   "execution_count": 31,
   "id": "53a85917",
   "metadata": {},
   "outputs": [
    {
     "data": {
      "text/plain": [
       "'Paulo Maia'"
      ]
     },
     "execution_count": 31,
     "metadata": {},
     "output_type": "execute_result"
    }
   ],
   "source": [
    "fullname"
   ]
  },
  {
   "cell_type": "code",
   "execution_count": null,
   "id": "d282c2f7",
   "metadata": {},
   "outputs": [],
   "source": []
  }
 ],
 "metadata": {
  "kernelspec": {
   "display_name": "Python 3 (ipykernel)",
   "language": "python",
   "name": "python3"
  },
  "language_info": {
   "codemirror_mode": {
    "name": "ipython",
    "version": 3
   },
   "file_extension": ".py",
   "mimetype": "text/x-python",
   "name": "python",
   "nbconvert_exporter": "python",
   "pygments_lexer": "ipython3",
   "version": "3.9.13"
  }
 },
 "nbformat": 4,
 "nbformat_minor": 5
}
