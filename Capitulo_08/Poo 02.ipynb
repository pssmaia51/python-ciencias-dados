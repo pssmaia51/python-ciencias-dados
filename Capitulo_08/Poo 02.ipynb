{
 "cells": [
  {
   "cell_type": "code",
   "execution_count": 1,
   "id": "7838530d",
   "metadata": {},
   "outputs": [],
   "source": [
    "# Criando uma lista\n",
    "lst_num = [\"Data\", \"Science\", \"Academy\", \"Nota\", 10, 10]"
   ]
  },
  {
   "cell_type": "code",
   "execution_count": 2,
   "id": "10403326",
   "metadata": {},
   "outputs": [
    {
     "data": {
      "text/plain": [
       "list"
      ]
     },
     "execution_count": 2,
     "metadata": {},
     "output_type": "execute_result"
    }
   ],
   "source": [
    "type(lst_num)"
   ]
  },
  {
   "cell_type": "code",
   "execution_count": 3,
   "id": "1ad09dc4",
   "metadata": {},
   "outputs": [
    {
     "name": "stdout",
     "output_type": "stream",
     "text": [
      "<class 'list'>\n"
     ]
    }
   ],
   "source": [
    "print(type([]))"
   ]
  },
  {
   "cell_type": "code",
   "execution_count": 4,
   "id": "53a16ea8",
   "metadata": {},
   "outputs": [
    {
     "data": {
      "text/plain": [
       "2"
      ]
     },
     "execution_count": 4,
     "metadata": {},
     "output_type": "execute_result"
    }
   ],
   "source": [
    "lst_num.count(10)"
   ]
  },
  {
   "cell_type": "code",
   "execution_count": 10,
   "id": "369e9d7c",
   "metadata": {},
   "outputs": [
    {
     "name": "stdout",
     "output_type": "stream",
     "text": [
      "<class 'int'>\n",
      "<class 'list'>\n",
      "<class 'tuple'>\n",
      "<class 'dict'>\n",
      "<class 'str'>\n"
     ]
    }
   ],
   "source": [
    "print(type(10))      # Tipo do número inteiro\n",
    "print(type([]))      # Tipo de uma lista\n",
    "print(type(()))      # Tipo de uma tupla vazia\n",
    "print(type({}))      # Tipo de um dicionário\n",
    "print(type(('a')))  # Tipo de String"
   ]
  },
  {
   "cell_type": "code",
   "execution_count": 11,
   "id": "b98402cf",
   "metadata": {},
   "outputs": [],
   "source": [
    "# Criando um novo objeto chamado carro\n",
    "class Carro(object):\n",
    "     pass"
   ]
  },
  {
   "cell_type": "code",
   "execution_count": 12,
   "id": "e0749fbd",
   "metadata": {},
   "outputs": [],
   "source": [
    "# Instancia do Objeto\n",
    "ferrari = Carro()"
   ]
  },
  {
   "cell_type": "code",
   "execution_count": 13,
   "id": "39771da4",
   "metadata": {},
   "outputs": [
    {
     "name": "stdout",
     "output_type": "stream",
     "text": [
      "<class '__main__.Carro'>\n"
     ]
    }
   ],
   "source": [
    "print(type(ferrari))"
   ]
  },
  {
   "cell_type": "code",
   "execution_count": 23,
   "id": "00ed84ac",
   "metadata": {},
   "outputs": [],
   "source": [
    "class Estudantes:\n",
    "    def __init__(self, nome, idade, nota):  # Corrigido para __init__\n",
    "        self.nome = nome\n",
    "        self.idade = idade\n",
    "        self.nota = nota"
   ]
  },
  {
   "cell_type": "code",
   "execution_count": 24,
   "id": "294bfade",
   "metadata": {},
   "outputs": [
    {
     "name": "stdout",
     "output_type": "stream",
     "text": [
      "João\n",
      "20\n",
      "8.5\n"
     ]
    }
   ],
   "source": [
    "# Exemplo de uso:\n",
    "estudante = Estudantes(\"João\", 20, 8.5)\n",
    "print(estudante.nome)  # Output: João\n",
    "print(estudante.idade) # Output: 20\n",
    "print(estudante.nota)  # Output: 8.5"
   ]
  },
  {
   "cell_type": "code",
   "execution_count": 8,
   "id": "a1b3fb09",
   "metadata": {},
   "outputs": [],
   "source": [
    "class Funcionarios:\n",
    "    def __init__(self, nome, salario, cargo):\n",
    "        self.nome = nome\n",
    "        self.salario = salario\n",
    "        self.cargo = cargo\n",
    "\n",
    "    def list_func(self):\n",
    "        print('Funcionário(a): ' + self.nome + \n",
    "              ', tem salário de R$ ' + str(self.salario) + \n",
    "              ' e o seu cargo é: ' + self.cargo)    \n",
    "    "
   ]
  },
  {
   "cell_type": "code",
   "execution_count": 5,
   "id": "9e6e9f4b",
   "metadata": {},
   "outputs": [
    {
     "name": "stdout",
     "output_type": "stream",
     "text": [
      "Funcionário(a): Paulo Maia, tem salário de R$ 20000 e o seu cargo é: Desenvolvedor Web\n"
     ]
    }
   ],
   "source": [
    "func1 = Funcionarios(\"Paulo Maia\", 20000, \"Desenvolvedor Web\")\n",
    "func1.list_func()"
   ]
  },
  {
   "cell_type": "code",
   "execution_count": 6,
   "id": "40cbc631",
   "metadata": {},
   "outputs": [
    {
     "name": "stdout",
     "output_type": "stream",
     "text": [
      "***** usando atributos*****\n"
     ]
    }
   ],
   "source": [
    "print('***** usando atributos*****')"
   ]
  },
  {
   "cell_type": "code",
   "execution_count": 7,
   "id": "ef476c5b",
   "metadata": {},
   "outputs": [
    {
     "data": {
      "text/plain": [
       "True"
      ]
     },
     "execution_count": 7,
     "metadata": {},
     "output_type": "execute_result"
    }
   ],
   "source": [
    "# Verifica se tem o atributo nome\n",
    "hasattr(func1, \"nome\")"
   ]
  },
  {
   "cell_type": "code",
   "execution_count": 10,
   "id": "c3edb809",
   "metadata": {},
   "outputs": [
    {
     "data": {
      "text/plain": [
       "True"
      ]
     },
     "execution_count": 10,
     "metadata": {},
     "output_type": "execute_result"
    }
   ],
   "source": [
    "# Idem \n",
    "hasattr(func1, \"salario\")"
   ]
  },
  {
   "cell_type": "code",
   "execution_count": 11,
   "id": "070c0995",
   "metadata": {},
   "outputs": [],
   "source": [
    "# Atribui valor para atributo salario\n",
    "setattr(func1, \"salario\", 4500)"
   ]
  },
  {
   "cell_type": "code",
   "execution_count": 12,
   "id": "8391c1f7",
   "metadata": {},
   "outputs": [
    {
     "data": {
      "text/plain": [
       "True"
      ]
     },
     "execution_count": 12,
     "metadata": {},
     "output_type": "execute_result"
    }
   ],
   "source": [
    "hasattr(func1, \"salario\")"
   ]
  },
  {
   "cell_type": "code",
   "execution_count": 13,
   "id": "3f07a62e",
   "metadata": {},
   "outputs": [
    {
     "data": {
      "text/plain": [
       "4500"
      ]
     },
     "execution_count": 13,
     "metadata": {},
     "output_type": "execute_result"
    }
   ],
   "source": [
    "# Mostra valor inserido no atributo salario com o setaattr\n",
    "getattr(func1, \"salario\")"
   ]
  },
  {
   "cell_type": "code",
   "execution_count": 14,
   "id": "b23dbe52",
   "metadata": {},
   "outputs": [],
   "source": [
    "# Deleta o atributo\n",
    "delattr(func1, \"salario\")"
   ]
  },
  {
   "cell_type": "code",
   "execution_count": 15,
   "id": "bc957b35",
   "metadata": {},
   "outputs": [
    {
     "data": {
      "text/plain": [
       "False"
      ]
     },
     "execution_count": 15,
     "metadata": {},
     "output_type": "execute_result"
    }
   ],
   "source": [
    "hasattr(func1, \"salario\")"
   ]
  }
 ],
 "metadata": {
  "kernelspec": {
   "display_name": "Python 3 (ipykernel)",
   "language": "python",
   "name": "python3"
  },
  "language_info": {
   "codemirror_mode": {
    "name": "ipython",
    "version": 3
   },
   "file_extension": ".py",
   "mimetype": "text/x-python",
   "name": "python",
   "nbconvert_exporter": "python",
   "pygments_lexer": "ipython3",
   "version": "3.11.5"
  }
 },
 "nbformat": 4,
 "nbformat_minor": 5
}
