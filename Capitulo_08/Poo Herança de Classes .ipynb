{
 "cells": [
  {
   "cell_type": "markdown",
   "id": "e99e56bc",
   "metadata": {},
   "source": [
    "# Heranças de Classes"
   ]
  },
  {
   "cell_type": "code",
   "execution_count": 7,
   "id": "0c7539be",
   "metadata": {},
   "outputs": [],
   "source": [
    "# Criando a superclasse aminal\n",
    "class Animal:\n",
    "    def __init__ (self):\n",
    "        print(\"Animal criado\")\n",
    "    def imprimir(self):\n",
    "        print (\"Este e uma animal\")\n",
    "    def comer (self):\n",
    "        print(\"Hora de comer\")\n",
    "    def emitir_Som(self):\n",
    "        pass"
   ]
  },
  {
   "cell_type": "code",
   "execution_count": 8,
   "id": "9593f264",
   "metadata": {},
   "outputs": [],
   "source": [
    "# Criando Subclasses\n",
    "class Cachorro(Animal):\n",
    "    def __init__(self):\n",
    "        super().__init__()\n",
    "        print(\"Cachorro criado\")\n",
    "    \n",
    "    def emitir_Som(self):\n",
    "        print(\"O cachorro faz: Au Au!\")\n",
    "\n",
    "class Gato(Animal):\n",
    "    def __init__(self):\n",
    "        super().__init__()\n",
    "        print(\"Gato criado\")\n",
    "    \n",
    "    def emitir_Som(self):\n",
    "        print(\"O gato faz: Miau!\")"
   ]
  },
  {
   "cell_type": "code",
   "execution_count": 10,
   "id": "a96322d6",
   "metadata": {},
   "outputs": [
    {
     "name": "stdout",
     "output_type": "stream",
     "text": [
      "Animal criado\n",
      "Cachorro criado\n",
      "Este e uma animal\n",
      "O cachorro faz: Au Au!\n",
      "Hora de comer\n",
      "Animal criado\n",
      "Gato criado\n",
      "Este e uma animal\n",
      "Hora de comer\n",
      "O gato faz: Miau!\n"
     ]
    }
   ],
   "source": [
    "dog = Cachorro()\n",
    "dog.imprimir()\n",
    "dog.emitir_Som()  # Saída: O cachorro faz: Au Au!\n",
    "dog.comer()\n",
    "\n",
    "cat = Gato()\n",
    "cat.imprimir()\n",
    "cat.comer()\n",
    "cat.emitir_Som()  # Saída: O gato faz: Miau!"
   ]
  },
  {
   "cell_type": "code",
   "execution_count": null,
   "id": "fd2c2fae",
   "metadata": {},
   "outputs": [],
   "source": []
  }
 ],
 "metadata": {
  "kernelspec": {
   "display_name": "Python 3 (ipykernel)",
   "language": "python",
   "name": "python3"
  },
  "language_info": {
   "codemirror_mode": {
    "name": "ipython",
    "version": 3
   },
   "file_extension": ".py",
   "mimetype": "text/x-python",
   "name": "python",
   "nbconvert_exporter": "python",
   "pygments_lexer": "ipython3",
   "version": "3.11.5"
  }
 },
 "nbformat": 4,
 "nbformat_minor": 5
}
