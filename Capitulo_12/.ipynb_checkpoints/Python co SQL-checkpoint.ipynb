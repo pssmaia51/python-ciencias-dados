{
 "cells": [
  {
   "cell_type": "code",
   "execution_count": 7,
   "id": "1ae20def",
   "metadata": {},
   "outputs": [
    {
     "name": "stdout",
     "output_type": "stream",
     "text": [
      "Versão da Linguagem Python usada neste curso é:  3.11.5\n"
     ]
    }
   ],
   "source": [
    "from platform import python_version\n",
    "\n",
    "print('Versão da Linguagem Python usada neste curso é: ', python_version())\n"
   ]
  },
  {
   "cell_type": "code",
   "execution_count": 8,
   "id": "a8e97893",
   "metadata": {},
   "outputs": [],
   "source": [
    "import sqlite3\n",
    "import pandas as pd\n",
    "import sqlalchemy\n",
    "from sqlalchemy import create_engine\n",
    "import psycopg2\n",
    "import pyodbc\n",
    "import mysql\n",
    "import mysql.connector"
   ]
  },
  {
   "cell_type": "code",
   "execution_count": 9,
   "id": "40b2bf5d",
   "metadata": {},
   "outputs": [
    {
     "data": {
      "text/plain": [
       "'3.41.2'"
      ]
     },
     "execution_count": 9,
     "metadata": {},
     "output_type": "execute_result"
    }
   ],
   "source": [
    "sqlite3.sqlite_version"
   ]
  },
  {
   "cell_type": "code",
   "execution_count": 10,
   "id": "150884b1",
   "metadata": {},
   "outputs": [
    {
     "data": {
      "text/plain": [
       "'2.0.3'"
      ]
     },
     "execution_count": 10,
     "metadata": {},
     "output_type": "execute_result"
    }
   ],
   "source": [
    "pd.__version__"
   ]
  },
  {
   "cell_type": "code",
   "execution_count": 11,
   "id": "8d90baba",
   "metadata": {},
   "outputs": [
    {
     "data": {
      "text/plain": [
       "'1.4.39'"
      ]
     },
     "execution_count": 11,
     "metadata": {},
     "output_type": "execute_result"
    }
   ],
   "source": [
    "sqlalchemy.__version__"
   ]
  },
  {
   "cell_type": "code",
   "execution_count": 12,
   "id": "19808c44",
   "metadata": {},
   "outputs": [
    {
     "data": {
      "text/plain": [
       "'2.9.10 (dt dec pq3 ext lo64)'"
      ]
     },
     "execution_count": 12,
     "metadata": {},
     "output_type": "execute_result"
    }
   ],
   "source": [
    "psycopg2.__version__"
   ]
  },
  {
   "cell_type": "code",
   "execution_count": 13,
   "id": "6591d0e6",
   "metadata": {},
   "outputs": [
    {
     "name": "stdout",
     "output_type": "stream",
     "text": [
      "4.0.34\n"
     ]
    }
   ],
   "source": [
    "import pkg_resources\n",
    "print(pkg_resources.get_distribution(\"pyodbc\").version)"
   ]
  },
  {
   "cell_type": "code",
   "execution_count": 14,
   "id": "eeaa74fa",
   "metadata": {},
   "outputs": [
    {
     "data": {
      "text/plain": [
       "'9.2.0'"
      ]
     },
     "execution_count": 14,
     "metadata": {},
     "output_type": "execute_result"
    }
   ],
   "source": [
    "mysql.connector.__version__"
   ]
  },
  {
   "cell_type": "code",
   "execution_count": 15,
   "id": "c6d25eda",
   "metadata": {},
   "outputs": [
    {
     "name": "stdout",
     "output_type": "stream",
     "text": [
      "[('tb_vendas_dsa',)]\n"
     ]
    }
   ],
   "source": [
    "import sqlite3\n",
    "\n",
    "conn = sqlite3.connect('cap12_dsa.db')\n",
    "\n",
    "cursor = conn.cursor()\n",
    "\n",
    "sql_query = \"\"\"SELECT name FROM sqlite_master WHERE type='table';\"\"\"\n",
    "cursor.execute(sql_query)\n",
    "\n",
    "tabelas = cursor.fetchall()\n",
    "print(tabelas)"
   ]
  },
  {
   "cell_type": "code",
   "execution_count": 16,
   "id": "c441927d",
   "metadata": {},
   "outputs": [],
   "source": [
    "query1 = 'SELECT * FROM tb_vendas_dsa'"
   ]
  },
  {
   "cell_type": "code",
   "execution_count": 17,
   "id": "e2663b22",
   "metadata": {},
   "outputs": [
    {
     "data": {
      "text/plain": [
       "<sqlite3.Cursor at 0x1aa4a24d840>"
      ]
     },
     "execution_count": 17,
     "metadata": {},
     "output_type": "execute_result"
    }
   ],
   "source": [
    "cursor.execute(query1)"
   ]
  },
  {
   "cell_type": "code",
   "execution_count": 18,
   "id": "8ad8f844",
   "metadata": {},
   "outputs": [],
   "source": [
    "nomes_colunas = [description[0] for description in cursor.description]"
   ]
  },
  {
   "cell_type": "code",
   "execution_count": 19,
   "id": "361f8956",
   "metadata": {},
   "outputs": [
    {
     "name": "stdout",
     "output_type": "stream",
     "text": [
      "['ID_Pedido', 'ID_Cliente', 'Nome_Produto', 'Valor_Unitario', 'Unidades_Vendidas', 'Custo']\n"
     ]
    }
   ],
   "source": [
    "print(nomes_colunas)"
   ]
  },
  {
   "cell_type": "code",
   "execution_count": 20,
   "id": "66f14b0e",
   "metadata": {},
   "outputs": [],
   "source": [
    "dados = cursor.fetchall()"
   ]
  },
  {
   "cell_type": "code",
   "execution_count": 22,
   "id": "a6ccbaba",
   "metadata": {},
   "outputs": [
    {
     "data": {
      "text/plain": [
       "[(1, 63, 'Produto_38', 154.03, 7, 92.42),\n",
       " (2, 49, 'Produto_8', 171.52, 5, 102.91),\n",
       " (3, 83, 'Produto_39', 28.97, 13, 17.38),\n",
       " (4, 37, 'Produto_2', 104.55, 4, 62.73),\n",
       " (5, 19, 'Produto_1', 77.21, 19, 46.33),\n",
       " (6, 87, 'Produto_36', 161.97, 13, 97.18),\n",
       " (7, 59, 'Produto_24', 101.17, 7, 60.7),\n",
       " (8, 48, 'Produto_31', 92.03, 9, 55.22),\n",
       " (9, 73, 'Produto_4', 116.57, 6, 69.94),\n",
       " (10, 98, 'Produto_45', 46.16, 4, 27.7),\n",
       " (11, 86, 'Produto_30', 135.55, 12, 81.33),\n",
       " (12, 89, 'Produto_45', 119.4, 11, 71.64),\n",
       " (13, 96, 'Produto_11', 96.63, 13, 57.98),\n",
       " (14, 29, 'Produto_50', 191.3, 10, 114.78),\n",
       " (15, 63, 'Produto_21', 191.28, 14, 114.77),\n",
       " (16, 30, 'Produto_22', 67.58, 17, 40.55),\n",
       " (17, 5, 'Produto_41', 33.22, 2, 19.93),\n",
       " (18, 97, 'Produto_33', 67.77, 12, 40.66),\n",
       " (19, 19, 'Produto_18', 160.68, 15, 96.41),\n",
       " (20, 7, 'Produto_17', 34.37, 13, 20.62),\n",
       " (21, 79, 'Produto_1', 161.33, 15, 96.8),\n",
       " (22, 36, 'Produto_45', 184.7, 11, 110.82),\n",
       " (23, 94, 'Produto_21', 11.57, 1, 6.94),\n",
       " (24, 51, 'Produto_16', 103.49, 4, 62.09),\n",
       " (25, 37, 'Produto_32', 29.49, 17, 17.69),\n",
       " (26, 78, 'Produto_5', 86.93, 6, 52.16),\n",
       " (27, 78, 'Produto_24', 118.14, 1, 70.88),\n",
       " (28, 87, 'Produto_6', 38.12, 4, 22.87),\n",
       " (29, 88, 'Produto_7', 145.76, 13, 87.46),\n",
       " (30, 31, 'Produto_1', 85.55, 19, 51.33),\n",
       " (31, 2, 'Produto_37', 43.93, 11, 26.36),\n",
       " (32, 80, 'Produto_34', 167.69, 1, 100.61),\n",
       " (33, 76, 'Produto_2', 36.25, 13, 21.75),\n",
       " (34, 89, 'Produto_6', 163.48, 9, 98.09),\n",
       " (35, 61, 'Produto_34', 26.27, 17, 15.76),\n",
       " (36, 20, 'Produto_24', 171.27, 9, 102.76),\n",
       " (37, 64, 'Produto_32', 194.29, 6, 116.57),\n",
       " (38, 12, 'Produto_45', 137.65, 15, 82.59),\n",
       " (39, 45, 'Produto_14', 150.07, 10, 90.04),\n",
       " (40, 32, 'Produto_32', 169.94, 19, 101.96),\n",
       " (41, 55, 'Produto_25', 32.62, 14, 19.57),\n",
       " (42, 37, 'Produto_1', 109.69, 1, 65.81),\n",
       " (43, 72, 'Produto_39', 199.78, 16, 119.87),\n",
       " (44, 76, 'Produto_50', 164.47, 17, 98.68),\n",
       " (45, 88, 'Produto_11', 68.66, 16, 41.2),\n",
       " (46, 50, 'Produto_8', 25.03, 13, 15.02),\n",
       " (47, 23, 'Produto_25', 123.85, 20, 74.31),\n",
       " (48, 91, 'Produto_28', 26.14, 6, 15.68),\n",
       " (49, 9, 'Produto_31', 46.27, 3, 27.76),\n",
       " (50, 18, 'Produto_6', 155.63, 12, 93.38),\n",
       " (51, 80, 'Produto_7', 56.15, 11, 33.69),\n",
       " (52, 59, 'Produto_13', 124.63, 6, 74.78),\n",
       " (53, 88, 'Produto_22', 92.03, 4, 55.22),\n",
       " (54, 62, 'Produto_50', 154.84, 5, 92.9),\n",
       " (55, 39, 'Produto_27', 10.31, 5, 6.19),\n",
       " (56, 90, 'Produto_16', 30.1, 5, 18.06),\n",
       " (57, 19, 'Produto_18', 170.95, 20, 102.57),\n",
       " (58, 75, 'Produto_16', 104.94, 8, 62.96),\n",
       " (59, 4, 'Produto_49', 119.61, 17, 71.77),\n",
       " (60, 24, 'Produto_5', 102.72, 11, 61.63),\n",
       " (61, 36, 'Produto_48', 84.9, 19, 50.94),\n",
       " (62, 85, 'Produto_28', 51.01, 3, 30.61),\n",
       " (63, 9, 'Produto_8', 31.4, 3, 18.84),\n",
       " (64, 34, 'Produto_49', 37.23, 9, 22.34),\n",
       " (65, 54, 'Produto_32', 60.6, 2, 36.36),\n",
       " (66, 23, 'Produto_20', 194.8, 8, 116.88),\n",
       " (67, 14, 'Produto_42', 90.96, 18, 54.58),\n",
       " (68, 44, 'Produto_10', 191.3, 10, 114.78),\n",
       " (69, 85, 'Produto_43', 24.79, 12, 14.87),\n",
       " (70, 49, 'Produto_15', 47.9, 11, 28.74),\n",
       " (71, 78, 'Produto_28', 45.76, 8, 27.46),\n",
       " (72, 30, 'Produto_30', 91.74, 4, 55.04),\n",
       " (73, 56, 'Produto_34', 142.24, 6, 85.34),\n",
       " (74, 6, 'Produto_5', 125.28, 13, 75.17),\n",
       " (75, 36, 'Produto_20', 36.46, 1, 21.88),\n",
       " (76, 43, 'Produto_26', 98.92, 12, 59.35),\n",
       " (77, 37, 'Produto_11', 116.83, 20, 70.1),\n",
       " (78, 24, 'Produto_50', 25.82, 10, 15.49),\n",
       " (79, 98, 'Produto_36', 138.52, 17, 83.11),\n",
       " (80, 3, 'Produto_25', 198.07, 6, 118.84),\n",
       " (81, 96, 'Produto_23', 15.36, 11, 9.22),\n",
       " (82, 52, 'Produto_44', 55.17, 8, 33.1),\n",
       " (83, 50, 'Produto_4', 62.59, 17, 37.55),\n",
       " (84, 45, 'Produto_17', 199.62, 14, 119.77),\n",
       " (85, 69, 'Produto_22', 66.9, 20, 40.14),\n",
       " (86, 20, 'Produto_45', 152.84, 7, 91.7),\n",
       " (87, 91, 'Produto_28', 47.58, 11, 28.55),\n",
       " (88, 21, 'Produto_47', 146.07, 18, 87.64),\n",
       " (89, 66, 'Produto_43', 37.75, 5, 22.65),\n",
       " (90, 86, 'Produto_35', 72.53, 2, 43.52),\n",
       " (91, 20, 'Produto_3', 164.55, 20, 98.73),\n",
       " (92, 2, 'Produto_22', 86.69, 11, 52.01),\n",
       " (93, 67, 'Produto_41', 72.9, 14, 43.74),\n",
       " (94, 4, 'Produto_16', 38.61, 13, 23.17),\n",
       " (95, 89, 'Produto_29', 110.76, 12, 66.46),\n",
       " (96, 57, 'Produto_46', 190.45, 10, 114.27),\n",
       " (97, 60, 'Produto_4', 180.91, 16, 108.55),\n",
       " (98, 92, 'Produto_9', 64.0, 17, 38.4),\n",
       " (99, 59, 'Produto_6', 73.64, 16, 44.18),\n",
       " (100, 5, 'Produto_18', 33.03, 20, 19.82),\n",
       " (101, 59, 'Produto_27', 169.36, 13, 101.62),\n",
       " (102, 87, 'Produto_49', 163.09, 11, 97.85),\n",
       " (103, 14, 'Produto_17', 63.25, 17, 37.95),\n",
       " (104, 21, 'Produto_17', 17.27, 5, 10.36),\n",
       " (105, 20, 'Produto_2', 12.68, 4, 7.61),\n",
       " (106, 60, 'Produto_3', 90.23, 20, 54.14),\n",
       " (107, 25, 'Produto_14', 38.42, 3, 23.05),\n",
       " (108, 85, 'Produto_47', 71.75, 18, 43.05),\n",
       " (109, 14, 'Produto_37', 197.77, 14, 118.66),\n",
       " (110, 47, 'Produto_8', 36.92, 11, 22.15),\n",
       " (111, 61, 'Produto_25', 21.03, 7, 12.62),\n",
       " (112, 31, 'Produto_24', 149.85, 18, 89.91),\n",
       " (113, 70, 'Produto_24', 81.9, 15, 49.14),\n",
       " (114, 27, 'Produto_20', 163.77, 5, 98.26),\n",
       " (115, 94, 'Produto_31', 143.05, 5, 85.83),\n",
       " (116, 67, 'Produto_6', 191.16, 2, 114.7),\n",
       " (117, 99, 'Produto_31', 194.36, 13, 116.62),\n",
       " (118, 76, 'Produto_46', 151.54, 19, 90.92),\n",
       " (119, 1, 'Produto_15', 13.12, 7, 7.87),\n",
       " (120, 54, 'Produto_24', 139.93, 18, 83.96),\n",
       " (121, 28, 'Produto_34', 57.6, 18, 34.56),\n",
       " (122, 13, 'Produto_19', 46.08, 6, 27.65),\n",
       " (123, 84, 'Produto_12', 197.18, 15, 118.31),\n",
       " (124, 67, 'Produto_20', 173.43, 4, 104.06),\n",
       " (125, 57, 'Produto_19', 32.09, 8, 19.25),\n",
       " (126, 78, 'Produto_7', 25.64, 12, 15.38),\n",
       " (127, 12, 'Produto_43', 36.3, 4, 21.78),\n",
       " (128, 63, 'Produto_4', 186.5, 5, 111.9),\n",
       " (129, 46, 'Produto_38', 36.09, 4, 21.65),\n",
       " (130, 71, 'Produto_23', 136.71, 19, 82.03),\n",
       " (131, 87, 'Produto_32', 98.13, 14, 58.88),\n",
       " (132, 20, 'Produto_2', 81.85, 13, 49.11),\n",
       " (133, 87, 'Produto_27', 96.42, 8, 57.85),\n",
       " (134, 59, 'Produto_19', 18.39, 4, 11.03),\n",
       " (135, 64, 'Produto_42', 172.8, 15, 103.68),\n",
       " (136, 98, 'Produto_30', 75.19, 1, 45.11),\n",
       " (137, 26, 'Produto_18', 147.01, 1, 88.21),\n",
       " (138, 57, 'Produto_12', 128.0, 17, 76.8),\n",
       " (139, 14, 'Produto_42', 151.81, 5, 91.09),\n",
       " (140, 50, 'Produto_10', 131.38, 13, 78.83),\n",
       " (141, 37, 'Produto_23', 59.52, 16, 35.71),\n",
       " (142, 10, 'Produto_46', 111.6, 19, 66.96),\n",
       " (143, 46, 'Produto_1', 31.64, 7, 18.98),\n",
       " (144, 44, 'Produto_18', 148.22, 15, 88.93),\n",
       " (145, 3, 'Produto_1', 92.3, 6, 55.38),\n",
       " (146, 47, 'Produto_33', 102.3, 13, 61.38),\n",
       " (147, 18, 'Produto_47', 133.77, 3, 80.26),\n",
       " (148, 81, 'Produto_26', 91.64, 20, 54.98),\n",
       " (149, 45, 'Produto_33', 52.55, 20, 31.53),\n",
       " (150, 57, 'Produto_1', 135.48, 1, 81.29),\n",
       " (151, 52, 'Produto_28', 15.77, 15, 9.46),\n",
       " (152, 74, 'Produto_41', 128.05, 18, 76.83),\n",
       " (153, 74, 'Produto_8', 106.01, 6, 63.61),\n",
       " (154, 15, 'Produto_26', 158.71, 16, 95.23),\n",
       " (155, 22, 'Produto_31', 64.36, 10, 38.62),\n",
       " (156, 52, 'Produto_19', 89.42, 8, 53.65),\n",
       " (157, 22, 'Produto_15', 199.24, 8, 119.54),\n",
       " (158, 97, 'Produto_3', 23.01, 6, 13.81),\n",
       " (159, 38, 'Produto_39', 39.84, 16, 23.9),\n",
       " (160, 32, 'Produto_15', 37.74, 19, 22.64),\n",
       " (161, 79, 'Produto_44', 155.45, 12, 93.27),\n",
       " (162, 56, 'Produto_8', 33.42, 15, 20.05),\n",
       " (163, 45, 'Produto_18', 151.89, 12, 91.13),\n",
       " (164, 65, 'Produto_11', 105.63, 19, 63.38),\n",
       " (165, 41, 'Produto_30', 17.76, 10, 10.66),\n",
       " (166, 7, 'Produto_8', 100.81, 19, 60.49),\n",
       " (167, 35, 'Produto_42', 28.34, 7, 17.0),\n",
       " (168, 24, 'Produto_34', 37.89, 17, 22.73),\n",
       " (169, 41, 'Produto_29', 27.34, 12, 16.4),\n",
       " (170, 84, 'Produto_13', 184.2, 5, 110.52),\n",
       " (171, 84, 'Produto_12', 24.93, 7, 14.96),\n",
       " (172, 47, 'Produto_4', 28.03, 12, 16.82),\n",
       " (173, 77, 'Produto_39', 188.52, 19, 113.11),\n",
       " (174, 58, 'Produto_8', 103.24, 17, 61.94),\n",
       " (175, 42, 'Produto_11', 88.9, 20, 53.34),\n",
       " (176, 38, 'Produto_31', 93.94, 2, 56.36),\n",
       " (177, 85, 'Produto_46', 21.13, 17, 12.68),\n",
       " (178, 13, 'Produto_7', 183.36, 8, 110.02),\n",
       " (179, 21, 'Produto_9', 166.11, 2, 99.67),\n",
       " (180, 9, 'Produto_32', 141.85, 18, 85.11),\n",
       " (181, 54, 'Produto_2', 163.44, 3, 98.06),\n",
       " (182, 96, 'Produto_26', 105.53, 15, 63.32),\n",
       " (183, 39, 'Produto_41', 136.76, 15, 82.06),\n",
       " (184, 68, 'Produto_10', 122.17, 19, 73.3),\n",
       " (185, 34, 'Produto_30', 139.21, 15, 83.53),\n",
       " (186, 76, 'Produto_48', 195.24, 14, 117.14),\n",
       " (187, 77, 'Produto_20', 117.97, 4, 70.78),\n",
       " (188, 96, 'Produto_21', 55.59, 8, 33.35),\n",
       " (189, 15, 'Produto_4', 57.91, 1, 34.75),\n",
       " (190, 67, 'Produto_11', 123.17, 19, 73.9),\n",
       " (191, 28, 'Produto_35', 33.25, 9, 19.95),\n",
       " (192, 69, 'Produto_21', 194.8, 12, 116.88),\n",
       " (193, 54, 'Produto_8', 185.3, 3, 111.18),\n",
       " (194, 57, 'Produto_23', 26.6, 1, 15.96),\n",
       " (195, 70, 'Produto_9', 72.53, 4, 43.52),\n",
       " (196, 74, 'Produto_42', 194.13, 12, 116.48),\n",
       " (197, 8, 'Produto_10', 178.27, 13, 106.96),\n",
       " (198, 15, 'Produto_14', 39.89, 9, 23.93),\n",
       " (199, 67, 'Produto_32', 27.57, 12, 16.54),\n",
       " (200, 10, 'Produto_3', 57.05, 6, 34.23),\n",
       " (201, 49, 'Produto_7', 196.13, 20, 117.68),\n",
       " (202, 69, 'Produto_28', 13.59, 18, 8.15),\n",
       " (203, 31, 'Produto_24', 179.2, 15, 107.52),\n",
       " (204, 11, 'Produto_15', 57.46, 6, 34.48),\n",
       " (205, 69, 'Produto_16', 135.56, 9, 81.34),\n",
       " (206, 53, 'Produto_25', 84.87, 18, 50.92),\n",
       " (207, 34, 'Produto_33', 176.65, 14, 105.99),\n",
       " (208, 67, 'Produto_40', 104.03, 11, 62.42),\n",
       " (209, 6, 'Produto_27', 57.23, 15, 34.34),\n",
       " (210, 53, 'Produto_16', 80.74, 2, 48.44),\n",
       " (211, 67, 'Produto_18', 135.98, 13, 81.59),\n",
       " (212, 49, 'Produto_32', 183.56, 12, 110.14),\n",
       " (213, 64, 'Produto_16', 10.76, 11, 6.46),\n",
       " (214, 95, 'Produto_49', 105.74, 19, 63.44),\n",
       " (215, 28, 'Produto_32', 143.99, 7, 86.39),\n",
       " (216, 12, 'Produto_50', 119.96, 15, 71.98),\n",
       " (217, 18, 'Produto_41', 98.14, 14, 58.88),\n",
       " (218, 93, 'Produto_34', 95.91, 2, 57.55),\n",
       " (219, 10, 'Produto_23', 170.09, 13, 102.05),\n",
       " (220, 66, 'Produto_1', 71.92, 15, 43.15),\n",
       " (221, 75, 'Produto_47', 20.84, 6, 12.5),\n",
       " (222, 10, 'Produto_6', 167.62, 17, 100.57),\n",
       " (223, 8, 'Produto_16', 76.0, 4, 45.6),\n",
       " (224, 77, 'Produto_33', 18.36, 10, 11.02),\n",
       " (225, 36, 'Produto_45', 15.91, 5, 9.55),\n",
       " (226, 34, 'Produto_7', 38.07, 4, 22.84),\n",
       " (227, 76, 'Produto_7', 146.11, 20, 87.67),\n",
       " (228, 74, 'Produto_16', 45.61, 4, 27.37),\n",
       " (229, 95, 'Produto_32', 36.61, 6, 21.97),\n",
       " (230, 100, 'Produto_26', 65.84, 3, 39.5),\n",
       " (231, 8, 'Produto_10', 30.18, 1, 18.11),\n",
       " (232, 2, 'Produto_15', 13.74, 3, 8.24),\n",
       " (233, 40, 'Produto_25', 156.4, 1, 93.84),\n",
       " (234, 74, 'Produto_39', 28.19, 9, 16.91),\n",
       " (235, 4, 'Produto_16', 86.21, 2, 51.73),\n",
       " (236, 27, 'Produto_20', 89.4, 14, 53.64),\n",
       " (237, 61, 'Produto_2', 43.56, 6, 26.14),\n",
       " (238, 54, 'Produto_3', 134.81, 7, 80.89),\n",
       " (239, 96, 'Produto_43', 194.33, 18, 116.6),\n",
       " (240, 62, 'Produto_31', 31.42, 3, 18.85),\n",
       " (241, 41, 'Produto_2', 131.85, 11, 79.11),\n",
       " (242, 10, 'Produto_8', 135.85, 20, 81.51),\n",
       " (243, 49, 'Produto_42', 134.6, 4, 80.76),\n",
       " (244, 5, 'Produto_5', 83.92, 5, 50.35),\n",
       " (245, 91, 'Produto_7', 178.77, 18, 107.26),\n",
       " (246, 21, 'Produto_24', 20.25, 12, 12.15),\n",
       " (247, 83, 'Produto_37', 198.96, 5, 119.38),\n",
       " (248, 77, 'Produto_28', 180.7, 7, 108.42),\n",
       " (249, 29, 'Produto_22', 106.38, 13, 63.83),\n",
       " (250, 36, 'Produto_25', 23.28, 10, 13.97),\n",
       " (251, 11, 'Produto_43', 146.55, 14, 87.93),\n",
       " (252, 34, 'Produto_7', 133.92, 18, 80.35),\n",
       " (253, 62, 'Produto_30', 72.61, 12, 43.57),\n",
       " (254, 46, 'Produto_11', 199.05, 1, 119.43),\n",
       " (255, 67, 'Produto_38', 130.09, 18, 78.05),\n",
       " (256, 40, 'Produto_48', 143.96, 8, 86.38),\n",
       " (257, 97, 'Produto_47', 42.45, 8, 25.47),\n",
       " (258, 89, 'Produto_32', 163.93, 19, 98.36),\n",
       " (259, 73, 'Produto_42', 169.11, 5, 101.47),\n",
       " (260, 100, 'Produto_1', 171.46, 6, 102.88),\n",
       " (261, 30, 'Produto_19', 151.51, 18, 90.91),\n",
       " (262, 60, 'Produto_50', 187.45, 10, 112.47),\n",
       " (263, 72, 'Produto_36', 139.34, 1, 83.6),\n",
       " (264, 34, 'Produto_28', 92.44, 4, 55.46),\n",
       " (265, 97, 'Produto_9', 153.97, 5, 92.38),\n",
       " (266, 58, 'Produto_31', 84.84, 18, 50.9),\n",
       " (267, 70, 'Produto_6', 59.07, 14, 35.44),\n",
       " (268, 73, 'Produto_45', 72.7, 1, 43.62),\n",
       " (269, 84, 'Produto_12', 91.54, 8, 54.92),\n",
       " (270, 81, 'Produto_39', 137.27, 8, 82.36),\n",
       " (271, 13, 'Produto_15', 91.25, 13, 54.75),\n",
       " (272, 17, 'Produto_44', 39.07, 5, 23.44),\n",
       " (273, 64, 'Produto_29', 198.8, 14, 119.28),\n",
       " (274, 70, 'Produto_13', 156.31, 2, 93.79),\n",
       " (275, 39, 'Produto_12', 129.06, 5, 77.44),\n",
       " (276, 62, 'Produto_40', 92.07, 9, 55.24),\n",
       " (277, 47, 'Produto_6', 23.37, 16, 14.02),\n",
       " (278, 72, 'Produto_4', 172.24, 11, 103.34),\n",
       " (279, 80, 'Produto_37', 145.13, 15, 87.08),\n",
       " (280, 42, 'Produto_31', 177.5, 1, 106.5),\n",
       " (281, 97, 'Produto_15', 183.21, 13, 109.93),\n",
       " (282, 22, 'Produto_34', 42.6, 16, 25.56),\n",
       " (283, 76, 'Produto_7', 54.93, 7, 32.96),\n",
       " (284, 5, 'Produto_40', 138.96, 1, 83.38),\n",
       " (285, 51, 'Produto_47', 88.6, 20, 53.16),\n",
       " (286, 8, 'Produto_4', 58.4, 5, 35.04),\n",
       " (287, 17, 'Produto_49', 116.06, 4, 69.64),\n",
       " (288, 55, 'Produto_29', 192.91, 4, 115.75),\n",
       " (289, 91, 'Produto_21', 159.18, 17, 95.51),\n",
       " (290, 38, 'Produto_32', 60.74, 11, 36.44),\n",
       " (291, 65, 'Produto_4', 105.22, 18, 63.13),\n",
       " (292, 21, 'Produto_39', 144.53, 15, 86.72),\n",
       " (293, 1, 'Produto_50', 133.05, 6, 79.83),\n",
       " (294, 62, 'Produto_36', 18.69, 16, 11.21),\n",
       " (295, 5, 'Produto_9', 54.07, 12, 32.44),\n",
       " (296, 66, 'Produto_40', 100.63, 18, 60.38),\n",
       " (297, 42, 'Produto_38', 86.18, 18, 51.71),\n",
       " (298, 99, 'Produto_16', 36.91, 4, 22.15),\n",
       " (299, 22, 'Produto_15', 92.67, 1, 55.6),\n",
       " (300, 45, 'Produto_28', 170.35, 10, 102.21),\n",
       " (301, 86, 'Produto_19', 182.79, 15, 109.67),\n",
       " (302, 16, 'Produto_30', 128.32, 14, 76.99),\n",
       " (303, 18, 'Produto_2', 111.71, 20, 67.03),\n",
       " (304, 99, 'Produto_50', 160.25, 9, 96.15),\n",
       " (305, 29, 'Produto_12', 85.76, 10, 51.46),\n",
       " (306, 19, 'Produto_30', 78.09, 9, 46.85),\n",
       " (307, 98, 'Produto_6', 150.28, 14, 90.17),\n",
       " (308, 50, 'Produto_30', 145.46, 10, 87.28),\n",
       " (309, 82, 'Produto_36', 141.76, 2, 85.06),\n",
       " (310, 28, 'Produto_15', 46.93, 14, 28.16),\n",
       " (311, 84, 'Produto_37', 106.29, 8, 63.77),\n",
       " (312, 56, 'Produto_24', 168.72, 14, 101.23),\n",
       " (313, 92, 'Produto_6', 36.89, 13, 22.13),\n",
       " (314, 20, 'Produto_1', 169.55, 18, 101.73),\n",
       " (315, 43, 'Produto_40', 142.55, 4, 85.53),\n",
       " (316, 50, 'Produto_29', 144.62, 15, 86.77),\n",
       " (317, 100, 'Produto_9', 31.4, 6, 18.84),\n",
       " (318, 97, 'Produto_1', 60.35, 20, 36.21),\n",
       " (319, 84, 'Produto_49', 177.64, 14, 106.58),\n",
       " (320, 88, 'Produto_27', 133.11, 6, 79.87),\n",
       " (321, 27, 'Produto_11', 162.31, 15, 97.39),\n",
       " (322, 82, 'Produto_30', 179.53, 6, 107.72),\n",
       " (323, 60, 'Produto_38', 66.98, 11, 40.19),\n",
       " (324, 64, 'Produto_31', 198.14, 15, 118.88),\n",
       " (325, 33, 'Produto_38', 90.19, 4, 54.11),\n",
       " (326, 51, 'Produto_33', 187.18, 4, 112.31),\n",
       " (327, 90, 'Produto_23', 197.39, 20, 118.43),\n",
       " (328, 3, 'Produto_39', 94.29, 13, 56.57),\n",
       " (329, 8, 'Produto_21', 22.06, 9, 13.24),\n",
       " (330, 10, 'Produto_30', 85.67, 3, 51.4),\n",
       " (331, 41, 'Produto_9', 171.23, 2, 102.74),\n",
       " (332, 52, 'Produto_25', 46.42, 14, 27.85),\n",
       " (333, 34, 'Produto_39', 66.0, 13, 39.6),\n",
       " (334, 53, 'Produto_36', 155.8, 2, 93.48),\n",
       " (335, 4, 'Produto_27', 109.8, 5, 65.88),\n",
       " (336, 72, 'Produto_41', 115.82, 1, 69.49),\n",
       " (337, 86, 'Produto_29', 143.29, 12, 85.97),\n",
       " (338, 63, 'Produto_13', 68.34, 12, 41.0),\n",
       " (339, 96, 'Produto_8', 20.54, 4, 12.32),\n",
       " (340, 86, 'Produto_20', 19.92, 6, 11.95),\n",
       " (341, 61, 'Produto_27', 150.62, 19, 90.37),\n",
       " (342, 23, 'Produto_40', 170.5, 2, 102.3),\n",
       " (343, 30, 'Produto_14', 142.28, 11, 85.37),\n",
       " (344, 15, 'Produto_30', 48.98, 11, 29.39),\n",
       " (345, 64, 'Produto_35', 89.72, 6, 53.83),\n",
       " (346, 56, 'Produto_9', 72.42, 5, 43.45),\n",
       " (347, 86, 'Produto_22', 175.04, 16, 105.02),\n",
       " (348, 25, 'Produto_22', 119.63, 20, 71.78),\n",
       " (349, 17, 'Produto_8', 63.6, 17, 38.16),\n",
       " (350, 61, 'Produto_16', 90.42, 1, 54.25),\n",
       " (351, 72, 'Produto_13', 20.88, 5, 12.53),\n",
       " (352, 28, 'Produto_12', 66.24, 6, 39.74),\n",
       " (353, 3, 'Produto_7', 47.0, 13, 28.2),\n",
       " (354, 97, 'Produto_26', 21.68, 4, 13.01),\n",
       " (355, 87, 'Produto_18', 166.68, 4, 100.01),\n",
       " (356, 26, 'Produto_7', 193.51, 17, 116.11),\n",
       " (357, 99, 'Produto_12', 112.02, 1, 67.21),\n",
       " (358, 82, 'Produto_17', 113.71, 12, 68.23),\n",
       " (359, 70, 'Produto_15', 65.39, 17, 39.23),\n",
       " (360, 74, 'Produto_27', 55.59, 18, 33.35),\n",
       " (361, 36, 'Produto_16', 84.18, 17, 50.51),\n",
       " (362, 39, 'Produto_38', 178.92, 8, 107.35),\n",
       " (363, 20, 'Produto_36', 136.61, 4, 81.97),\n",
       " (364, 41, 'Produto_22', 148.69, 20, 89.21),\n",
       " (365, 10, 'Produto_23', 11.65, 1, 6.99),\n",
       " (366, 60, 'Produto_8', 142.23, 16, 85.34),\n",
       " (367, 9, 'Produto_36', 184.02, 17, 110.41),\n",
       " (368, 21, 'Produto_3', 170.4, 4, 102.24),\n",
       " (369, 70, 'Produto_1', 88.27, 10, 52.96),\n",
       " (370, 1, 'Produto_10', 99.81, 12, 59.89),\n",
       " (371, 86, 'Produto_22', 122.09, 6, 73.25),\n",
       " (372, 32, 'Produto_22', 33.57, 18, 20.14),\n",
       " (373, 77, 'Produto_46', 159.33, 3, 95.6),\n",
       " (374, 36, 'Produto_25', 144.74, 8, 86.84),\n",
       " (375, 35, 'Produto_16', 74.49, 16, 44.69),\n",
       " (376, 4, 'Produto_3', 64.11, 8, 38.47),\n",
       " (377, 82, 'Produto_34', 112.96, 2, 67.78),\n",
       " (378, 20, 'Produto_16', 167.92, 13, 100.75),\n",
       " (379, 99, 'Produto_12', 21.49, 3, 12.89),\n",
       " (380, 94, 'Produto_36', 119.95, 4, 71.97),\n",
       " (381, 8, 'Produto_42', 182.49, 9, 109.49),\n",
       " (382, 61, 'Produto_7', 38.8, 20, 23.28),\n",
       " (383, 29, 'Produto_19', 198.77, 3, 119.26),\n",
       " (384, 25, 'Produto_19', 165.93, 13, 99.56),\n",
       " (385, 35, 'Produto_23', 138.9, 2, 83.34),\n",
       " (386, 23, 'Produto_26', 80.81, 1, 48.49),\n",
       " (387, 54, 'Produto_25', 25.68, 7, 15.41),\n",
       " (388, 93, 'Produto_14', 72.82, 20, 43.69),\n",
       " (389, 53, 'Produto_50', 175.41, 2, 105.25),\n",
       " (390, 94, 'Produto_42', 141.78, 11, 85.07),\n",
       " (391, 33, 'Produto_30', 161.44, 14, 96.86),\n",
       " (392, 56, 'Produto_3', 14.38, 8, 8.63),\n",
       " (393, 67, 'Produto_7', 74.3, 17, 44.58),\n",
       " (394, 50, 'Produto_26', 63.7, 13, 38.22),\n",
       " (395, 7, 'Produto_36', 162.04, 4, 97.22),\n",
       " (396, 61, 'Produto_38', 127.95, 19, 76.77),\n",
       " (397, 96, 'Produto_27', 52.5, 8, 31.5),\n",
       " (398, 27, 'Produto_9', 35.08, 11, 21.05),\n",
       " (399, 100, 'Produto_22', 162.06, 18, 97.24),\n",
       " (400, 31, 'Produto_16', 86.64, 19, 51.98),\n",
       " (401, 50, 'Produto_23', 52.41, 11, 31.45),\n",
       " (402, 65, 'Produto_20', 199.1, 7, 119.46),\n",
       " (403, 86, 'Produto_19', 174.39, 9, 104.63),\n",
       " (404, 85, 'Produto_41', 39.97, 19, 23.98),\n",
       " (405, 43, 'Produto_45', 71.63, 17, 42.98),\n",
       " (406, 89, 'Produto_22', 69.84, 16, 41.9),\n",
       " (407, 87, 'Produto_12', 29.86, 11, 17.92),\n",
       " (408, 47, 'Produto_10', 11.92, 16, 7.15),\n",
       " (409, 10, 'Produto_22', 194.26, 13, 116.56),\n",
       " (410, 17, 'Produto_4', 149.57, 4, 89.74),\n",
       " (411, 94, 'Produto_1', 121.02, 10, 72.61),\n",
       " (412, 30, 'Produto_14', 26.83, 2, 16.1),\n",
       " (413, 98, 'Produto_32', 10.03, 12, 6.02),\n",
       " (414, 67, 'Produto_29', 177.0, 6, 106.2),\n",
       " (415, 24, 'Produto_15', 104.37, 5, 62.62),\n",
       " (416, 54, 'Produto_29', 89.13, 17, 53.48),\n",
       " (417, 19, 'Produto_49', 68.44, 10, 41.06),\n",
       " (418, 68, 'Produto_25', 112.45, 2, 67.47),\n",
       " (419, 30, 'Produto_29', 58.53, 12, 35.12),\n",
       " (420, 61, 'Produto_36', 102.1, 20, 61.26),\n",
       " (421, 27, 'Produto_42', 83.37, 7, 50.02),\n",
       " (422, 8, 'Produto_18', 141.13, 15, 84.68),\n",
       " (423, 84, 'Produto_9', 13.04, 8, 7.82),\n",
       " (424, 100, 'Produto_24', 83.31, 18, 49.99),\n",
       " (425, 18, 'Produto_10', 15.95, 2, 9.57),\n",
       " (426, 3, 'Produto_34', 15.58, 1, 9.35),\n",
       " (427, 9, 'Produto_25', 61.58, 14, 36.95),\n",
       " (428, 61, 'Produto_10', 45.74, 4, 27.44),\n",
       " (429, 39, 'Produto_20', 48.31, 19, 28.99),\n",
       " (430, 99, 'Produto_46', 67.19, 3, 40.31),\n",
       " (431, 72, 'Produto_27', 134.35, 14, 80.61),\n",
       " (432, 83, 'Produto_44', 150.01, 3, 90.01),\n",
       " (433, 37, 'Produto_47', 177.32, 1, 106.39),\n",
       " (434, 87, 'Produto_3', 187.7, 1, 112.62),\n",
       " (435, 10, 'Produto_39', 107.65, 7, 64.59),\n",
       " (436, 43, 'Produto_43', 113.81, 13, 68.29),\n",
       " (437, 60, 'Produto_29', 98.56, 7, 59.14),\n",
       " (438, 85, 'Produto_50', 55.8, 16, 33.48),\n",
       " (439, 31, 'Produto_11', 148.32, 13, 88.99),\n",
       " (440, 59, 'Produto_22', 34.45, 12, 20.67),\n",
       " (441, 83, 'Produto_25', 168.0, 3, 100.8),\n",
       " (442, 91, 'Produto_42', 85.87, 20, 51.52),\n",
       " (443, 24, 'Produto_22', 63.03, 6, 37.82),\n",
       " (444, 20, 'Produto_6', 194.99, 15, 116.99),\n",
       " (445, 41, 'Produto_46', 52.96, 14, 31.78),\n",
       " (446, 10, 'Produto_4', 118.24, 15, 70.94),\n",
       " (447, 47, 'Produto_3', 111.78, 9, 67.07),\n",
       " (448, 72, 'Produto_24', 107.87, 8, 64.72),\n",
       " (449, 75, 'Produto_12', 181.36, 13, 108.82),\n",
       " (450, 91, 'Produto_11', 60.73, 8, 36.44),\n",
       " (451, 48, 'Produto_1', 18.44, 20, 11.06),\n",
       " (452, 12, 'Produto_28', 120.85, 8, 72.51),\n",
       " (453, 68, 'Produto_40', 167.29, 1, 100.37),\n",
       " (454, 60, 'Produto_30', 54.72, 12, 32.83),\n",
       " (455, 25, 'Produto_29', 110.63, 1, 66.38),\n",
       " (456, 22, 'Produto_12', 35.94, 18, 21.56),\n",
       " (457, 82, 'Produto_26', 134.73, 3, 80.84),\n",
       " (458, 98, 'Produto_4', 101.6, 17, 60.96),\n",
       " (459, 79, 'Produto_37', 95.52, 6, 57.31),\n",
       " (460, 93, 'Produto_40', 151.36, 12, 90.82),\n",
       " (461, 88, 'Produto_48', 154.02, 15, 92.41),\n",
       " (462, 54, 'Produto_17', 30.36, 7, 18.22),\n",
       " (463, 18, 'Produto_18', 40.89, 19, 24.53),\n",
       " (464, 7, 'Produto_4', 165.3, 18, 99.18),\n",
       " (465, 31, 'Produto_11', 16.06, 12, 9.64),\n",
       " (466, 50, 'Produto_37', 66.55, 20, 39.93),\n",
       " (467, 11, 'Produto_29', 186.75, 4, 112.05),\n",
       " (468, 57, 'Produto_30', 190.73, 5, 114.44),\n",
       " (469, 32, 'Produto_10', 40.43, 5, 24.26),\n",
       " (470, 56, 'Produto_49', 60.78, 11, 36.47),\n",
       " (471, 57, 'Produto_19', 147.38, 18, 88.43),\n",
       " (472, 79, 'Produto_23', 112.01, 19, 67.21),\n",
       " (473, 43, 'Produto_38', 154.74, 20, 92.84),\n",
       " (474, 76, 'Produto_19', 160.12, 5, 96.07),\n",
       " (475, 83, 'Produto_38', 92.49, 19, 55.49),\n",
       " (476, 84, 'Produto_3', 192.7, 9, 115.62),\n",
       " (477, 76, 'Produto_18', 19.22, 5, 11.53),\n",
       " (478, 97, 'Produto_44', 193.39, 8, 116.03),\n",
       " (479, 39, 'Produto_34', 162.33, 1, 97.4),\n",
       " (480, 98, 'Produto_22', 85.19, 9, 51.11),\n",
       " (481, 3, 'Produto_39', 33.03, 6, 19.82),\n",
       " (482, 33, 'Produto_33', 63.61, 13, 38.17),\n",
       " (483, 84, 'Produto_5', 170.45, 16, 102.27),\n",
       " (484, 9, 'Produto_30', 103.85, 20, 62.31),\n",
       " (485, 35, 'Produto_8', 198.35, 6, 119.01),\n",
       " (486, 16, 'Produto_7', 24.02, 16, 14.41),\n",
       " (487, 87, 'Produto_35', 47.53, 19, 28.52),\n",
       " (488, 75, 'Produto_29', 184.54, 10, 110.72),\n",
       " (489, 58, 'Produto_7', 62.24, 3, 37.34),\n",
       " (490, 70, 'Produto_26', 124.03, 7, 74.42),\n",
       " (491, 97, 'Produto_39', 150.94, 17, 90.56),\n",
       " (492, 82, 'Produto_18', 178.03, 18, 106.82),\n",
       " (493, 45, 'Produto_37', 157.59, 9, 94.55),\n",
       " (494, 65, 'Produto_17', 73.05, 14, 43.83),\n",
       " (495, 53, 'Produto_26', 97.69, 9, 58.61),\n",
       " (496, 27, 'Produto_12', 155.02, 1, 93.01),\n",
       " (497, 32, 'Produto_23', 71.04, 6, 42.62),\n",
       " (498, 80, 'Produto_1', 67.83, 13, 40.7),\n",
       " (499, 13, 'Produto_50', 187.89, 16, 112.73),\n",
       " (500, 46, 'Produto_21', 82.81, 11, 49.69)]"
      ]
     },
     "execution_count": 22,
     "metadata": {},
     "output_type": "execute_result"
    }
   ],
   "source": [
    "dados"
   ]
  },
  {
   "cell_type": "code",
   "execution_count": 21,
   "id": "8950f189",
   "metadata": {},
   "outputs": [],
   "source": [
    "# Retorna a media das unidades negociados \n",
    "query2 = 'SELECT AVG(Unidades_Vendidas)FROM tb_vendas_dsa '"
   ]
  },
  {
   "cell_type": "code",
   "execution_count": 22,
   "id": "c93c524e",
   "metadata": {},
   "outputs": [
    {
     "data": {
      "text/plain": [
       "<sqlite3.Cursor at 0x1aa4a24d840>"
      ]
     },
     "execution_count": 22,
     "metadata": {},
     "output_type": "execute_result"
    }
   ],
   "source": [
    "# Executa a quey no Banco de dados\n",
    "cursor.execute(query2)"
   ]
  },
  {
   "cell_type": "code",
   "execution_count": 23,
   "id": "6f2428d1",
   "metadata": {},
   "outputs": [],
   "source": [
    "resultado = cursor.fetchall()"
   ]
  },
  {
   "cell_type": "code",
   "execution_count": 24,
   "id": "778c8946",
   "metadata": {},
   "outputs": [
    {
     "name": "stdout",
     "output_type": "stream",
     "text": [
      "[(10.506,)]\n"
     ]
    }
   ],
   "source": [
    "print(resultado)"
   ]
  },
  {
   "cell_type": "code",
   "execution_count": 25,
   "id": "7efc8632",
   "metadata": {},
   "outputs": [],
   "source": [
    "# Media  das unidades vendidas por serviço\n",
    "query3 = 'SELECT Nome_Produto, AVG(Unidades_Vendidas) FROM tb_vendas_dsa GROUP BY Nome_Produto'"
   ]
  },
  {
   "cell_type": "code",
   "execution_count": 26,
   "id": "5d952600",
   "metadata": {},
   "outputs": [
    {
     "data": {
      "text/plain": [
       "<sqlite3.Cursor at 0x1aa4a24d840>"
      ]
     },
     "execution_count": 26,
     "metadata": {},
     "output_type": "execute_result"
    }
   ],
   "source": [
    "# Executa a quey no Banco de dados\n",
    "cursor.execute(query3)"
   ]
  },
  {
   "cell_type": "code",
   "execution_count": 27,
   "id": "3935d127",
   "metadata": {},
   "outputs": [],
   "source": [
    "resultado = cursor.fetchall()"
   ]
  },
  {
   "cell_type": "code",
   "execution_count": 28,
   "id": "2b5f31d2",
   "metadata": {},
   "outputs": [
    {
     "name": "stdout",
     "output_type": "stream",
     "text": [
      "('Produto_1', 12.0)\n",
      "('Produto_10', 9.5)\n",
      "('Produto_11', 14.181818181818182)\n",
      "('Produto_12', 8.846153846153847)\n",
      "('Produto_13', 6.0)\n",
      "('Produto_14', 9.166666666666666)\n",
      "('Produto_15', 9.75)\n",
      "('Produto_16', 8.25)\n",
      "('Produto_17', 11.714285714285714)\n",
      "('Produto_18', 13.083333333333334)\n",
      "('Produto_19', 9.727272727272727)\n",
      "('Produto_2', 9.25)\n",
      "('Produto_20', 7.555555555555555)\n",
      "('Produto_21', 10.285714285714286)\n",
      "('Produto_22', 13.6875)\n",
      "('Produto_23', 10.818181818181818)\n",
      "('Produto_24', 12.272727272727273)\n",
      "('Produto_25', 9.538461538461538)\n",
      "('Produto_26', 9.363636363636363)\n",
      "('Produto_27', 11.1)\n",
      "('Produto_28', 9.0)\n",
      "('Produto_29', 9.692307692307692)\n",
      "('Produto_3', 8.909090909090908)\n",
      "('Produto_30', 9.875)\n",
      "('Produto_31', 7.9)\n",
      "('Produto_32', 11.923076923076923)\n",
      "('Produto_33', 12.285714285714286)\n",
      "('Produto_34', 8.1)\n",
      "('Produto_35', 9.0)\n",
      "('Produto_36', 9.090909090909092)\n",
      "('Produto_37', 11.0)\n",
      "('Produto_38', 12.8)\n",
      "('Produto_39', 12.666666666666666)\n",
      "('Produto_4', 11.153846153846153)\n",
      "('Produto_40', 7.25)\n",
      "('Produto_41', 11.857142857142858)\n",
      "('Produto_42', 10.272727272727273)\n",
      "('Produto_43', 11.0)\n",
      "('Produto_44', 7.2)\n",
      "('Produto_45', 8.875)\n",
      "('Produto_46', 12.142857142857142)\n",
      "('Produto_47', 10.571428571428571)\n",
      "('Produto_48', 14.0)\n",
      "('Produto_49', 11.875)\n",
      "('Produto_5', 10.2)\n",
      "('Produto_50', 10.545454545454545)\n",
      "('Produto_6', 12.0)\n",
      "('Produto_7', 13.5625)\n",
      "('Produto_8', 11.071428571428571)\n",
      "('Produto_9', 7.2)\n"
     ]
    }
   ],
   "source": [
    "for row in resultado:\n",
    "    print(row)"
   ]
  },
  {
   "cell_type": "code",
   "execution_count": 29,
   "id": "928acc0d",
   "metadata": {},
   "outputs": [],
   "source": [
    "# query pra retornar a media da unidade vendidas por serviços maior que 199\n",
    "query4 = \"\"\" SELECT Nome_Produto, AVG(Unidades_Vendidas)\n",
    "             FROM tb_vendas_dsa \n",
    "             WHERE Valor_Unitario > 199\n",
    "             GROUP BY Nome_Produto\"\"\""
   ]
  },
  {
   "cell_type": "code",
   "execution_count": 30,
   "id": "7885525b",
   "metadata": {},
   "outputs": [
    {
     "data": {
      "text/plain": [
       "<sqlite3.Cursor at 0x1aa4a24d840>"
      ]
     },
     "execution_count": 30,
     "metadata": {},
     "output_type": "execute_result"
    }
   ],
   "source": [
    "cursor.execute(query4)"
   ]
  },
  {
   "cell_type": "code",
   "execution_count": 31,
   "id": "d61209f4",
   "metadata": {},
   "outputs": [],
   "source": [
    "resultado = cursor.fetchall()"
   ]
  },
  {
   "cell_type": "code",
   "execution_count": 32,
   "id": "ee8dc3b0",
   "metadata": {},
   "outputs": [
    {
     "name": "stdout",
     "output_type": "stream",
     "text": [
      "Produto: Produto_11 | Média de Unidades Vendidas: 1.00\n",
      "Produto: Produto_15 | Média de Unidades Vendidas: 8.00\n",
      "Produto: Produto_17 | Média de Unidades Vendidas: 14.00\n",
      "Produto: Produto_20 | Média de Unidades Vendidas: 7.00\n",
      "Produto: Produto_39 | Média de Unidades Vendidas: 16.00\n"
     ]
    }
   ],
   "source": [
    "for nome_produto, media_vendas in resultado:\n",
    "    print(f\"Produto: {nome_produto} | Média de Unidades Vendidas: {media_vendas:.2f}\")"
   ]
  },
  {
   "cell_type": "code",
   "execution_count": 33,
   "id": "52072c15",
   "metadata": {},
   "outputs": [
    {
     "data": {
      "image/png": "[encoded data removed]",
      "text/plain": [
       "<Figure size 1000x500 with 1 Axes>"
      ]
     },
     "metadata": {},
     "output_type": "display_data"
    }
   ],
   "source": [
    "import matplotlib.pyplot as plt\n",
    "\n",
    "# Executar a consulta SQL\n",
    "query4 = \"\"\" SELECT Nome_Produto, AVG(Unidades_Vendidas)\n",
    "             FROM tb_vendas_dsa \n",
    "             WHERE Valor_Unitario > 199\n",
    "             GROUP BY Nome_Produto \"\"\"\n",
    "cursor.execute(query4)\n",
    "resultado = cursor.fetchall()\n",
    "\n",
    "# Separar os dados em listas\n",
    "produtos = [row[0] for row in resultado]  # Nomes dos produtos\n",
    "medias_vendas = [row[1] for row in resultado]  # Médias de unidades vendidas\n",
    "\n",
    "# Criar o gráfico de barras com cores sóbrias\n",
    "plt.figure(figsize=(10, 5))  # Tamanho do gráfico\n",
    "cores_sobrias = [\"#4F4F4F\", \"#2F4F4F\", \"#556B2F\", \"#696969\", \"#708090\"]  # Cinza, azul escuro, verde escuro\n",
    "\n",
    "plt.bar(produtos, medias_vendas, color=cores_sobrias[:len(produtos)])  # Aplicar cores\n",
    "\n",
    "# Personalizar o gráfico\n",
    "plt.xlabel(\"Nome do Produto\", fontsize=12, color=\"black\")\n",
    "plt.ylabel(\"Média de Unidades Vendidas\", fontsize=12, color=\"black\")\n",
    "plt.title(\"Média de Unidades Vendidas por Produto (Valor > 199)\", fontsize=14, color=\"black\")\n",
    "plt.xticks(rotation=45, ha=\"right\", fontsize=10, color=\"black\")  # Rotacionar rótulos do eixo X\n",
    "\n",
    "# Remover bordas desnecessárias\n",
    "plt.gca().spines[\"top\"].set_visible(False)\n",
    "plt.gca().spines[\"right\"].set_visible(False)\n",
    "\n",
    "# Exibir o gráfico\n",
    "plt.show()"
   ]
  },
  {
   "cell_type": "code",
   "execution_count": 34,
   "id": "9a336b9b",
   "metadata": {},
   "outputs": [
    {
     "name": "stdout",
     "output_type": "stream",
     "text": [
      "('Produto_17', 14.0)\n",
      "('Produto_39', 16.0)\n"
     ]
    }
   ],
   "source": [
    "# Criar uma clasula sql para calcular a media de unidades vendidas por produto quando o valor for maior que 199\n",
    "# mais somente se a media de unidades vendidas for maior do que 10\n",
    "query5 = \"\"\"\n",
    "    SELECT Nome_Produto, AVG(Unidades_Vendidas) AS Media_Vendas\n",
    "    FROM tb_vendas_dsa\n",
    "    WHERE Valor_Unitario > 199\n",
    "    GROUP BY Nome_Produto\n",
    "    HAVING AVG(Unidades_Vendidas) > 10;\n",
    "\"\"\"\n",
    "\n",
    "# Executar a consulta\n",
    "cursor.execute(query5)\n",
    "\n",
    "# Obter os resultados\n",
    "resultado = cursor.fetchall()\n",
    "\n",
    "# Exibir os resultados\n",
    "for row in resultado:\n",
    "    print(row)\n"
   ]
  },
  {
   "cell_type": "code",
   "execution_count": 35,
   "id": "0b82e139",
   "metadata": {},
   "outputs": [
    {
     "data": {
      "image/png": "[encoded data removed]",
      "text/plain": [
       "<Figure size 800x600 with 1 Axes>"
      ]
     },
     "metadata": {},
     "output_type": "display_data"
    }
   ],
   "source": [
    "import matplotlib.pyplot as plt\n",
    "import sqlite3  # Ou use a biblioteca correspondente ao seu banco de dados, como MySQL ou PostgreSQL\n",
    "\n",
    "# Consulta SQL para calcular a média de unidades vendidas por produto\n",
    "query5 = \"\"\"\n",
    "    SELECT Nome_Produto, AVG(Unidades_Vendidas) AS Media_Vendas\n",
    "    FROM tb_vendas_dsa\n",
    "    WHERE Valor_Unitario > 199\n",
    "    GROUP BY Nome_Produto\n",
    "    HAVING AVG(Unidades_Vendidas) > 10;\n",
    "\"\"\"\n",
    "\n",
    "# Executar a consulta\n",
    "cursor.execute(query5)\n",
    "\n",
    "# Obter os resultados\n",
    "resultado = cursor.fetchall()\n",
    "\n",
    "# Separando os dados para o gráfico\n",
    "produtos = [row[0] for row in resultado]\n",
    "media_vendas = [row[1] for row in resultado]\n",
    "\n",
    "# Criando o gráfico de pizza\n",
    "plt.figure(figsize=(8, 6))\n",
    "plt.pie(media_vendas, labels=produtos, autopct='%1.1f%%', startangle=140, colors=plt.cm.Paired.colors)\n",
    "plt.title('Média de Vendas por Produto (Valor Unitário > 199 e Média de Unidades Vendidas > 10)')\n",
    "plt.axis('equal')  # Para garantir que o gráfico seja desenhado como um círculo\n",
    "plt.show()\n"
   ]
  },
  {
   "cell_type": "code",
   "execution_count": 37,
   "id": "3dc4afef",
   "metadata": {},
   "outputs": [
    {
     "data": {
      "text/plain": [
       "<function Connection.close()>"
      ]
     },
     "execution_count": 37,
     "metadata": {},
     "output_type": "execute_result"
    }
   ],
   "source": [
    "cursor.close\n",
    "conn.close"
   ]
  },
  {
   "cell_type": "code",
   "execution_count": 38,
   "id": "4c5b79fb",
   "metadata": {},
   "outputs": [],
   "source": [
    "con = sqlite3.connect('cap12_dsa.db')"
   ]
  },
  {
   "cell_type": "code",
   "execution_count": 39,
   "id": "7c5eeb8b",
   "metadata": {},
   "outputs": [],
   "source": [
    "cursor = con.cursor()"
   ]
  },
  {
   "cell_type": "code",
   "execution_count": 41,
   "id": "eecf7bc0",
   "metadata": {},
   "outputs": [
    {
     "name": "stdout",
     "output_type": "stream",
     "text": [
      "   ID_Pedido  ID_Cliente Nome_Produto  Valor_Unitario  Unidades_Vendidas  \\\n",
      "0          1          63   Produto_38          154.03                  7   \n",
      "1          2          49    Produto_8          171.52                  5   \n",
      "2          3          83   Produto_39           28.97                 13   \n",
      "3          4          37    Produto_2          104.55                  4   \n",
      "4          5          19    Produto_1           77.21                 19   \n",
      "\n",
      "    Custo  \n",
      "0   92.42  \n",
      "1  102.91  \n",
      "2   17.38  \n",
      "3   62.73  \n",
      "4   46.33  \n"
     ]
    },
    {
     "data": {
      "text/plain": [
       "<function Connection.close()>"
      ]
     },
     "execution_count": 41,
     "metadata": {},
     "output_type": "execute_result"
    }
   ],
   "source": [
    "import sqlite3  # Ou use a biblioteca correspondente ao seu banco de dados, como MySQL ou PostgreSQL\n",
    "import pandas as pd\n",
    "# Consulta SQL usando Pandas\n",
    "#query1 = 'SELECT * FROM tb_vendas_dsa'\n",
    "\n",
    "# Carregar os dados diretamente no DataFrame do Pandas\n",
    "df = pd.read_sql_query(query1, con)\n",
    "\n",
    "# Exibir as primeiras linhas do DataFrame\n",
    "print(df.head())\n",
    "\n",
    "cursor.close\n",
    "con.close"
   ]
  },
  {
   "cell_type": "code",
   "execution_count": 42,
   "id": "120f2609",
   "metadata": {},
   "outputs": [
    {
     "name": "stdout",
     "output_type": "stream",
     "text": [
      "Média das unidades vendidas: 10.506\n"
     ]
    },
    {
     "data": {
      "text/plain": [
       "<function Connection.close()>"
      ]
     },
     "execution_count": 42,
     "metadata": {},
     "output_type": "execute_result"
    }
   ],
   "source": [
    "#query2 = 'SELECT AVG(Unidades_Vendidas)FROM tb_vendas_dsa '\n",
    "# Calculando a média da coluna 'Unidades_Vendidas'\n",
    "media_unidades_vendidas = df['Unidades_Vendidas'].mean()\n",
    "\n",
    "print(\"Média das unidades vendidas:\", media_unidades_vendidas)\n",
    "\n",
    "cursor.close\n",
    "con.close\n"
   ]
  },
  {
   "cell_type": "code",
   "execution_count": 43,
   "id": "aa9f0f27",
   "metadata": {},
   "outputs": [
    {
     "name": "stdout",
     "output_type": "stream",
     "text": [
      "   Nome_Produto  Unidades_Vendidas\n",
      "0     Produto_1          12.000000\n",
      "1    Produto_10           9.500000\n",
      "2    Produto_11          14.181818\n",
      "3    Produto_12           8.846154\n",
      "4    Produto_13           6.000000\n",
      "5    Produto_14           9.166667\n",
      "6    Produto_15           9.750000\n",
      "7    Produto_16           8.250000\n",
      "8    Produto_17          11.714286\n",
      "9    Produto_18          13.083333\n",
      "10   Produto_19           9.727273\n",
      "11    Produto_2           9.250000\n",
      "12   Produto_20           7.555556\n",
      "13   Produto_21          10.285714\n",
      "14   Produto_22          13.687500\n",
      "15   Produto_23          10.818182\n",
      "16   Produto_24          12.272727\n",
      "17   Produto_25           9.538462\n",
      "18   Produto_26           9.363636\n",
      "19   Produto_27          11.100000\n",
      "20   Produto_28           9.000000\n",
      "21   Produto_29           9.692308\n",
      "22    Produto_3           8.909091\n",
      "23   Produto_30           9.875000\n",
      "24   Produto_31           7.900000\n",
      "25   Produto_32          11.923077\n",
      "26   Produto_33          12.285714\n",
      "27   Produto_34           8.100000\n",
      "28   Produto_35           9.000000\n",
      "29   Produto_36           9.090909\n",
      "30   Produto_37          11.000000\n",
      "31   Produto_38          12.800000\n",
      "32   Produto_39          12.666667\n",
      "33    Produto_4          11.153846\n",
      "34   Produto_40           7.250000\n",
      "35   Produto_41          11.857143\n",
      "36   Produto_42          10.272727\n",
      "37   Produto_43          11.000000\n",
      "38   Produto_44           7.200000\n",
      "39   Produto_45           8.875000\n",
      "40   Produto_46          12.142857\n",
      "41   Produto_47          10.571429\n",
      "42   Produto_48          14.000000\n",
      "43   Produto_49          11.875000\n",
      "44    Produto_5          10.200000\n",
      "45   Produto_50          10.545455\n",
      "46    Produto_6          12.000000\n",
      "47    Produto_7          13.562500\n",
      "48    Produto_8          11.071429\n",
      "49    Produto_9           7.200000\n"
     ]
    },
    {
     "data": {
      "text/plain": [
       "<function Connection.close()>"
      ]
     },
     "execution_count": 43,
     "metadata": {},
     "output_type": "execute_result"
    }
   ],
   "source": [
    "#query3 = 'SELECT Nome_Produto, AVG(Unidades_Vendidas) FROM tb_vendas_dsa GROUP BY Nome_Produto'\n",
    "\n",
    "# Agrupando por 'Nome_Produto' e calculando a média de 'Unidades_Vendidas'\n",
    "resultado = df.groupby('Nome_Produto')['Unidades_Vendidas'].mean().reset_index()\n",
    "\n",
    "print(resultado)\n",
    "\n",
    "cursor.close\n",
    "con.close"
   ]
  },
  {
   "cell_type": "code",
   "execution_count": 44,
   "id": "d1fb5299",
   "metadata": {},
   "outputs": [
    {
     "name": "stdout",
     "output_type": "stream",
     "text": [
      "  Nome_Produto  Unidades_Vendidas\n",
      "0   Produto_11                1.0\n",
      "1   Produto_15                8.0\n",
      "2   Produto_17               14.0\n",
      "3   Produto_20                7.0\n",
      "4   Produto_39               16.0\n"
     ]
    },
    {
     "data": {
      "text/plain": [
       "<function Connection.close()>"
      ]
     },
     "execution_count": 44,
     "metadata": {},
     "output_type": "execute_result"
    }
   ],
   "source": [
    "#query4 = \"\"\" SELECT Nome_Produto, AVG(Unidades_Vendidas)\n",
    "#             FROM tb_vendas_dsa \n",
    "#             WHERE Valor_Unitario > 199\n",
    "#             GROUP BY Nome_Produto\"\"\"\n",
    "\n",
    "# Filtrando os produtos com 'Valor_Unitario' maior que 199\n",
    "df_filtrado = df[df['Valor_Unitario'] > 199]\n",
    "\n",
    "# Agrupando por 'Nome_Produto' e calculando a média de 'Unidades_Vendidas'\n",
    "resultado = df_filtrado.groupby('Nome_Produto')['Unidades_Vendidas'].mean().reset_index()\n",
    "\n",
    "print(resultado)\n",
    "\n",
    "cursor.close\n",
    "con.close"
   ]
  },
  {
   "cell_type": "code",
   "execution_count": 46,
   "id": "03475849",
   "metadata": {},
   "outputs": [
    {
     "name": "stdout",
     "output_type": "stream",
     "text": [
      "  Nome_Produto  Media_Vendas\n",
      "0   Produto_17          14.0\n",
      "1   Produto_39          16.0\n"
     ]
    },
    {
     "data": {
      "text/plain": [
       "<function Connection.close()>"
      ]
     },
     "execution_count": 46,
     "metadata": {},
     "output_type": "execute_result"
    }
   ],
   "source": [
    "import pandas as pd\n",
    "\n",
    "# query5 = \"\"\"\n",
    "#    SELECT Nome_Produto, AVG(Unidades_Vendidas) AS Media_Vendas\n",
    "#    FROM tb_vendas_dsa\n",
    "#    WHERE Valor_Unitario > 199\n",
    "#    GROUP BY Nome_Produto\n",
    "#    HAVING AVG(Unidades_Vendidas) > 10;\n",
    "#\"\"\"\n",
    "\n",
    "# Filtra os dados onde o Valor_Unitario é maior que 199\n",
    "filtered_df = df[df['Valor_Unitario'] > 199]\n",
    "\n",
    "# Agrupa por Nome_Produto e calcula a média de Unidades_Vendidas\n",
    "grouped_df = filtered_df.groupby('Nome_Produto')['Unidades_Vendidas'].mean()\n",
    "\n",
    "# Filtra os grupos com média de vendas maior que 10\n",
    "result_df = grouped_df[grouped_df > 10]\n",
    "\n",
    "# Para exibir o resultado com o nome do produto e a média de vendas\n",
    "result_df = result_df.reset_index(name='Media_Vendas')\n",
    "\n",
    "print(result_df)\n",
    "\n",
    "cursor.close\n",
    "con.close"
   ]
  },
  {
   "cell_type": "code",
   "execution_count": 48,
   "id": "0454c2f3",
   "metadata": {},
   "outputs": [
    {
     "data": {
      "text/html": [
       "<div>\n",
       "<style scoped>\n",
       "    .dataframe tbody tr th:only-of-type {\n",
       "        vertical-align: middle;\n",
       "    }\n",
       "\n",
       "    .dataframe tbody tr th {\n",
       "        vertical-align: top;\n",
       "    }\n",
       "\n",
       "    .dataframe thead th {\n",
       "        text-align: right;\n",
       "    }\n",
       "</style>\n",
       "<table border=\"1\" class=\"dataframe\">\n",
       "  <thead>\n",
       "    <tr style=\"text-align: right;\">\n",
       "      <th></th>\n",
       "      <th>ID_Pedido</th>\n",
       "      <th>ID_Cliente</th>\n",
       "      <th>Nome_Produto</th>\n",
       "      <th>Valor_Unitario</th>\n",
       "      <th>Unidades_Vendidas</th>\n",
       "      <th>Custo</th>\n",
       "    </tr>\n",
       "  </thead>\n",
       "  <tbody>\n",
       "    <tr>\n",
       "      <th>42</th>\n",
       "      <td>43</td>\n",
       "      <td>72</td>\n",
       "      <td>Produto_39</td>\n",
       "      <td>199.78</td>\n",
       "      <td>16</td>\n",
       "      <td>119.87</td>\n",
       "    </tr>\n",
       "    <tr>\n",
       "      <th>83</th>\n",
       "      <td>84</td>\n",
       "      <td>45</td>\n",
       "      <td>Produto_17</td>\n",
       "      <td>199.62</td>\n",
       "      <td>14</td>\n",
       "      <td>119.77</td>\n",
       "    </tr>\n",
       "  </tbody>\n",
       "</table>\n",
       "</div>"
      ],
      "text/plain": [
       "    ID_Pedido  ID_Cliente Nome_Produto  Valor_Unitario  Unidades_Vendidas  \\\n",
       "42         43          72   Produto_39          199.78                 16   \n",
       "83         84          45   Produto_17          199.62                 14   \n",
       "\n",
       "     Custo  \n",
       "42  119.87  \n",
       "83  119.77  "
      ]
     },
     "execution_count": 48,
     "metadata": {},
     "output_type": "execute_result"
    }
   ],
   "source": [
    "# alternativa A\n",
    "df [df['Valor_Unitario'] > 199].groupby('Nome_Produto').filter(lambda x: x['Unidades_Vendidas'].mean() > 10)"
   ]
  },
  {
   "cell_type": "code",
   "execution_count": 50,
   "id": "68e42a86",
   "metadata": {},
   "outputs": [
    {
     "data": {
      "text/plain": [
       "Nome_Produto\n",
       "Produto_17    14.0\n",
       "Produto_39    16.0\n",
       "Name: Unidades_Vendidas, dtype: float64"
      ]
     },
     "execution_count": 50,
     "metadata": {},
     "output_type": "execute_result"
    }
   ],
   "source": [
    "df[df['Valor_Unitario'] > 199] \\\n",
    "    .groupby('Nome_Produto') \\\n",
    "    .filter(lambda x: x['Unidades_Vendidas'].mean() > 10) \\\n",
    "    .groupby('Nome_Produto')['Unidades_Vendidas'] \\\n",
    "    .mean()                                                        "
   ]
  },
  {
   "cell_type": "code",
   "execution_count": 51,
   "id": "a095f9c0",
   "metadata": {},
   "outputs": [
    {
     "data": {
      "text/plain": [
       "Nome_Produto\n",
       "Produto_17    14.0\n",
       "Produto_39    16.0\n",
       "Name: Unidades_Vendidas, dtype: float64"
      ]
     },
     "execution_count": 51,
     "metadata": {},
     "output_type": "execute_result"
    }
   ],
   "source": [
    "df[df['Valor_Unitario'] > 199] \\\n",
    "    .groupby('Nome_Produto') \\\n",
    "    .filter(lambda x: x['Unidades_Vendidas'].mean() > 10) \\\n",
    "    .groupby('Nome_Produto')['Unidades_Vendidas'] \\\n",
    "    .mean()"
   ]
  },
  {
   "cell_type": "code",
   "execution_count": null,
   "id": "6def3b6f",
   "metadata": {},
   "outputs": [],
   "source": []
  }
 ],
 "metadata": {
  "kernelspec": {
   "display_name": "Python 3 (ipykernel)",
   "language": "python",
   "name": "python3"
  },
  "language_info": {
   "codemirror_mode": {
    "name": "ipython",
    "version": 3
   },
   "file_extension": ".py",
   "mimetype": "text/x-python",
   "name": "python",
   "nbconvert_exporter": "python",
   "pygments_lexer": "ipython3",
   "version": "3.11.5"
  }
 },
 "nbformat": 4,
 "nbformat_minor": 5
}
