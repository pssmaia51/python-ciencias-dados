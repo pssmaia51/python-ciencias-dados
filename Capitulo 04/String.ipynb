{
 "cells": [
  {
   "cell_type": "markdown",
   "id": "1c70868c",
   "metadata": {},
   "source": [
    "## Criando uma Strinng\n",
    "#### Para criar uma string no Python voce pode usar aspas simples '' ou aspas duplas \"\""
   ]
  },
  {
   "cell_type": "code",
   "execution_count": 1,
   "id": "b4a4b22f",
   "metadata": {},
   "outputs": [
    {
     "data": {
      "text/plain": [
       "'oi'"
      ]
     },
     "execution_count": 1,
     "metadata": {},
     "output_type": "execute_result"
    }
   ],
   "source": [
    "# Uma palavra\n",
    "'oi'"
   ]
  },
  {
   "cell_type": "code",
   "execution_count": 2,
   "id": "def1ae54",
   "metadata": {},
   "outputs": [
    {
     "data": {
      "text/plain": [
       "'Criando uma String em Python'"
      ]
     },
     "execution_count": 2,
     "metadata": {},
     "output_type": "execute_result"
    }
   ],
   "source": [
    "# Uma frase\n",
    "'Criando uma String em Python'"
   ]
  },
  {
   "cell_type": "code",
   "execution_count": 3,
   "id": "01f9dae3",
   "metadata": {},
   "outputs": [
    {
     "data": {
      "text/plain": [
       "'oi'"
      ]
     },
     "execution_count": 3,
     "metadata": {},
     "output_type": "execute_result"
    }
   ],
   "source": [
    "# Podemos usar aspas duplas\n",
    "\"oi\""
   ]
  },
  {
   "cell_type": "code",
   "execution_count": 6,
   "id": "31cbec03",
   "metadata": {},
   "outputs": [
    {
     "data": {
      "text/plain": [
       "\"Criando uma String em 'Python'\""
      ]
     },
     "execution_count": 6,
     "metadata": {},
     "output_type": "execute_result"
    }
   ],
   "source": [
    "\"Criando uma String em 'Python'\""
   ]
  },
  {
   "cell_type": "markdown",
   "id": "a4aa4ec8",
   "metadata": {},
   "source": [
    "#### Imprimindo uma String"
   ]
  },
  {
   "cell_type": "code",
   "execution_count": 7,
   "id": "7f9c8f4a",
   "metadata": {},
   "outputs": [
    {
     "name": "stdout",
     "output_type": "stream",
     "text": [
      "Testando String em python\n"
     ]
    }
   ],
   "source": [
    "print('Testando String em python')"
   ]
  },
  {
   "cell_type": "code",
   "execution_count": 8,
   "id": "78b7f0e7",
   "metadata": {},
   "outputs": [
    {
     "name": "stdout",
     "output_type": "stream",
     "text": [
      "Testando \n",
      "String \n",
      "em \n",
      "python\n"
     ]
    }
   ],
   "source": [
    "print('Testando \\nString \\nem \\npython')"
   ]
  },
  {
   "cell_type": "markdown",
   "id": "cbcc6f3a",
   "metadata": {},
   "source": [
    "#### Indexação String"
   ]
  },
  {
   "cell_type": "code",
   "execution_count": 46,
   "id": "6bd5e5f5",
   "metadata": {},
   "outputs": [],
   "source": [
    "# Atribuindo uma Strig\n",
    "a = 'Data Science Academy'"
   ]
  },
  {
   "cell_type": "code",
   "execution_count": 47,
   "id": "c977d6f9",
   "metadata": {},
   "outputs": [
    {
     "name": "stdout",
     "output_type": "stream",
     "text": [
      "Data Science Academy\n"
     ]
    }
   ],
   "source": [
    "print(a)"
   ]
  },
  {
   "cell_type": "markdown",
   "id": "ca75a1be",
   "metadata": {},
   "source": [
    "### Indexação em python começando por zero"
   ]
  },
  {
   "cell_type": "code",
   "execution_count": 12,
   "id": "cc33ef04",
   "metadata": {},
   "outputs": [
    {
     "data": {
      "text/plain": [
       "'D'"
      ]
     },
     "execution_count": 12,
     "metadata": {},
     "output_type": "execute_result"
    }
   ],
   "source": [
    "a[0]"
   ]
  },
  {
   "cell_type": "code",
   "execution_count": 13,
   "id": "2192d4c0",
   "metadata": {},
   "outputs": [
    {
     "data": {
      "text/plain": [
       "'a'"
      ]
     },
     "execution_count": 13,
     "metadata": {},
     "output_type": "execute_result"
    }
   ],
   "source": [
    "a[1]"
   ]
  },
  {
   "cell_type": "code",
   "execution_count": 14,
   "id": "565c1d82",
   "metadata": {},
   "outputs": [
    {
     "data": {
      "text/plain": [
       "'t'"
      ]
     },
     "execution_count": 14,
     "metadata": {},
     "output_type": "execute_result"
    }
   ],
   "source": [
    "a[2]"
   ]
  },
  {
   "cell_type": "code",
   "execution_count": 15,
   "id": "65e2ed1d",
   "metadata": {},
   "outputs": [
    {
     "data": {
      "text/plain": [
       "'a'"
      ]
     },
     "execution_count": 15,
     "metadata": {},
     "output_type": "execute_result"
    }
   ],
   "source": [
    "a[3]"
   ]
  },
  {
   "cell_type": "code",
   "execution_count": 16,
   "id": "7b3a5544",
   "metadata": {},
   "outputs": [
    {
     "data": {
      "text/plain": [
       "' '"
      ]
     },
     "execution_count": 16,
     "metadata": {},
     "output_type": "execute_result"
    }
   ],
   "source": [
    "a[4]"
   ]
  },
  {
   "cell_type": "code",
   "execution_count": 48,
   "id": "4545c6f0",
   "metadata": {},
   "outputs": [
    {
     "data": {
      "text/plain": [
       "'Data Science Academy'"
      ]
     },
     "execution_count": 48,
     "metadata": {},
     "output_type": "execute_result"
    }
   ],
   "source": [
    "# A string original permanece inalterada\n",
    "a"
   ]
  },
  {
   "cell_type": "code",
   "execution_count": 21,
   "id": "034580c8",
   "metadata": {},
   "outputs": [
    {
     "data": {
      "text/plain": [
       "'ata Science Academy'"
      ]
     },
     "execution_count": 21,
     "metadata": {},
     "output_type": "execute_result"
    }
   ],
   "source": [
    "# Retorna todos os elementos da string começando pela poisição\n",
    "a[1:]"
   ]
  },
  {
   "cell_type": "code",
   "execution_count": 18,
   "id": "4ff33f21",
   "metadata": {},
   "outputs": [
    {
     "data": {
      "text/plain": [
       "'Dat'"
      ]
     },
     "execution_count": 18,
     "metadata": {},
     "output_type": "execute_result"
    }
   ],
   "source": [
    "#retorna toda a cadeia até a posição\n",
    "a[:3]"
   ]
  },
  {
   "cell_type": "code",
   "execution_count": 19,
   "id": "5cae8105",
   "metadata": {},
   "outputs": [
    {
     "data": {
      "text/plain": [
       "'y'"
      ]
     },
     "execution_count": 19,
     "metadata": {},
     "output_type": "execute_result"
    }
   ],
   "source": [
    "# Indexação negativa ler de tras pra frente \n",
    "a[-1]"
   ]
  },
  {
   "cell_type": "code",
   "execution_count": 20,
   "id": "b1d8c2a7",
   "metadata": {},
   "outputs": [
    {
     "data": {
      "text/plain": [
       "'Data Science Academ'"
      ]
     },
     "execution_count": 20,
     "metadata": {},
     "output_type": "execute_result"
    }
   ],
   "source": [
    "# Retorna tudo exceto a ultima letra\n",
    "a[:-1]"
   ]
  },
  {
   "cell_type": "markdown",
   "id": "1e9f3a2f",
   "metadata": {},
   "source": [
    "#### Também podemos usar a notação de indice e fatia a string em pedaços especificos o padrão e 1, por exemplo podemos usar dois pontos duas vezes em uma linha e em seguida um numero que espefifica a frenquencia para retornar elementos "
   ]
  },
  {
   "cell_type": "code",
   "execution_count": 49,
   "id": "a00641f7",
   "metadata": {},
   "outputs": [
    {
     "data": {
      "text/plain": [
       "'Data Science Academy'"
      ]
     },
     "execution_count": 49,
     "metadata": {},
     "output_type": "execute_result"
    }
   ],
   "source": [
    "a[::1]"
   ]
  },
  {
   "cell_type": "code",
   "execution_count": 50,
   "id": "c5da5a8c",
   "metadata": {},
   "outputs": [
    {
     "data": {
      "text/plain": [
       "'Dt cec cdm'"
      ]
     },
     "execution_count": 50,
     "metadata": {},
     "output_type": "execute_result"
    }
   ],
   "source": [
    "a[::2]"
   ]
  },
  {
   "cell_type": "markdown",
   "id": "fb4963c7",
   "metadata": {},
   "source": [
    "#### Propietades da String"
   ]
  },
  {
   "cell_type": "code",
   "execution_count": 25,
   "id": "eaa48c1c",
   "metadata": {},
   "outputs": [
    {
     "ename": "TypeError",
     "evalue": "'str' object does not support item assignment",
     "output_type": "error",
     "traceback": [
      "\u001b[1;31m---------------------------------------------------------------------------\u001b[0m",
      "\u001b[1;31mTypeError\u001b[0m                                 Traceback (most recent call last)",
      "\u001b[1;32m~\\AppData\\Local\\Temp\\ipykernel_5612\\1533103065.py\u001b[0m in \u001b[0;36m<module>\u001b[1;34m\u001b[0m\n\u001b[0;32m      1\u001b[0m \u001b[1;31m# Alterendo um Caracter(Não e possivel alterar um elemto da String)\u001b[0m\u001b[1;33m\u001b[0m\u001b[1;33m\u001b[0m\u001b[0m\n\u001b[1;32m----> 2\u001b[1;33m \u001b[0ma\u001b[0m\u001b[1;33m[\u001b[0m\u001b[1;36m0\u001b[0m\u001b[1;33m]\u001b[0m \u001b[1;33m=\u001b[0m \u001b[1;34m'x'\u001b[0m\u001b[1;33m\u001b[0m\u001b[1;33m\u001b[0m\u001b[0m\n\u001b[0m",
      "\u001b[1;31mTypeError\u001b[0m: 'str' object does not support item assignment"
     ]
    }
   ],
   "source": [
    "# Alterendo um Caracter(Não e possivel alterar um elemto da String)\n",
    "a[0] = 'x'"
   ]
  },
  {
   "cell_type": "code",
   "execution_count": 51,
   "id": "3fdaa6be",
   "metadata": {},
   "outputs": [
    {
     "data": {
      "text/plain": [
       "'Data Science Academy e a melhor mameira de estar preparado para o mercado de trabalho em Ciencias de dados'"
      ]
     },
     "execution_count": 51,
     "metadata": {},
     "output_type": "execute_result"
    }
   ],
   "source": [
    "a + ' ' 'e a melhor mameira de estar preparado para o mercado de trabalho em Ciencias de dados'"
   ]
  },
  {
   "cell_type": "code",
   "execution_count": 52,
   "id": "0890bd3d",
   "metadata": {},
   "outputs": [],
   "source": [
    "a = a + ' ' + 'e a melhor mameira de estar preparado para o mercado de trabalho em Ciencias de dados'"
   ]
  },
  {
   "cell_type": "code",
   "execution_count": 53,
   "id": "2059dcea",
   "metadata": {},
   "outputs": [
    {
     "name": "stdout",
     "output_type": "stream",
     "text": [
      "Data Science Academy e a melhor mameira de estar preparado para o mercado de trabalho em Ciencias de dados\n"
     ]
    }
   ],
   "source": [
    "print(a)"
   ]
  },
  {
   "cell_type": "code",
   "execution_count": 30,
   "id": "b5963d4d",
   "metadata": {},
   "outputs": [],
   "source": [
    "letra = 'w'"
   ]
  },
  {
   "cell_type": "code",
   "execution_count": 31,
   "id": "9b4e2419",
   "metadata": {},
   "outputs": [
    {
     "data": {
      "text/plain": [
       "'www'"
      ]
     },
     "execution_count": 31,
     "metadata": {},
     "output_type": "execute_result"
    }
   ],
   "source": [
    "letra * 3"
   ]
  },
  {
   "cell_type": "markdown",
   "id": "3d88765a",
   "metadata": {},
   "source": [
    "#### Função Buit-in String"
   ]
  },
  {
   "cell_type": "code",
   "execution_count": 55,
   "id": "320daa0c",
   "metadata": {},
   "outputs": [
    {
     "data": {
      "text/plain": [
       "'Data Science Academy e a melhor mameira de estar preparado para o mercado de trabalho em Ciencias de dados'"
      ]
     },
     "execution_count": 55,
     "metadata": {},
     "output_type": "execute_result"
    }
   ],
   "source": [
    "a"
   ]
  },
  {
   "cell_type": "code",
   "execution_count": 57,
   "id": "9f9d459c",
   "metadata": {},
   "outputs": [
    {
     "data": {
      "text/plain": [
       "'DATA SCIENCE ACADEMY E A MELHOR MAMEIRA DE ESTAR PREPARADO PARA O MERCADO DE TRABALHO EM CIENCIAS DE DADOS'"
      ]
     },
     "execution_count": 57,
     "metadata": {},
     "output_type": "execute_result"
    }
   ],
   "source": [
    "# Upper case (Maiscula)\n",
    "a.upper() "
   ]
  },
  {
   "cell_type": "code",
   "execution_count": 58,
   "id": "c350271b",
   "metadata": {},
   "outputs": [
    {
     "data": {
      "text/plain": [
       "'data science academy e a melhor mameira de estar preparado para o mercado de trabalho em ciencias de dados'"
      ]
     },
     "execution_count": 58,
     "metadata": {},
     "output_type": "execute_result"
    }
   ],
   "source": [
    "# Lower case (Minuscula)\n",
    "a.lower()"
   ]
  },
  {
   "cell_type": "code",
   "execution_count": 59,
   "id": "5fd5ac7d",
   "metadata": {},
   "outputs": [
    {
     "data": {
      "text/plain": [
       "['Data',\n",
       " 'Science',\n",
       " 'Academy',\n",
       " 'e',\n",
       " 'a',\n",
       " 'melhor',\n",
       " 'mameira',\n",
       " 'de',\n",
       " 'estar',\n",
       " 'preparado',\n",
       " 'para',\n",
       " 'o',\n",
       " 'mercado',\n",
       " 'de',\n",
       " 'trabalho',\n",
       " 'em',\n",
       " 'Ciencias',\n",
       " 'de',\n",
       " 'dados']"
      ]
     },
     "execution_count": 59,
     "metadata": {},
     "output_type": "execute_result"
    }
   ],
   "source": [
    "# separa uma Stirng em uma lista de elementos\n",
    "a.split()"
   ]
  },
  {
   "cell_type": "code",
   "execution_count": 61,
   "id": "8c8165c2",
   "metadata": {},
   "outputs": [
    {
     "data": {
      "text/plain": [
       "['Data Science Academ',\n",
       " ' e a melhor mameira de estar preparado para o mercado de trabalho em Ciencias de dados']"
      ]
     },
     "execution_count": 61,
     "metadata": {},
     "output_type": "execute_result"
    }
   ],
   "source": [
    "a.split('y')"
   ]
  },
  {
   "cell_type": "markdown",
   "id": "b63aa5de",
   "metadata": {},
   "source": [
    "#### Funções String"
   ]
  },
  {
   "cell_type": "code",
   "execution_count": 64,
   "id": "e1fd9cef",
   "metadata": {},
   "outputs": [],
   "source": [
    "s = 'Seja bem vindo ao universo da linguagem Python'"
   ]
  },
  {
   "cell_type": "code",
   "execution_count": 65,
   "id": "268df7f1",
   "metadata": {},
   "outputs": [
    {
     "data": {
      "text/plain": [
       "'Seja bem vindo ao universo da linguagem python'"
      ]
     },
     "execution_count": 65,
     "metadata": {},
     "output_type": "execute_result"
    }
   ],
   "source": [
    "# Primeira letra da frase em maiscula\n",
    "s.capitalize()"
   ]
  },
  {
   "cell_type": "code",
   "execution_count": 66,
   "id": "91b86e2b",
   "metadata": {},
   "outputs": [
    {
     "data": {
      "text/plain": [
       "4"
      ]
     },
     "execution_count": 66,
     "metadata": {},
     "output_type": "execute_result"
    }
   ],
   "source": [
    "# Conta caracteres de acordo com paramentros\n",
    "s.count('a')"
   ]
  },
  {
   "cell_type": "code",
   "execution_count": 67,
   "id": "7b3f9a33",
   "metadata": {},
   "outputs": [
    {
     "data": {
      "text/plain": [
       "False"
      ]
     },
     "execution_count": 67,
     "metadata": {},
     "output_type": "execute_result"
    }
   ],
   "source": [
    "# Verifica se a String e composta somente de numeros \n",
    "s.isalnum()"
   ]
  },
  {
   "cell_type": "code",
   "execution_count": 68,
   "id": "53fef685",
   "metadata": {},
   "outputs": [
    {
     "data": {
      "text/plain": [
       "False"
      ]
     },
     "execution_count": 68,
     "metadata": {},
     "output_type": "execute_result"
    }
   ],
   "source": [
    "# Verifica se a String esta toda em minisculo\n",
    "s.islower()"
   ]
  },
  {
   "cell_type": "code",
   "execution_count": 69,
   "id": "e92f083b",
   "metadata": {},
   "outputs": [
    {
     "data": {
      "text/plain": [
       "False"
      ]
     },
     "execution_count": 69,
     "metadata": {},
     "output_type": "execute_result"
    }
   ],
   "source": [
    "# Verica se a String e toda espaços\n",
    "a.isspace()"
   ]
  },
  {
   "cell_type": "code",
   "execution_count": 70,
   "id": "018efd95",
   "metadata": {},
   "outputs": [
    {
     "data": {
      "text/plain": [
       "False"
      ]
     },
     "execution_count": 70,
     "metadata": {},
     "output_type": "execute_result"
    }
   ],
   "source": [
    "# Verifica se a String terminar com determinado caracter\n",
    "s.endswith('o')"
   ]
  },
  {
   "cell_type": "markdown",
   "id": "59175d0f",
   "metadata": {},
   "source": [
    "#### Comparando Strign"
   ]
  },
  {
   "cell_type": "code",
   "execution_count": 72,
   "id": "46988d80",
   "metadata": {},
   "outputs": [
    {
     "name": "stdout",
     "output_type": "stream",
     "text": [
      "False\n"
     ]
    }
   ],
   "source": [
    "print(\"Python\" == \"R\")"
   ]
  },
  {
   "cell_type": "code",
   "execution_count": 73,
   "id": "aa300f6e",
   "metadata": {},
   "outputs": [
    {
     "name": "stdout",
     "output_type": "stream",
     "text": [
      "True\n"
     ]
    }
   ],
   "source": [
    "print(\"Python\" == \"Python\")"
   ]
  },
  {
   "cell_type": "code",
   "execution_count": null,
   "id": "17ed117d",
   "metadata": {},
   "outputs": [],
   "source": []
  }
 ],
 "metadata": {
  "kernelspec": {
   "display_name": "Python 3 (ipykernel)",
   "language": "python",
   "name": "python3"
  },
  "language_info": {
   "codemirror_mode": {
    "name": "ipython",
    "version": 3
   },
   "file_extension": ".py",
   "mimetype": "text/x-python",
   "name": "python",
   "nbconvert_exporter": "python",
   "pygments_lexer": "ipython3",
   "version": "3.9.13"
  }
 },
 "nbformat": 4,
 "nbformat_minor": 5
}
