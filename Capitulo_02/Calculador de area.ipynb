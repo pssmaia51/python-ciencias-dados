{
 "cells": [
  {
   "cell_type": "code",
   "execution_count": 6,
   "id": "0964dc85",
   "metadata": {},
   "outputs": [
    {
     "name": "stdout",
     "output_type": "stream",
     "text": [
      "Benvido ao Calculador de area!!!!\n"
     ]
    }
   ],
   "source": [
    "print('Benvido ao Calculador de area!!!!')"
   ]
  },
  {
   "cell_type": "code",
   "execution_count": 7,
   "id": "98717b3a",
   "metadata": {},
   "outputs": [
    {
     "name": "stdout",
     "output_type": "stream",
     "text": [
      "Insira o comprimento da base: 4\n"
     ]
    }
   ],
   "source": [
    "base = float(input('Insira o comprimento da base: '))"
   ]
  },
  {
   "cell_type": "code",
   "execution_count": 8,
   "id": "9a52fcc2",
   "metadata": {},
   "outputs": [
    {
     "name": "stdout",
     "output_type": "stream",
     "text": [
      "Insira altura: 6\n"
     ]
    }
   ],
   "source": [
    "altura = float(input('Insira altura: '))"
   ]
  },
  {
   "cell_type": "code",
   "execution_count": 9,
   "id": "35ed72c0",
   "metadata": {},
   "outputs": [],
   "source": [
    "area = base * altura"
   ]
  },
  {
   "cell_type": "code",
   "execution_count": 10,
   "id": "a32339ac",
   "metadata": {},
   "outputs": [
    {
     "name": "stdout",
     "output_type": "stream",
     "text": [
      "A area calculada do paralelograma e:  24.0\n"
     ]
    }
   ],
   "source": [
    "print(\"A area calculada do paralelograma e: \", area)"
   ]
  },
  {
   "cell_type": "code",
   "execution_count": null,
   "id": "90397c2f",
   "metadata": {},
   "outputs": [],
   "source": []
  }
 ],
 "metadata": {
  "kernelspec": {
   "display_name": "Python 3 (ipykernel)",
   "language": "python",
   "name": "python3"
  },
  "language_info": {
   "codemirror_mode": {
    "name": "ipython",
    "version": 3
   },
   "file_extension": ".py",
   "mimetype": "text/x-python",
   "name": "python",
   "nbconvert_exporter": "python",
   "pygments_lexer": "ipython3",
   "version": "3.9.13"
  }
 },
 "nbformat": 4,
 "nbformat_minor": 5
}
