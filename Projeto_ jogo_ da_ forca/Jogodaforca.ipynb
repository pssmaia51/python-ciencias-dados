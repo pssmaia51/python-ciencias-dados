{
 "cells": [
  {
   "cell_type": "markdown",
   "id": "27cbb95f",
   "metadata": {},
   "source": [
    "### Jogo da Forca - Projeto 01"
   ]
  },
  {
   "cell_type": "code",
   "execution_count": null,
   "id": "1f87f888",
   "metadata": {},
   "outputs": [
    {
     "name": "stdout",
     "output_type": "stream",
     "text": [
      "\n",
      "Bem-vindo ao Jogo da Forca!\n",
      "Adivinhe a palavra:\n",
      "\n",
      "\n",
      "Palavra:  _ _ _ _ _ _ _\n",
      "Tentativa(s) restantes: 6\n",
      "Letras erradas:  \n"
     ]
    }
   ],
   "source": [
    "import random\n",
    "from os import system, name\n",
    "\n",
    "# Função para limpar a tela\n",
    "def limpar_tela():\n",
    "    # Windows\n",
    "    if name == 'nt':\n",
    "        _ = system('cls')\n",
    "    # macOS ou Linux    \n",
    "    else:\n",
    "        _ = system('clear')\n",
    "\n",
    "# Função principal do jogo\n",
    "def game():\n",
    "    \n",
    "    limpar_tela()\n",
    "    print(\"\\nBem-vindo ao Jogo da Forca!\")\n",
    "    print(\"Adivinhe a palavra:\\n\")\n",
    "    \n",
    "    # Lista de palavras do jogo\n",
    "    palavras = ['banana', 'abacate', 'uva', 'morango', 'laranja']\n",
    "    \n",
    "    # Escolher uma palavra aleatoriamente\n",
    "    palavra = random.choice(palavras).lower()\n",
    "    \n",
    "    # Lista para as letras descobertas (usando list comprehension)\n",
    "    letras_descobertas = ['_' for letra in palavra]\n",
    "    tentativas_restantes = 6\n",
    "    letras_erradas = []\n",
    "    \n",
    "    # Loop enquanto houver tentativas e a palavra não for completamente descoberta\n",
    "    while tentativas_restantes > 0 and \"_\" in letras_descobertas:\n",
    "        print(\"\\nPalavra: \", ' '.join(letras_descobertas))\n",
    "        print(f\"Tentativa(s) restantes: {tentativas_restantes}\")\n",
    "        print(\"Letras erradas: \", ' '.join(letras_erradas))\n",
    "        \n",
    "        # Solicitar letra do jogador\n",
    "        tentativa = input(\"Digite uma letra: \").lower()\n",
    "        \n",
    "        # Verificar se a letra já foi digitada\n",
    "        if tentativa in letras_erradas or tentativa in letras_descobertas:\n",
    "            print(\"Você já tentou essa letra, escolha outra.\")\n",
    "            continue\n",
    "        \n",
    "        # Verificar se a tentativa está na palavra\n",
    "        if tentativa in palavra:\n",
    "            # Atualizar as letras descobertas\n",
    "            for index, letra in enumerate(palavra):\n",
    "                if tentativa == letra:\n",
    "                    letras_descobertas[index] = letra\n",
    "        else:\n",
    "            # Diminuir o número de tentativas e adicionar a letra às erradas\n",
    "            tentativas_restantes -= 1\n",
    "            letras_erradas.append(tentativa)\n",
    "        \n",
    "        # Verificar se a palavra foi descoberta\n",
    "        if \"_\" not in letras_descobertas:\n",
    "            print(\"\\nParabéns! Você venceu, a palavra era:\", palavra)\n",
    "            break\n",
    "\n",
    "    # Se acabarem as tentativas e a palavra não for descoberta\n",
    "    if \"_\" in letras_descobertas:\n",
    "        print(\"\\nVocê perdeu! A palavra era:\", palavra)\n",
    "\n",
    "# Bloco principal (main)\n",
    "if __name__ == \"__main__\":\n",
    "    game()\n",
    "    print(\"\\nParabéns pelo desenvolvimento do projeto!\\n\")"
   ]
  },
  {
   "cell_type": "code",
   "execution_count": null,
   "id": "c45a7d3e",
   "metadata": {},
   "outputs": [],
   "source": []
  },
  {
   "cell_type": "code",
   "execution_count": null,
   "id": "880bbb03",
   "metadata": {},
   "outputs": [],
   "source": []
  },
  {
   "cell_type": "code",
   "execution_count": null,
   "id": "7f0f1605",
   "metadata": {},
   "outputs": [],
   "source": []
  },
  {
   "cell_type": "code",
   "execution_count": null,
   "id": "68466d74",
   "metadata": {},
   "outputs": [],
   "source": []
  }
 ],
 "metadata": {
  "kernelspec": {
   "display_name": "Python 3 (ipykernel)",
   "language": "python",
   "name": "python3"
  },
  "language_info": {
   "codemirror_mode": {
    "name": "ipython",
    "version": 3
   },
   "file_extension": ".py",
   "mimetype": "text/x-python",
   "name": "python",
   "nbconvert_exporter": "python",
   "pygments_lexer": "ipython3",
   "version": "3.9.13"
  }
 },
 "nbformat": 4,
 "nbformat_minor": 5
}
