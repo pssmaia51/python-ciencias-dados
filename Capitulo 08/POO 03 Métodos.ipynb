{
 "cells": [
  {
   "cell_type": "code",
   "execution_count": 5,
   "id": "5492e985",
   "metadata": {},
   "outputs": [],
   "source": [
    "# Criando classe circulo\n",
    "class Circulo():\n",
    "    \n",
    "    # Criando constante\n",
    "    pi = 3.14\n",
    "    \n",
    "    # Quando um objeto desta classe for criado, este metodo sera execultado e o valor padrão do circulo sera 5\n",
    "    def __init__(self, raio = 5):\n",
    "        self.raio = raio\n",
    "        \n",
    "    # Esse metodo calcula a area\n",
    "    def area(self):\n",
    "        return (self.raio  *  self.raio) * Circulo.pi\n",
    "    \n",
    "    # Metodo para gerar um novo raio\n",
    "    def setRaio (self, novoRaio):\n",
    "        self.raio = novoRaio\n",
    "        \n",
    "    # Metodo para obter raio do circulo\n",
    "    def getRaio(self):\n",
    "        return self.raio    "
   ]
  },
  {
   "cell_type": "code",
   "execution_count": 6,
   "id": "3c8282cf",
   "metadata": {},
   "outputs": [],
   "source": [
    "# Criando Instancia da Classe circulo\n",
    "circ = Circulo()"
   ]
  },
  {
   "cell_type": "code",
   "execution_count": 8,
   "id": "95f1f782",
   "metadata": {},
   "outputs": [
    {
     "data": {
      "text/plain": [
       "5"
      ]
     },
     "execution_count": 8,
     "metadata": {},
     "output_type": "execute_result"
    }
   ],
   "source": [
    "# Execultando instancia da classe circulo\n",
    "circ.getRaio()"
   ]
  },
  {
   "cell_type": "code",
   "execution_count": 9,
   "id": "a11350da",
   "metadata": {},
   "outputs": [],
   "source": [
    "# Suscrever o valor de atributo\n",
    "circ1 = Circulo(7)"
   ]
  },
  {
   "cell_type": "code",
   "execution_count": 10,
   "id": "608637da",
   "metadata": {},
   "outputs": [
    {
     "data": {
      "text/plain": [
       "7"
      ]
     },
     "execution_count": 10,
     "metadata": {},
     "output_type": "execute_result"
    }
   ],
   "source": [
    "circ1.getRaio()"
   ]
  },
  {
   "cell_type": "code",
   "execution_count": 12,
   "id": "ce79238c",
   "metadata": {},
   "outputs": [
    {
     "name": "stdout",
     "output_type": "stream",
     "text": [
      "Área do círculo com raio padrão: 78.5\n",
      "Área do círculo com novo raio (7): 153.86\n",
      "Raio atual do círculo: 7\n"
     ]
    }
   ],
   "source": [
    "# Criando uma instância da classe Circulo com o raio padrão\n",
    "circulo1 = Circulo()\n",
    "\n",
    "# Calculando e imprimindo a área do circulo1\n",
    "print(\"Área do círculo com raio padrão:\", circulo1.area())\n",
    "\n",
    "# Modificando o raio do círculo\n",
    "circulo1.setRaio(7)\n",
    "\n",
    "# Calculando e imprimindo a área com o novo raio\n",
    "print(\"Área do círculo com novo raio (7):\", circulo1.area())\n",
    "\n",
    "# Obtendo o valor atual do raio\n",
    "print(\"Raio atual do círculo:\", circulo1.getRaio())"
   ]
  },
  {
   "cell_type": "code",
   "execution_count": null,
   "id": "9bbc0bcc",
   "metadata": {},
   "outputs": [],
   "source": []
  }
 ],
 "metadata": {
  "kernelspec": {
   "display_name": "Python 3 (ipykernel)",
   "language": "python",
   "name": "python3"
  },
  "language_info": {
   "codemirror_mode": {
    "name": "ipython",
    "version": 3
   },
   "file_extension": ".py",
   "mimetype": "text/x-python",
   "name": "python",
   "nbconvert_exporter": "python",
   "pygments_lexer": "ipython3",
   "version": "3.11.5"
  }
 },
 "nbformat": 4,
 "nbformat_minor": 5
}
