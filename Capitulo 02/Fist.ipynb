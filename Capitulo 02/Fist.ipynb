{
 "cells": [
  {
   "cell_type": "code",
   "execution_count": 2,
   "id": "688abd1c",
   "metadata": {},
   "outputs": [
    {
     "name": "stdout",
     "output_type": "stream",
     "text": [
      "Por favor insira seu nomePaulo Maia\n",
      "Olá, Paulo Maia! Bem-vindo ao mundo do Python.\n"
     ]
    }
   ],
   "source": [
    "nome = input(\"Por favor insira seu nome\")\n",
    "print(f\"Olá, {nome}! Bem-vindo ao mundo do Python.\")"
   ]
  },
  {
   "cell_type": "code",
   "execution_count": null,
   "id": "81539071",
   "metadata": {},
   "outputs": [],
   "source": []
  }
 ],
 "metadata": {
  "kernelspec": {
   "display_name": "Python 3 (ipykernel)",
   "language": "python",
   "name": "python3"
  },
  "language_info": {
   "codemirror_mode": {
    "name": "ipython",
    "version": 3
   },
   "file_extension": ".py",
   "mimetype": "text/x-python",
   "name": "python",
   "nbconvert_exporter": "python",
   "pygments_lexer": "ipython3",
   "version": "3.9.13"
  }
 },
 "nbformat": 4,
 "nbformat_minor": 5
}
