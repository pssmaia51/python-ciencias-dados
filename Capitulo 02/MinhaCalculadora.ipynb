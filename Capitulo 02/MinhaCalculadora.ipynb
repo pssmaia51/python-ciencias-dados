{
 "cells": [
  {
   "cell_type": "code",
   "execution_count": 31,
   "id": "4b322135",
   "metadata": {},
   "outputs": [
    {
     "name": "stdout",
     "output_type": "stream",
     "text": [
      "Benvindo a calculadora simples\n"
     ]
    }
   ],
   "source": [
    "print('Benvindo a calculadora simples')"
   ]
  },
  {
   "cell_type": "code",
   "execution_count": 13,
   "id": "3e2c93c7",
   "metadata": {},
   "outputs": [
    {
     "name": "stdout",
     "output_type": "stream",
     "text": [
      "Insira o primeiro numero: 30\n"
     ]
    }
   ],
   "source": [
    "num1 = float(input('Insira o primeiro numero: '))"
   ]
  },
  {
   "cell_type": "code",
   "execution_count": 27,
   "id": "dd206267",
   "metadata": {},
   "outputs": [
    {
     "name": "stdout",
     "output_type": "stream",
     "text": [
      "Insira o segundo numero: 0\n"
     ]
    }
   ],
   "source": [
    "num2 = float(input('Insira o segundo numero: '))"
   ]
  },
  {
   "cell_type": "code",
   "execution_count": 29,
   "id": "30e44bc7",
   "metadata": {},
   "outputs": [
    {
     "name": "stdout",
     "output_type": "stream",
     "text": [
      "Digite operação (+, -, *, /): @\n"
     ]
    }
   ],
   "source": [
    "operacao = input('Digite operação (+, -, *, /): ')"
   ]
  },
  {
   "cell_type": "code",
   "execution_count": 30,
   "id": "242e4130",
   "metadata": {},
   "outputs": [
    {
     "name": "stdout",
     "output_type": "stream",
     "text": [
      "Operação inválida!\n"
     ]
    }
   ],
   "source": [
    "if operacao == '+':\n",
    "    resultado = num1 + num2\n",
    "    print(\"O resultado da soma é:\", resultado)\n",
    "elif operacao == '-':\n",
    "    resultado = num1 - num2\n",
    "    print(\"O resultado da subtração é:\", resultado)\n",
    "elif operacao == '*':\n",
    "    resultado = num1 * num2\n",
    "    print(\"O resultado da multiplicação é:\", resultado)\n",
    "elif operacao == '/':\n",
    "    if num2 != 0:\n",
    "        resultado = num1 / num2\n",
    "        print(\"O resultado da divisão é:\", resultado)\n",
    "    else:\n",
    "        print(\"Erro: Divisão por zero!\")\n",
    "else:\n",
    "    print(\"Operação inválida!\")\n",
    "    \n",
    "                   \n",
    "                   "
   ]
  },
  {
   "cell_type": "code",
   "execution_count": null,
   "id": "39dd3205",
   "metadata": {},
   "outputs": [],
   "source": []
  }
 ],
 "metadata": {
  "kernelspec": {
   "display_name": "Python 3 (ipykernel)",
   "language": "python",
   "name": "python3"
  },
  "language_info": {
   "codemirror_mode": {
    "name": "ipython",
    "version": 3
   },
   "file_extension": ".py",
   "mimetype": "text/x-python",
   "name": "python",
   "nbconvert_exporter": "python",
   "pygments_lexer": "ipython3",
   "version": "3.9.13"
  }
 },
 "nbformat": 4,
 "nbformat_minor": 5
}
