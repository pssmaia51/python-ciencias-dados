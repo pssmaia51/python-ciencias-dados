{
 "cells": [
  {
   "cell_type": "markdown",
   "id": "059b3e19",
   "metadata": {},
   "source": [
    "### ALGORITIMO BUBBLE SORT\n",
    "E um algoritmo simples de ordenação que recebe como entrada uma lista de elementos e produz uma lista ordenada de acordo com um critério"
   ]
  },
  {
   "cell_type": "markdown",
   "id": "92b2bb2c",
   "metadata": {},
   "source": [
    "Inicio \n",
    "   para cada elemento i array de tamanho n \n",
    "      para cada elemento j no array de tamanho n - 1\n",
    "        se o elento i for maior que o elemento j\n",
    "        troque os elementos i e j\n",
    "        exiba o array ordenado\n",
    "        Se nenhum elemento foi trocado, o array é ordenado\n",
    "Fim"
   ]
  },
  {
   "cell_type": "code",
   "execution_count": 11,
   "id": "74c9576d",
   "metadata": {
    "scrolled": true
   },
   "outputs": [
    {
     "name": "stdout",
     "output_type": "stream",
     "text": [
      "Benvindo ao sistema de ordenação Buble Sort\n"
     ]
    }
   ],
   "source": [
    "print(\"Benvindo ao sistema de ordenação Buble Sort\")"
   ]
  },
  {
   "cell_type": "code",
   "execution_count": 12,
   "id": "a316b3fa",
   "metadata": {},
   "outputs": [],
   "source": [
    "lista = [6,7,8,3,10,19,4,1,0,61,30,16,17,82,29,34,43,21,11,39,56,67,12]"
   ]
  },
  {
   "cell_type": "code",
   "execution_count": 13,
   "id": "0c39b6a1",
   "metadata": {},
   "outputs": [],
   "source": [
    "def bubble_sort(arr):\n",
    "    n = len(arr)\n",
    "    # Percorre todos os elementos da lista\n",
    "    for i in range(n):\n",
    "        swapped = False\n",
    "        # A última i elementos já estão no lugar\n",
    "        for j in range(0, n-i-1):\n",
    "            # Percorre a lista do início até n-i-1\n",
    "            # Troca se o elemento encontrado for maior que o próximo elemento\n",
    "            if arr[j] > arr[j+1]:\n",
    "                arr[j], arr[j+1] = arr[j+1], arr[j]\n",
    "                swapped = True\n",
    "        # Se nenhum elemento foi trocado, o array é ordenado\n",
    "        if not swapped:\n",
    "            break\n",
    "    return arr"
   ]
  },
  {
   "cell_type": "code",
   "execution_count": 14,
   "id": "9dc50b5b",
   "metadata": {},
   "outputs": [
    {
     "name": "stdout",
     "output_type": "stream",
     "text": [
      "Lista nã ordenada [0, 1, 3, 4, 6, 7, 8, 10, 11, 12, 16, 17, 19, 21, 29, 30, 34, 39, 43, 56, 61, 67, 82]\n"
     ]
    }
   ],
   "source": [
    "print(\"Lista nã ordenada\", bubble_sort(lista))"
   ]
  },
  {
   "cell_type": "code",
   "execution_count": 15,
   "id": "84749e78",
   "metadata": {},
   "outputs": [
    {
     "name": "stdout",
     "output_type": "stream",
     "text": [
      "Array ordenado: [0, 1, 3, 4, 6, 7, 8, 10, 11, 12, 16, 17, 19, 21, 29, 30, 34, 39, 43, 56, 61, 67, 82]\n"
     ]
    }
   ],
   "source": [
    "sorted_array = bubble_sort(lista)\n",
    "print(\"Array ordenado:\", sorted_array)"
   ]
  },
  {
   "cell_type": "code",
   "execution_count": null,
   "id": "f66fc86c",
   "metadata": {},
   "outputs": [],
   "source": []
  }
 ],
 "metadata": {
  "kernelspec": {
   "display_name": "Python 3 (ipykernel)",
   "language": "python",
   "name": "python3"
  },
  "language_info": {
   "codemirror_mode": {
    "name": "ipython",
    "version": 3
   },
   "file_extension": ".py",
   "mimetype": "text/x-python",
   "name": "python",
   "nbconvert_exporter": "python",
   "pygments_lexer": "ipython3",
   "version": "3.9.13"
  }
 },
 "nbformat": 4,
 "nbformat_minor": 5
}
