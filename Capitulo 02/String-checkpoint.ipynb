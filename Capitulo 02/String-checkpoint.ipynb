{
 "cells": [
  {
   "cell_type": "markdown",
   "id": "61d5fac2",
   "metadata": {},
   "source": [
    "## Criando uma Strinng\n",
    "#### Para criar uma string no Python voce pode usar aspas simples '' ou aspas duplas \"\""
   ]
  },
  {
   "cell_type": "code",
   "execution_count": 1,
   "id": "139095f5",
   "metadata": {},
   "outputs": [
    {
     "data": {
      "text/plain": [
       "'oi'"
      ]
     },
     "execution_count": 1,
     "metadata": {},
     "output_type": "execute_result"
    }
   ],
   "source": [
    "# Uma palavra\n",
    "'oi'"
   ]
  },
  {
   "cell_type": "code",
   "execution_count": 2,
   "id": "aeeb8851",
   "metadata": {},
   "outputs": [
    {
     "data": {
      "text/plain": [
       "'Criando uma String em Python'"
      ]
     },
     "execution_count": 2,
     "metadata": {},
     "output_type": "execute_result"
    }
   ],
   "source": [
    "# Uma frase\n",
    "'Criando uma String em Python'"
   ]
  },
  {
   "cell_type": "code",
   "execution_count": 3,
   "id": "c5125085",
   "metadata": {},
   "outputs": [
    {
     "data": {
      "text/plain": [
       "'oi'"
      ]
     },
     "execution_count": 3,
     "metadata": {},
     "output_type": "execute_result"
    }
   ],
   "source": [
    "# Podemos usar aspas duplas\n",
    "\"oi\""
   ]
  },
  {
   "cell_type": "code",
   "execution_count": 6,
   "id": "db5265d0",
   "metadata": {},
   "outputs": [
    {
     "data": {
      "text/plain": [
       "\"Criando uma String em 'Python'\""
      ]
     },
     "execution_count": 6,
     "metadata": {},
     "output_type": "execute_result"
    }
   ],
   "source": [
    "\"Criando uma String em 'Python'\""
   ]
  },
  {
   "cell_type": "markdown",
   "id": "a56d6193",
   "metadata": {},
   "source": [
    "#### Imprimindo uma String"
   ]
  },
  {
   "cell_type": "code",
   "execution_count": 7,
   "id": "05c62f17",
   "metadata": {},
   "outputs": [
    {
     "name": "stdout",
     "output_type": "stream",
     "text": [
      "Testando String em python\n"
     ]
    }
   ],
   "source": [
    "print('Testando String em python')"
   ]
  },
  {
   "cell_type": "code",
   "execution_count": 8,
   "id": "858503eb",
   "metadata": {},
   "outputs": [
    {
     "name": "stdout",
     "output_type": "stream",
     "text": [
      "Testando \n",
      "String \n",
      "em \n",
      "python\n"
     ]
    }
   ],
   "source": [
    "print('Testando \\nString \\nem \\npython')"
   ]
  },
  {
   "cell_type": "markdown",
   "id": "3a01a0d7",
   "metadata": {},
   "source": [
    "#### Indexação String"
   ]
  },
  {
   "cell_type": "code",
   "execution_count": 46,
   "id": "187dfc38",
   "metadata": {},
   "outputs": [],
   "source": [
    "# Atribuindo uma Strig\n",
    "a = 'Data Science Academy'"
   ]
  },
  {
   "cell_type": "code",
   "execution_count": 47,
   "id": "209615d5",
   "metadata": {},
   "outputs": [
    {
     "name": "stdout",
     "output_type": "stream",
     "text": [
      "Data Science Academy\n"
     ]
    }
   ],
   "source": [
    "print(a)"
   ]
  },
  {
   "cell_type": "markdown",
   "id": "485b5d33",
   "metadata": {},
   "source": [
    "### Indexação em python começando por zero"
   ]
  },
  {
   "cell_type": "code",
   "execution_count": 12,
   "id": "0b677d8d",
   "metadata": {},
   "outputs": [
    {
     "data": {
      "text/plain": [
       "'D'"
      ]
     },
     "execution_count": 12,
     "metadata": {},
     "output_type": "execute_result"
    }
   ],
   "source": [
    "a[0]"
   ]
  },
  {
   "cell_type": "code",
   "execution_count": 13,
   "id": "a5e6fe66",
   "metadata": {},
   "outputs": [
    {
     "data": {
      "text/plain": [
       "'a'"
      ]
     },
     "execution_count": 13,
     "metadata": {},
     "output_type": "execute_result"
    }
   ],
   "source": [
    "a[1]"
   ]
  },
  {
   "cell_type": "code",
   "execution_count": 14,
   "id": "26de6934",
   "metadata": {},
   "outputs": [
    {
     "data": {
      "text/plain": [
       "'t'"
      ]
     },
     "execution_count": 14,
     "metadata": {},
     "output_type": "execute_result"
    }
   ],
   "source": [
    "a[2]"
   ]
  },
  {
   "cell_type": "code",
   "execution_count": 15,
   "id": "cac5574e",
   "metadata": {},
   "outputs": [
    {
     "data": {
      "text/plain": [
       "'a'"
      ]
     },
     "execution_count": 15,
     "metadata": {},
     "output_type": "execute_result"
    }
   ],
   "source": [
    "a[3]"
   ]
  },
  {
   "cell_type": "code",
   "execution_count": 16,
   "id": "92906f3c",
   "metadata": {},
   "outputs": [
    {
     "data": {
      "text/plain": [
       "' '"
      ]
     },
     "execution_count": 16,
     "metadata": {},
     "output_type": "execute_result"
    }
   ],
   "source": [
    "a[4]"
   ]
  },
  {
   "cell_type": "code",
   "execution_count": 48,
   "id": "8e39ec01",
   "metadata": {},
   "outputs": [
    {
     "data": {
      "text/plain": [
       "'Data Science Academy'"
      ]
     },
     "execution_count": 48,
     "metadata": {},
     "output_type": "execute_result"
    }
   ],
   "source": [
    "# A string original permanece inalterada\n",
    "a"
   ]
  },
  {
   "cell_type": "code",
   "execution_count": 21,
   "id": "5945f5ba",
   "metadata": {},
   "outputs": [
    {
     "data": {
      "text/plain": [
       "'ata Science Academy'"
      ]
     },
     "execution_count": 21,
     "metadata": {},
     "output_type": "execute_result"
    }
   ],
   "source": [
    "# Retorna todos os elementos da string começando pela poisição\n",
    "a[1:]"
   ]
  },
  {
   "cell_type": "code",
   "execution_count": 18,
   "id": "d6a2b510",
   "metadata": {},
   "outputs": [
    {
     "data": {
      "text/plain": [
       "'Dat'"
      ]
     },
     "execution_count": 18,
     "metadata": {},
     "output_type": "execute_result"
    }
   ],
   "source": [
    "#retorna toda a cadeia até a posição\n",
    "a[:3]"
   ]
  },
  {
   "cell_type": "code",
   "execution_count": 19,
   "id": "55e4fded",
   "metadata": {},
   "outputs": [
    {
     "data": {
      "text/plain": [
       "'y'"
      ]
     },
     "execution_count": 19,
     "metadata": {},
     "output_type": "execute_result"
    }
   ],
   "source": [
    "# Indexação negativa ler de tras pra frente \n",
    "a[-1]"
   ]
  },
  {
   "cell_type": "code",
   "execution_count": 20,
   "id": "1eef05b6",
   "metadata": {},
   "outputs": [
    {
     "data": {
      "text/plain": [
       "'Data Science Academ'"
      ]
     },
     "execution_count": 20,
     "metadata": {},
     "output_type": "execute_result"
    }
   ],
   "source": [
    "# Retorna tudo exceto a ultima letra\n",
    "a[:-1]"
   ]
  },
  {
   "cell_type": "markdown",
   "id": "59ebf305",
   "metadata": {},
   "source": [
    "#### Também podemos usar a notação de indice e fatia a string em pedaços especificos o padrão e 1, por exemplo podemos usar dois pontos duas vezes em uma linha e em seguida um numero que espefifica a frenquencia para retornar elementos "
   ]
  },
  {
   "cell_type": "code",
   "execution_count": 49,
   "id": "583a3523",
   "metadata": {},
   "outputs": [
    {
     "data": {
      "text/plain": [
       "'Data Science Academy'"
      ]
     },
     "execution_count": 49,
     "metadata": {},
     "output_type": "execute_result"
    }
   ],
   "source": [
    "a[::1]"
   ]
  },
  {
   "cell_type": "code",
   "execution_count": 50,
   "id": "ca5cade5",
   "metadata": {},
   "outputs": [
    {
     "data": {
      "text/plain": [
       "'Dt cec cdm'"
      ]
     },
     "execution_count": 50,
     "metadata": {},
     "output_type": "execute_result"
    }
   ],
   "source": [
    "a[::2]"
   ]
  },
  {
   "cell_type": "markdown",
   "id": "8802e61d",
   "metadata": {},
   "source": [
    "#### Propietades da String"
   ]
  },
  {
   "cell_type": "code",
   "execution_count": 25,
   "id": "cba55bfd",
   "metadata": {},
   "outputs": [
    {
     "ename": "TypeError",
     "evalue": "'str' object does not support item assignment",
     "output_type": "error",
     "traceback": [
      "\u001b[1;31m---------------------------------------------------------------------------\u001b[0m",
      "\u001b[1;31mTypeError\u001b[0m                                 Traceback (most recent call last)",
      "\u001b[1;32m~\\AppData\\Local\\Temp\\ipykernel_5612\\1533103065.py\u001b[0m in \u001b[0;36m<module>\u001b[1;34m\u001b[0m\n\u001b[0;32m      1\u001b[0m \u001b[1;31m# Alterendo um Caracter(Não e possivel alterar um elemto da String)\u001b[0m\u001b[1;33m\u001b[0m\u001b[1;33m\u001b[0m\u001b[0m\n\u001b[1;32m----> 2\u001b[1;33m \u001b[0ma\u001b[0m\u001b[1;33m[\u001b[0m\u001b[1;36m0\u001b[0m\u001b[1;33m]\u001b[0m \u001b[1;33m=\u001b[0m \u001b[1;34m'x'\u001b[0m\u001b[1;33m\u001b[0m\u001b[1;33m\u001b[0m\u001b[0m\n\u001b[0m",
      "\u001b[1;31mTypeError\u001b[0m: 'str' object does not support item assignment"
     ]
    }
   ],
   "source": [
    "# Alterendo um Caracter(Não e possivel alterar um elemto da String)\n",
    "a[0] = 'x'"
   ]
  },
  {
   "cell_type": "code",
   "execution_count": 51,
   "id": "2609eee3",
   "metadata": {},
   "outputs": [
    {
     "data": {
      "text/plain": [
       "'Data Science Academy e a melhor mameira de estar preparado para o mercado de trabalho em Ciencias de dados'"
      ]
     },
     "execution_count": 51,
     "metadata": {},
     "output_type": "execute_result"
    }
   ],
   "source": [
    "a + ' ' 'e a melhor mameira de estar preparado para o mercado de trabalho em Ciencias de dados'"
   ]
  },
  {
   "cell_type": "code",
   "execution_count": 52,
   "id": "22de207d",
   "metadata": {},
   "outputs": [],
   "source": [
    "a = a + ' ' + 'e a melhor mameira de estar preparado para o mercado de trabalho em Ciencias de dados'"
   ]
  },
  {
   "cell_type": "code",
   "execution_count": 53,
   "id": "66e40dfe",
   "metadata": {},
   "outputs": [
    {
     "name": "stdout",
     "output_type": "stream",
     "text": [
      "Data Science Academy e a melhor mameira de estar preparado para o mercado de trabalho em Ciencias de dados\n"
     ]
    }
   ],
   "source": [
    "print(a)"
   ]
  },
  {
   "cell_type": "code",
   "execution_count": 30,
   "id": "b9691c1c",
   "metadata": {},
   "outputs": [],
   "source": [
    "letra = 'w'"
   ]
  },
  {
   "cell_type": "code",
   "execution_count": 31,
   "id": "b10c91db",
   "metadata": {},
   "outputs": [
    {
     "data": {
      "text/plain": [
       "'www'"
      ]
     },
     "execution_count": 31,
     "metadata": {},
     "output_type": "execute_result"
    }
   ],
   "source": [
    "letra * 3"
   ]
  },
  {
   "cell_type": "markdown",
   "id": "e9237e0d",
   "metadata": {},
   "source": [
    "#### Função Buit-in String"
   ]
  },
  {
   "cell_type": "code",
   "execution_count": 55,
   "id": "765631a5",
   "metadata": {},
   "outputs": [
    {
     "data": {
      "text/plain": [
       "'Data Science Academy e a melhor mameira de estar preparado para o mercado de trabalho em Ciencias de dados'"
      ]
     },
     "execution_count": 55,
     "metadata": {},
     "output_type": "execute_result"
    }
   ],
   "source": [
    "a"
   ]
  },
  {
   "cell_type": "code",
   "execution_count": 57,
   "id": "abdb5806",
   "metadata": {},
   "outputs": [
    {
     "data": {
      "text/plain": [
       "'DATA SCIENCE ACADEMY E A MELHOR MAMEIRA DE ESTAR PREPARADO PARA O MERCADO DE TRABALHO EM CIENCIAS DE DADOS'"
      ]
     },
     "execution_count": 57,
     "metadata": {},
     "output_type": "execute_result"
    }
   ],
   "source": [
    "# Upper case (Maiscula)\n",
    "a.upper() "
   ]
  },
  {
   "cell_type": "code",
   "execution_count": 58,
   "id": "d82428c9",
   "metadata": {},
   "outputs": [
    {
     "data": {
      "text/plain": [
       "'data science academy e a melhor mameira de estar preparado para o mercado de trabalho em ciencias de dados'"
      ]
     },
     "execution_count": 58,
     "metadata": {},
     "output_type": "execute_result"
    }
   ],
   "source": [
    "a.lower()"
   ]
  },
  {
   "cell_type": "code",
   "execution_count": 59,
   "id": "5f5be443",
   "metadata": {},
   "outputs": [
    {
     "data": {
      "text/plain": [
       "['Data',\n",
       " 'Science',\n",
       " 'Academy',\n",
       " 'e',\n",
       " 'a',\n",
       " 'melhor',\n",
       " 'mameira',\n",
       " 'de',\n",
       " 'estar',\n",
       " 'preparado',\n",
       " 'para',\n",
       " 'o',\n",
       " 'mercado',\n",
       " 'de',\n",
       " 'trabalho',\n",
       " 'em',\n",
       " 'Ciencias',\n",
       " 'de',\n",
       " 'dados']"
      ]
     },
     "execution_count": 59,
     "metadata": {},
     "output_type": "execute_result"
    }
   ],
   "source": [
    "a.split()"
   ]
  },
  {
   "cell_type": "code",
   "execution_count": 61,
   "id": "dda59e8e",
   "metadata": {},
   "outputs": [
    {
     "data": {
      "text/plain": [
       "['Data Science Academ',\n",
       " ' e a melhor mameira de estar preparado para o mercado de trabalho em Ciencias de dados']"
      ]
     },
     "execution_count": 61,
     "metadata": {},
     "output_type": "execute_result"
    }
   ],
   "source": [
    "a.split('y')"
   ]
  },
  {
   "cell_type": "code",
   "execution_count": null,
   "id": "1489bfbf",
   "metadata": {},
   "outputs": [],
   "source": []
  }
 ],
 "metadata": {
  "kernelspec": {
   "display_name": "Python 3 (ipykernel)",
   "language": "python",
   "name": "python3"
  },
  "language_info": {
   "codemirror_mode": {
    "name": "ipython",
    "version": 3
   },
   "file_extension": ".py",
   "mimetype": "text/x-python",
   "name": "python",
   "nbconvert_exporter": "python",
   "pygments_lexer": "ipython3",
   "version": "3.9.13"
  }
 },
 "nbformat": 4,
 "nbformat_minor": 5
}
