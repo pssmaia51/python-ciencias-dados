{
 "cells": [
  {
   "cell_type": "markdown",
   "id": "f9ba9bd3",
   "metadata": {},
   "source": [
    "gere código python que crie uma lista de 1 a 100 e então imprima os números pares, mais somente se os numeros forem divisiveis por 4"
   ]
  },
  {
   "cell_type": "code",
   "execution_count": 4,
   "id": "8b0e4d79",
   "metadata": {},
   "outputs": [
    {
     "name": "stdout",
     "output_type": "stream",
     "text": [
      "4\n",
      "8\n",
      "12\n",
      "16\n",
      "20\n",
      "24\n",
      "28\n",
      "32\n",
      "36\n",
      "40\n",
      "44\n",
      "48\n",
      "52\n",
      "56\n",
      "60\n",
      "64\n",
      "68\n",
      "72\n",
      "76\n",
      "80\n",
      "84\n",
      "88\n",
      "92\n",
      "96\n",
      "100\n"
     ]
    }
   ],
   "source": [
    "lista = list(range(1, 101))\n",
    "for numero in lista:\n",
    "    if numero % 2 == 0 and numero % 4 == 0:\n",
    "        print(numero)"
   ]
  },
  {
   "cell_type": "markdown",
   "id": "605aea75",
   "metadata": {},
   "source": [
    "gere código python que crie uma lista de 1 a 100 e então imprima os números pares, mais somente se os numeros forem divisiveis por 4 com list comprehension"
   ]
  },
  {
   "cell_type": "code",
   "execution_count": 9,
   "id": "aac96371",
   "metadata": {},
   "outputs": [
    {
     "name": "stdout",
     "output_type": "stream",
     "text": [
      "[4, 8, 12, 16, 20, 24, 28, 32, 36, 40, 44, 48, 52, 56, 60, 64, 68, 72, 76, 80, 84, 88, 92, 96, 100]\n"
     ]
    }
   ],
   "source": [
    "# Cria uma lista de 1 a 100\n",
    "lista = list(range(1, 101))\n",
    "\n",
    "# Usa list comprehension para encontrar números pares divisíveis por 4 e os imprime\n",
    "pares_divisiveis_por_4 = [numero for numero in lista if numero % 2 == 0 and numero % 4 == 0]\n",
    "\n",
    "# Imprime os números que atendem às condições\n",
    "print(pares_divisiveis_por_4)"
   ]
  },
  {
   "cell_type": "code",
   "execution_count": 12,
   "id": "3a466d34",
   "metadata": {},
   "outputs": [
    {
     "data": {
      "text/plain": [
       "list"
      ]
     },
     "execution_count": 12,
     "metadata": {},
     "output_type": "execute_result"
    }
   ],
   "source": [
    "type(pares_divisiveis_por_4)"
   ]
  },
  {
   "cell_type": "markdown",
   "id": "861f7251",
   "metadata": {},
   "source": [
    "# Fim"
   ]
  }
 ],
 "metadata": {
  "kernelspec": {
   "display_name": "Python 3 (ipykernel)",
   "language": "python",
   "name": "python3"
  },
  "language_info": {
   "codemirror_mode": {
    "name": "ipython",
    "version": 3
   },
   "file_extension": ".py",
   "mimetype": "text/x-python",
   "name": "python",
   "nbconvert_exporter": "python",
   "pygments_lexer": "ipython3",
   "version": "3.9.13"
  }
 },
 "nbformat": 4,
 "nbformat_minor": 5
}
